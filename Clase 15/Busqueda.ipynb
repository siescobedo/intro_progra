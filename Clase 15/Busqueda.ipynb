{
 "cells": [
  {
   "cell_type": "markdown",
   "metadata": {},
   "source": [
    "# Búsqueda\n",
    "\n",
    "Dada una lista de elementos, nos gustaría poder encontrar la posición de un elemento que cumpla alguna determinada propiedad.\n",
    "\n",
    "## Búsqueda lineal\n",
    "Una alternativa es recorrer la lista desde inicio a fin revisando si cada elemento cumple o no con la propiedad. Cuando encontramos un elemento que lo hace, retornamos su posición. Si no hay ningún elemento que cumpla, retornamos -1.\n",
    "\n",
    "#### Ejemplo\n",
    "Vamos a buscar en una lista de números, la posición de un número en específico"
   ]
  },
  {
   "cell_type": "code",
   "execution_count": 6,
   "metadata": {
    "collapsed": false
   },
   "outputs": [
    {
     "name": "stdout",
     "output_type": "stream",
     "text": [
      "6\n",
      "-1\n"
     ]
    }
   ],
   "source": [
    "def buscar(lista, elemento):\n",
    "    for i in range(len(lista)):\n",
    "        if lista[i] == elemento:\n",
    "            return i\n",
    "    return -1\n",
    "\n",
    "l = [5, 3, 7, 6, 5, 8, 12, 54, 3]\n",
    "\n",
    "print(buscar(l, 12))\n",
    "print(buscar(l, 13))"
   ]
  },
  {
   "cell_type": "markdown",
   "metadata": {},
   "source": [
    "¿Cuántos elementos hay que revisar en promedio para encontrar al que buscamos?\n",
    "\n",
    "Si la lista tiene **n** elementos distribuidos de manera uniforme, entonces hay n posibles posiciones para el elemento. A veces tendremos que revisar solo el primer elemento y encontraremos lo que buscamos, otras veces el primero y el segundo; el primero, segundo y tercero... y así hasta el caso en que hay que revisar todos los elementos.\n",
    "\n",
    "Por lo tanto en promedio hay que revisar \n",
    "\n",
    "$$\\frac{\\sum_{i=1}^{n} i }{n} \\approx \\frac{n}{2}$$\n",
    "\n",
    "posiciones.\n",
    "\n",
    "¿Se podrá hacer algo mejor? \n",
    "\n",
    "### Experimento\n",
    "¿Dónde está el 93 en la siguiente lista?\n",
    "\n",
    "![numeros desordenados](binaria1.png \"números')\n",
    "\n",
    "¿Dónde están el 93, 8, 82 y 42 en la siguiente lista?\n",
    "![numeros ordenados](binaria2.png \"números')\n",
    "\n",
    "Pareciera ser que si la lista está ordenada es más fácil buscar. ¿Cómo podemos aprovechar esta propiedad?\n",
    "\n",
    "## Búsqueda binaria\n",
    "- Ver elemento central. Si cumple la propiedad, retornamos su posición\n",
    "- Si es mayor, busco a la izquierda\n",
    "- Si es menor, busco a la derecha\n",
    "\n",
    "#### Ejemplo\n",
    "Busquemos el 82\n",
    "![numeros ordenados](binaria2.png \"números')\n",
    "\n",
    "El valor del elemento central es 49\n",
    "![numeros ordenados](binaria3.png \"números')\n",
    "\n",
    "Como 49 es menor que 82, buscamos a la derecha\n",
    "![numeros ordenados](binaria4.png \"números')\n",
    "\n",
    "El valor del elemento central es 79\n",
    "![numeros ordenados](binaria5.png \"números')\n",
    "\n",
    "Como 79 es menor que 82, buscamos a la derecha\n",
    "![numeros ordenados](binaria6.png \"números')\n",
    "\n",
    "El valor del elemento central es 91\n",
    "![numeros ordenados](binaria7.png \"números')\n",
    "\n",
    "Como 91 es mayor que 82, buscamos a la izquierda\n",
    "![numeros ordenados](binaria8.png \"números')\n",
    "\n",
    "El valor central es 82, así que retornamos su posición (33)\n",
    "![numeros ordenados](binaria9.png \"números')\n",
    "\n",
    "    "
   ]
  },
  {
   "cell_type": "code",
   "execution_count": 7,
   "metadata": {
    "collapsed": false
   },
   "outputs": [
    {
     "name": "stdout",
     "output_type": "stream",
     "text": [
      "33\n"
     ]
    }
   ],
   "source": [
    "def busqueda_binaria(lista, elemento):\n",
    "    left = 0\n",
    "    right = len(lista) - 1\n",
    "    while left <= right:\n",
    "        middle = (left+right)//2\n",
    "        if lista[middle] < elemento:\n",
    "            left = middle + 1\n",
    "        elif lista[middle] > elemento:\n",
    "            right = middle - 1\n",
    "        else:\n",
    "            return middle\n",
    "    \n",
    "    return -1\n",
    "\n",
    "l = [0, 1, 2, 4, 8, 15, 16, 19, 28, 30, 30, 31, 32, 39,\n",
    "42, 42, 42, 44, 46, 49, 49, 49, 51, 57, 57, 58, 62, 68,\n",
    "73, 75, 77, 79, 80, 82, 86, 89, 91, 91, 92, 95, 96, 96]\n",
    "print(busqueda_binaria(l,82))\n",
    " "
   ]
  },
  {
   "cell_type": "markdown",
   "metadata": {
    "collapsed": true
   },
   "source": [
    "## Actividad\n",
    "\n",
    "### Comparación entre lineal y binaria\n",
    "Generar listas con $10^i$ enteros, con i=2..7. Para cada lista, correr 10 veces el algoritmo de búsqueda lineal e imprimir el número de comparaciones promedio. Repetir lo mismo para búsqueda binaria (para aplicar la búsqueda binaria la lista debe estar ordenada primero, se puede utilizar el método sort de las listas)."
   ]
  },
  {
   "cell_type": "code",
   "execution_count": 1,
   "metadata": {
    "collapsed": false
   },
   "outputs": [
    {
     "name": "stdout",
     "output_type": "stream",
     "text": [
      "tamaño 10^2\n",
      "promedio operaciones lineal: 917\n",
      "promedio operaciones binaria: 68\n",
      "tamaño 10^3\n",
      "promedio operaciones lineal: 5264\n",
      "promedio operaciones binaria: 90\n",
      "tamaño 10^4\n",
      "promedio operaciones lineal: 69044\n",
      "promedio operaciones binaria: 129\n",
      "tamaño 10^5\n",
      "promedio operaciones lineal: 587016\n",
      "promedio operaciones binaria: 147\n",
      "tamaño 10^6\n",
      "promedio operaciones lineal: 6919269\n",
      "promedio operaciones binaria: 191\n",
      "tamaño 10^7\n",
      "promedio operaciones lineal: 68912732\n",
      "promedio operaciones binaria: 231\n"
     ]
    }
   ],
   "source": [
    "from random import randint\n",
    "\n",
    "#modificamos las funciones de búsqueda para que además, retornen cuántas operaciones hicieron aproximadamente\n",
    "def busqueda_lineal(lista, elemento):\n",
    "    for i in range(len(lista)):\n",
    "        if lista[i] == elemento:\n",
    "            return i, i + 1\n",
    "    return -1, i + 1\n",
    "\n",
    "def busqueda_binaria(lista, elemento):\n",
    "    left = 0\n",
    "    right = len(lista) - 1\n",
    "    \n",
    "    operaciones = 0\n",
    "    while left <= right:\n",
    "        operaciones += 1\n",
    "        middle = (left+right)//2\n",
    "        if lista[middle] < elemento:\n",
    "            left = middle + 1\n",
    "        elif lista[middle] > elemento:\n",
    "            right = middle - 1\n",
    "        else:\n",
    "            return middle, operaciones\n",
    "    \n",
    "    return -1, operaciones\n",
    "\n",
    "\n",
    "for i in range(2,8):\n",
    "    numeros = []\n",
    "    rango = 10**i\n",
    "    for j in range(rango):\n",
    "        numeros.append(randint(0, rango))\n",
    "        \n",
    "    numeros.sort()\n",
    "    \n",
    "    operaciones_lineal = 0\n",
    "    operaciones_binaria = 0\n",
    "    \n",
    "    for j in range(10):\n",
    "        elemento = randint(0, rango)\n",
    "        \n",
    "        posicion, operaciones = busqueda_lineal(numeros, elemento)\n",
    "        operaciones_lineal += operaciones\n",
    "        \n",
    "        posicion, operaciones = busqueda_binaria(numeros, elemento)\n",
    "        operaciones_binaria += operaciones\n",
    "        \n",
    "    print('tamaño 10^{}'.format(i))\n",
    "    print('promedio operaciones lineal:', operaciones_lineal)\n",
    "    print('promedio operaciones binaria:', operaciones_binaria)\n",
    "        "
   ]
  },
  {
   "cell_type": "code",
   "execution_count": null,
   "metadata": {
    "collapsed": true
   },
   "outputs": [],
   "source": []
  }
 ],
 "metadata": {
  "anaconda-cloud": {},
  "kernelspec": {
   "display_name": "Python 3",
   "language": "python",
   "name": "python3"
  },
  "language_info": {
   "codemirror_mode": {
    "name": "ipython",
    "version": 3
   },
   "file_extension": ".py",
   "mimetype": "text/x-python",
   "name": "python",
   "nbconvert_exporter": "python",
   "pygments_lexer": "ipython3",
   "version": "3.6.0"
  }
 },
 "nbformat": 4,
 "nbformat_minor": 0
}
