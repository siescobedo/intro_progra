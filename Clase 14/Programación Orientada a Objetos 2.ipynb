{
 "cells": [
  {
   "cell_type": "markdown",
   "metadata": {},
   "source": [
    "# Programación Orientada a Objetos\n",
    "## Nombres de métodos especiales\n",
    "\n",
    "En python, existen nombres de métodos con comportamiento especial. Ya vimos el caso del método ```__init__``` que se llama cuando creamos una instancia de la clase.\n",
    "\n",
    "Otros métodos interesantes son:\n",
    "\n",
    "#### ```__str__```\n",
    "Retorna una representación del objeto en forma de string. Por ejemplo en la clase Persona, podría ser el nombre y apellido de la instancia; en la clase Fraccion el numerador y denominador separados por un /.\n",
    "Este método se llama al aplicar str(*instancia*) o print(*instancia*)\n",
    "\n",
    "#### Ejemplo"
   ]
  },
  {
   "cell_type": "code",
   "execution_count": 2,
   "metadata": {
    "collapsed": false
   },
   "outputs": [
    {
     "name": "stdout",
     "output_type": "stream",
     "text": [
      "Miguel Fadić\n",
      "Geraldine Monsalve\n"
     ]
    }
   ],
   "source": [
    "class Persona:\n",
    "    def __init__(self, nombre, apellido):\n",
    "        self.nombre = nombre\n",
    "        self.apellido = apellido\n",
    "    \n",
    "    def __str__(self):\n",
    "        return '{} {}'.format(self.nombre, self.apellido)\n",
    "    \n",
    "persona1 = Persona('Miguel', 'Fadić')\n",
    "print(persona1)\n",
    "\n",
    "persona2 = Persona('Geraldine', 'Monsalve')\n",
    "print(persona2)"
   ]
  },
  {
   "cell_type": "code",
   "execution_count": 4,
   "metadata": {
    "collapsed": false
   },
   "outputs": [
    {
     "name": "stdout",
     "output_type": "stream",
     "text": [
      "10/5\n",
      "22/9\n"
     ]
    }
   ],
   "source": [
    "class Fraccion:\n",
    "    def __init__(self, numerador, denominador):\n",
    "        self.numerador = numerador\n",
    "        self.denominador = denominador\n",
    "    \n",
    "    def __str__(self):\n",
    "        return '{}/{}'.format(self.numerador, self.denominador)\n",
    "    \n",
    "f1 = Fraccion(10,5)\n",
    "print(f1)\n",
    "\n",
    "f2 = Fraccion(22,9)\n",
    "print(f2)d"
   ]
  },
  {
   "cell_type": "markdown",
   "metadata": {},
   "source": [
    "#### ```__int__, __float__, __bool__```\n",
    "\n",
    "Retornan la representación del objeto como int, float y boolean respectivamente. Se implementan siempre y cuando tenga sentido\n",
    "\n",
    "#### Ejemplo"
   ]
  },
  {
   "cell_type": "code",
   "execution_count": 7,
   "metadata": {
    "collapsed": false
   },
   "outputs": [
    {
     "name": "stdout",
     "output_type": "stream",
     "text": [
      "f1: 10/5\n",
      "El valor de f1 es 2.0\n",
      "f2: 22/9\n",
      "El valor de f2 es 2.4444444444444446\n"
     ]
    }
   ],
   "source": [
    "class Fraccion:\n",
    "    def __init__(self, numerador, denominador):\n",
    "        self.numerador = numerador\n",
    "        self.denominador = denominador\n",
    "    \n",
    "    def __str__(self):\n",
    "        return '{}/{}'.format(self.numerador, self.denominador)\n",
    "    \n",
    "    def __float__(self):\n",
    "        return self.numerador / self.denominador\n",
    "    \n",
    "f1 = Fraccion(10, 5)\n",
    "print('f1:', f1)\n",
    "print('El valor de f1 es', float(f1))\n",
    "\n",
    "f2 = Fraccion(22, 9)\n",
    "print('f2:', f2)\n",
    "print('El valor de f2 es', float(f2))"
   ]
  },
  {
   "cell_type": "markdown",
   "metadata": {},
   "source": [
    "### Comparadores\n",
    "\n",
    "método | comparador | descripcción\n",
    "--- | --- | ---\n",
    "```__lt__(self, other)``` | < | Retorna True si self es menor que other\n",
    "```__le__(self, other)``` | <= | Retorna True si self es menor o igual a other\n",
    "```__eq__(self, other)``` | == | Retorna True si self es igual a other\n",
    "```__ne__(self, other)``` | != | Retorna True si self no es igual a other (por defecto se retorna ```__eq__``` negado)\n",
    "```__gt__(self, other)``` | > | Retorna True si self es mayor que other\n",
    "```__ge__(self, other)``` | >= | Retorna True si self es mayor o igual a other\n",
    "\n",
    "#### Ejemplo"
   ]
  },
  {
   "cell_type": "code",
   "execution_count": 8,
   "metadata": {
    "collapsed": false
   },
   "outputs": [
    {
     "name": "stdout",
     "output_type": "stream",
     "text": [
      "f1: 10/5\n",
      "f2: 22/9\n",
      "f1 < f2: True\n",
      "f3: 44/18\n",
      "f2 == f3: True\n",
      "f1 != f3: True\n"
     ]
    }
   ],
   "source": [
    "class Fraccion:\n",
    "    def __init__(self, numerador, denominador):\n",
    "        self.numerador = numerador\n",
    "        self.denominador = denominador\n",
    "    \n",
    "    def __str__(self):\n",
    "        return '{}/{}'.format(self.numerador, self.denominador)\n",
    "    \n",
    "    def __lt__(self, other):\n",
    "        return self.numerador * other.denominador < other.numerador * self.denominador\n",
    "    \n",
    "    def __eq__(self, other):\n",
    "        return self.numerador * other.denominador == other.numerador * self.denominador\n",
    "    \n",
    "f1 = Fraccion(10, 5)\n",
    "print('f1:', f1)\n",
    "\n",
    "f2 = Fraccion(22, 9)\n",
    "print('f2:', f2)\n",
    "\n",
    "print('f1 < f2:', f1 < f2)\n",
    "\n",
    "f3 = Fraccion(44, 18)\n",
    "print('f3:', f3)\n",
    "print('f2 == f3:', f2==f3)\n",
    "print('f1 != f3:', f1!=f3)"
   ]
  },
  {
   "cell_type": "markdown",
   "metadata": {},
   "source": [
    "### Operadores matemáticos\n",
    "\n",
    "método | operador | descripcción\n",
    "--- | --- | ---\n",
    "```__add__(self, other)``` | + | Retorna self + other\n",
    "```__sub__(self, other)``` | - | Retorna self - other\n",
    "```__mul__(self, other)``` | * | Retorna self * other\n",
    "```__truediv__(self, other)``` | / | Retorna self / other\n",
    "```__neg__(self)``` | - | Retorna - self\n",
    "\n",
    "#### Ejemplo"
   ]
  },
  {
   "cell_type": "code",
   "execution_count": 6,
   "metadata": {
    "collapsed": false
   },
   "outputs": [
    {
     "name": "stdout",
     "output_type": "stream",
     "text": [
      "f1: 10/5\n",
      "f2: 22/9\n",
      "f1 + f2: 40/9\n",
      "-f3: -40/9\n"
     ]
    }
   ],
   "source": [
    "from math import gcd\n",
    "\n",
    "class Fraccion:\n",
    "    def __init__(self, numerador, denominador):\n",
    "        self.numerador = numerador\n",
    "        self.denominador = denominador\n",
    "    \n",
    "    def __str__(self):\n",
    "        return '{}/{}'.format(self.numerador, self.denominador)\n",
    "    \n",
    "    def __lt__(self, other):\n",
    "        return self.numerador * other.denominador < other.numerador * self.denominador\n",
    "    \n",
    "    def __eq__(self, other):\n",
    "        return self.numerador * other.denominador == other.numerador * self.denominador\n",
    "    \n",
    "    def __add__(self, other):\n",
    "        numerador = self.numerador * other.denominador + other.numerador * self.denominador\n",
    "        denominador = self.denominador * other.denominador\n",
    "        \n",
    "        suma = Fraccion(numerador, denominador)\n",
    "        suma.simplificar()\n",
    "        \n",
    "        return suma\n",
    "        \n",
    "    def __sub__(self, other):\n",
    "        return self + -other\n",
    "    \n",
    "    def simplificar(self):\n",
    "        mcd = gcd(self.numerador, self.denominador)\n",
    "        self.numerador //= mcd\n",
    "        self.denominador //= mcd\n",
    "        \n",
    "    def __neg__(self):\n",
    "        return Fraccion(-self.numerador, self.denominador)\n",
    "        \n",
    "    \n",
    "f1 = Fraccion(10, 5)\n",
    "print('f1:', f1)\n",
    "\n",
    "f2 = Fraccion(22, 9)\n",
    "print('f2:', f2)\n",
    "\n",
    "print('f1 + f2:', f1 + f2)\n",
    "\n",
    "f3 = f1 + f2\n",
    "\n",
    "print('-f3:', -f3)"
   ]
  },
  {
   "cell_type": "markdown",
   "metadata": {},
   "source": [
    "## Actividades\n",
    "### Fracción completa\n",
    "Implementar todos los comparadores y operadores en la clase Fracción. "
   ]
  },
  {
   "cell_type": "code",
   "execution_count": 10,
   "metadata": {
    "collapsed": false
   },
   "outputs": [
    {
     "name": "stdout",
     "output_type": "stream",
     "text": [
      "f1: 10/5\n",
      "f2: 22/9\n",
      "f1 + f2: 40/9\n",
      "-f3: -40/9\n",
      "800/27\n"
     ]
    }
   ],
   "source": [
    "#Código fracción\n",
    "from math import gcd\n",
    "\n",
    "class Fraccion:\n",
    "    def __init__(self, numerador, denominador):\n",
    "        self.numerador = numerador\n",
    "        self.denominador = denominador\n",
    "    \n",
    "    def __str__(self):\n",
    "        return '{}/{}'.format(self.numerador, self.denominador)\n",
    "    \n",
    "    def __lt__(self, other):\n",
    "        return self.numerador * other.denominador < other.numerador * self.denominador\n",
    "    \n",
    "    def __eq__(self, other):\n",
    "        return self.numerador * other.denominador == other.numerador * self.denominador\n",
    "    \n",
    "    def __le__(self, other):\n",
    "        return self < other or self == other\n",
    "    \n",
    "    def __gt__(self, other):\n",
    "        return not self <= other\n",
    "    \n",
    "    def __ge__(self, other):\n",
    "        return not self < other\n",
    "    \n",
    "    def __add__(self, other):\n",
    "        numerador = self.numerador * other.denominador + other.numerador * self.denominador\n",
    "        denominador = self.denominador * other.denominador\n",
    "        \n",
    "        suma = Fraccion(numerador, denominador)\n",
    "        suma.simplificar()\n",
    "        \n",
    "        return suma\n",
    "        \n",
    "    def simplificar(self):\n",
    "        mcd = gcd(self.numerador, self.denominador)\n",
    "        self.numerador //= mcd\n",
    "        self.denominador //= mcd\n",
    "        \n",
    "    def __neg__(self):\n",
    "        return Fraccion(-self.numerador, self.denominador)\n",
    "    \n",
    "        \n",
    "    def __mul__(self, other):\n",
    "        numerador = self.numerador * other.numerador\n",
    "        denominador = self.denominador * other.denominador\n",
    "        producto = Fraccion(numerador, denominador)\n",
    "        producto.simplificar()\n",
    "        return producto\n",
    "    \n",
    "    def __truediv__(self, other):\n",
    "        numerador = self.numerador * other.denominador\n",
    "        denominador = other.numerador * self.denominador\n",
    "        division = Fraccion(numerador, denominador)\n",
    "        division.simplificar()\n",
    "        return division\n",
    "        \n",
    "    \n",
    "f1 = Fraccion(10, 5)\n",
    "print('f1:', f1)\n",
    "\n",
    "f2 = Fraccion(22, 9)\n",
    "print('f2:', f2)\n",
    "\n",
    "print('f1 + f2:', f1 + f2)\n",
    "\n",
    "f3 = f1 + f2\n",
    "\n",
    "print('-f3:', -f3)\n",
    "\n",
    "print((f1 + f2) * f3 / Fraccion(2,3))"
   ]
  },
  {
   "cell_type": "markdown",
   "metadata": {},
   "source": [
    "### Curso\n",
    "Implementar una clase Curso, que tenga los atributos sigla, nombre, sala y Alumnos. Debe ser posible agregar Alumnos al Curso. Cuando un Alumno se agrega al curso, el curso debe agregarse a la lista de Cursos inscritos del Alumno de manera automática. Debe ser posible ver una lista con el nombre y apellido de todos los Alumnos inscritos en el Curso. La representación en string del Curso debe ser su sigla, su nombre y la sala.\n",
    "\n",
    "Para los Alumnos, debe ser posible agregar Cursos en los que está inscrito. Debe ser posible ver una lista con la sigla y nombre de todos los Cursos en que está inscrito el Alumno. La representación en string del Alumno es su nombre y apellido.\n",
    "\n",
    "#### Ejemplo de interacción"
   ]
  },
  {
   "cell_type": "code",
   "execution_count": null,
   "metadata": {
    "collapsed": false
   },
   "outputs": [],
   "source": [
    "marcos = Alumno('Marcos', 'Sepúlveda')\n",
    "jorge = Alumno('Jorge', 'Muñoz')\n",
    "\n",
    "progra = Curso('IIC1103', 'Introducción a la Programación', 'B18')\n",
    "inteligencia_artificial = Curso('IIC2613', 'Inteligencia Artificial', 'B25')\n",
    "\n",
    "progra.agregar_alumno(jorge)\n",
    "progra.agregar_alumno(marcos)\n",
    "\n",
    "inteligencia_artificial.agregar_alumno(jorge)\n",
    "print(progra)\n",
    "progra.mostrar_lista()\n",
    "\n",
    "marcos.mostrar_lista()\n",
    "\n",
    "print(inteligencia_artificial)\n",
    "inteligencia_artificial.mostrar_lista()"
   ]
  },
  {
   "cell_type": "code",
   "execution_count": 12,
   "metadata": {
    "collapsed": false
   },
   "outputs": [],
   "source": [
    "#Código clases\n",
    "class Curso:\n",
    "    \n",
    "    def __init__(self, sigla, nombre, sala):\n",
    "        self.sigla = sigla\n",
    "        self.nombre = nombre\n",
    "        self.sala = sala\n",
    "        \n",
    "        self.alumnos = []\n",
    "        \n",
    "    def agregar_alumno(self, alumno):\n",
    "        self.alumnos.append(alumno)\n",
    "        alumno.agregar_curso(self)\n",
    "        \n",
    "    def mostrar_lista(self):\n",
    "        for alumno in self.alumnos:\n",
    "            print(alumno)\n",
    "            \n",
    "    def __str__(self):\n",
    "        return '{} - {} - {}'.format(self.sigla, self.nombre, self.sala)\n",
    "            \n",
    "class Alumno:\n",
    "    \n",
    "    def __init__(self, nombre, apellido):\n",
    "        self.nombre = nombre\n",
    "        self.apellido = apellido\n",
    "        self.cursos = []\n",
    "        \n",
    "    def agregar_curso(self, curso):\n",
    "        self.cursos.append(curso)\n",
    "        \n",
    "    def mostrar_lista(self):\n",
    "        for curso in self.cursos:\n",
    "            print('{} - {}'.format(curso.sigla, curso.nombre))\n",
    "    \n",
    "    \n",
    "    def __str__(self):\n",
    "        return '{} {}'.format(self.nombre, self.apellido)\n",
    "    "
   ]
  },
  {
   "cell_type": "code",
   "execution_count": 13,
   "metadata": {
    "collapsed": false
   },
   "outputs": [
    {
     "name": "stdout",
     "output_type": "stream",
     "text": [
      "IIC1103 - Introducción a la Programación - B18\n",
      "Jorge Muñoz\n",
      "Marcos Sepúlveda\n",
      "IIC1103 - Introducción a la Programación\n",
      "IIC2613 - Inteligencia Artificial - B25\n",
      "Jorge Muñoz\n"
     ]
    }
   ],
   "source": [
    "marcos = Alumno('Marcos', 'Sepúlveda')\n",
    "jorge = Alumno('Jorge', 'Muñoz')\n",
    "\n",
    "progra = Curso('IIC1103', 'Introducción a la Programación', 'B18')\n",
    "inteligencia_artificial = Curso('IIC2613', 'Inteligencia Artificial', 'B25')\n",
    "\n",
    "progra.agregar_alumno(jorge)\n",
    "progra.agregar_alumno(marcos)\n",
    "\n",
    "inteligencia_artificial.agregar_alumno(jorge)\n",
    "print(progra)\n",
    "progra.mostrar_lista()\n",
    "\n",
    "marcos.mostrar_lista()\n",
    "\n",
    "print(inteligencia_artificial)\n",
    "inteligencia_artificial.mostrar_lista()"
   ]
  }
 ],
 "metadata": {
  "anaconda-cloud": {},
  "kernelspec": {
   "display_name": "Python 3",
   "language": "python",
   "name": "python3"
  },
  "language_info": {
   "codemirror_mode": {
    "name": "ipython",
    "version": 3
   },
   "file_extension": ".py",
   "mimetype": "text/x-python",
   "name": "python",
   "nbconvert_exporter": "python",
   "pygments_lexer": "ipython3",
   "version": "3.6.0"
  }
 },
 "nbformat": 4,
 "nbformat_minor": 0
}
