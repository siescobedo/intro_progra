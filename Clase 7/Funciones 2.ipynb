{
 "cells": [
  {
   "cell_type": "markdown",
   "metadata": {},
   "source": [
    "# Clase 7\n",
    "\n",
    "## Funciones\n",
    "\n",
    "### Scope\n",
    "\n",
    "No todas las variables son accesibles desde todas las partes de nuestro programa. Dónde una variable es accesible depende de cómo está definida. Llamamos la parte del programa donde la variable es accesible su *scope*.\n",
    "\n",
    "Las variables definidas en el cuerpo principal del archivo se denominan *globlales* y son visibles a través de todo el archivo y también en cualquier archivo que lo importe.\n",
    "\n",
    "Las variables definidas dentro de una función son *locales* a esa función y existen solo mientras la función se esté ejecutando. Los parámetros de una función actúan como variables locales.\n",
    "\n",
    "#### Ejemplo"
   ]
  },
  {
   "cell_type": "code",
   "execution_count": 1,
   "metadata": {},
   "outputs": [
    {
     "name": "stdout",
     "output_type": "stream",
     "text": [
      "7\n",
      "3\n",
      "0\n",
      "1\n"
     ]
    },
    {
     "ename": "NameError",
     "evalue": "name 'c' is not defined",
     "output_type": "error",
     "traceback": [
      "\u001b[1;31m---------------------------------------------------------------------------\u001b[0m",
      "\u001b[1;31mNameError\u001b[0m                                 Traceback (most recent call last)",
      "\u001b[1;32m<ipython-input-1-c60db40879e0>\u001b[0m in \u001b[0;36m<module>\u001b[1;34m()\u001b[0m\n\u001b[0;32m     20\u001b[0m \u001b[1;33m\u001b[0m\u001b[0m\n\u001b[0;32m     21\u001b[0m \u001b[1;31m# c y d ya no existen -- las siguientes instrucciones generarán un error\u001b[0m\u001b[1;33m\u001b[0m\u001b[1;33m\u001b[0m\u001b[0m\n\u001b[1;32m---> 22\u001b[1;33m \u001b[0mprint\u001b[0m\u001b[1;33m(\u001b[0m\u001b[0mc\u001b[0m\u001b[1;33m)\u001b[0m\u001b[1;33m\u001b[0m\u001b[0m\n\u001b[0m\u001b[0;32m     23\u001b[0m \u001b[0mprint\u001b[0m\u001b[1;33m(\u001b[0m\u001b[0md\u001b[0m\u001b[1;33m)\u001b[0m\u001b[1;33m\u001b[0m\u001b[0m\n",
      "\u001b[1;31mNameError\u001b[0m: name 'c' is not defined"
     ]
    }
   ],
   "source": [
    "# Esta variable es global\n",
    "a = 0\n",
    "\n",
    "if a == 0:\n",
    "    # Esta también es una variable global\n",
    "    b = 1\n",
    "\n",
    "def mi_funcion(c):\n",
    "    # Esta es una variable local\n",
    "    d = 3\n",
    "    print(c)\n",
    "    print(d)\n",
    "\n",
    "# Llamamos a la función, entregando el valor 7 como primer y único parámetro\n",
    "mi_funcion(7)\n",
    "\n",
    "# a y b todavía existen\n",
    "print(a)\n",
    "print(b)\n",
    "\n",
    "# c y d ya no existen -- las siguientes instrucciones generarán un error\n",
    "print(c)\n",
    "print(d)"
   ]
  },
  {
   "cell_type": "markdown",
   "metadata": {},
   "source": [
    "¿Qué pasa si accedemos a una variable global dentro de una función?"
   ]
  },
  {
   "cell_type": "code",
   "execution_count": 3,
   "metadata": {},
   "outputs": [
    {
     "name": "stdout",
     "output_type": "stream",
     "text": [
      "0\n"
     ]
    }
   ],
   "source": [
    "a = 0\n",
    "\n",
    "def mi_funcion():\n",
    "    print(a)\n",
    "    \n",
    "mi_funcion()"
   ]
  },
  {
   "cell_type": "markdown",
   "metadata": {},
   "source": [
    "El valor que se imprime es 0, como uno podría imaginar. \n",
    "\n",
    "¿Qué sucede con el siguiente programa?"
   ]
  },
  {
   "cell_type": "code",
   "execution_count": 9,
   "metadata": {},
   "outputs": [
    {
     "name": "stdout",
     "output_type": "stream",
     "text": [
      "2\n",
      "0\n"
     ]
    }
   ],
   "source": [
    "a = 0\n",
    "\n",
    "def mi_funcion():\n",
    "    a = 2\n",
    "    print(a)\n",
    "    \n",
    "    \n",
    "mi_funcion()\n",
    "print(a)"
   ]
  },
  {
   "cell_type": "code",
   "execution_count": 1,
   "metadata": {},
   "outputs": [
    {
     "name": "stdout",
     "output_type": "stream",
     "text": [
      "2\n"
     ]
    }
   ],
   "source": [
    "a = 0\n",
    "\n",
    "def mi_funcion(b):\n",
    "    return b + 2\n",
    "\n",
    "a = mi_funcion(a)\n",
    "print(a)"
   ]
  },
  {
   "cell_type": "markdown",
   "metadata": {},
   "source": [
    "Cuando llamamos a la función, el print dentro de ella imprime 3, pero el print fuera de ella imprime 0.\n",
    "\n",
    "Por defecto, cuando asignamos una variable dentro de una función, se crea en el *scope* local. Por lo tanto, la asignación dentro de la función no modifica la variable global ```a```, crea una nueva variable local ```a``` y le asigna el valor 3. El print dentro de la función imprime el valor de la nueva variable local, porque si una variable local tiene el mismo nombre que una variable global, la local siempre tiene precedencia. El print fuera de la función, imprime el valor de la variable global, que no sufrió ningún cambio."
   ]
  },
  {
   "cell_type": "markdown",
   "metadata": {},
   "source": [
    "### Valores por defecto\n",
    "\n",
    "Cuando definimos una función, es posible asignar valores por defecto a los parámetros. De esta manera si el usuario no ingresa ningún valor para ese parámetro, el valor que tendrá dentro de la función será el que asignamos por defecto\n",
    "\n",
    "#### Sintaxis\n",
    "\n",
    "```python\n",
    "def funcion(parametro=valor_por_defecto):\n",
    "```\n",
    "\n",
    "#### Ejemplo"
   ]
  },
  {
   "cell_type": "code",
   "execution_count": 10,
   "metadata": {},
   "outputs": [
    {
     "name": "stdout",
     "output_type": "stream",
     "text": [
      "Hola Geraldine\n",
      "Hola Miguel\n"
     ]
    }
   ],
   "source": [
    "def saludar(nombre='Miguel'):\n",
    "    print('Hola', nombre)\n",
    "    \n",
    "saludar('Geraldine')\n",
    "saludar()"
   ]
  },
  {
   "cell_type": "markdown",
   "metadata": {},
   "source": [
    "### Actividad"
   ]
  },
  {
   "cell_type": "markdown",
   "metadata": {
    "collapsed": true
   },
   "source": [
    "#### Verificador número de alumno\n",
    "\n",
    "El número de alumno tiene un dígito verificador. Para todo número de alumno, el último dígito corresponde al verificador y puede calcularse a partir de los primeros n-1 dígitos.\n",
    "\n",
    "Escribir una función que reciba los primeros n-1 dígitos de un número de alumno y retorne el dígito verificador.\n",
    "\n",
    "El algoritmo para calcular es dígito verificador es el siguiente:\n",
    "1. Multiplicar cada dígito por 2,3,...,8,2,3... de atrás hacia adelante\n",
    "    Por ejemplo, si los dígitos ingresados son 1163350, la multiplicación sería:\n",
    "    $$0 * 2 = 0$$\n",
    "    $$5 * 3 = 15$$\n",
    "    $$3 * 4 = 12$$\n",
    "    $$3 * 5 = 15$$\n",
    "    $$6 * 6 = 36$$\n",
    "    $$1 * 7 = 7$$\n",
    "    $$1 * 8 = 8$$\n",
    "\n",
    "2. Sumar las multiplicaciones parciales\n",
    "\n",
    "    0 + 15 + 12 + 15 + 36 + 7 + 8 = 93\n",
    "    \n",
    "3. Calcular el resto de la división por 11\n",
    "\n",
    "    93 % 11 = 5\n",
    "\n",
    "4. El dígito verificador es 11 menos el resultado anterior. Si la resta es 10, se cambia por una 'j' y, si es 11, se reemplaza por 0.\n",
    "\n",
    "    11 - 5 = 6"
   ]
  },
  {
   "cell_type": "code",
   "execution_count": 1,
   "metadata": {},
   "outputs": [
    {
     "name": "stdout",
     "output_type": "stream",
     "text": [
      "6\n"
     ]
    }
   ],
   "source": [
    "#Código dígito verificador\n",
    "\n",
    "def verificador(numero):\n",
    "    \n",
    "    suma = 0\n",
    "    multiplicador = 2\n",
    "    while numero != 0:\n",
    "        unidad = numero % 10\n",
    "        numero = numero // 10\n",
    "        suma += unidad * multiplicador\n",
    "        \n",
    "        multiplicador += 1\n",
    "        \n",
    "        if multiplicador == 9:\n",
    "            multiplicador = 2\n",
    "            \n",
    "    resto = 11 - suma % 11\n",
    "    if resto == 10:\n",
    "        resto = 'j'\n",
    "    elif resto == 11:\n",
    "        resto = 0\n",
    "        \n",
    "    return str(resto)\n",
    "    \n",
    "\n",
    "print(verificador(1163350))\n",
    "\n"
   ]
  }
 ],
 "metadata": {
  "anaconda-cloud": {},
  "kernelspec": {
   "display_name": "Python 3",
   "language": "python",
   "name": "python3"
  },
  "language_info": {
   "codemirror_mode": {
    "name": "ipython",
    "version": 3
   },
   "file_extension": ".py",
   "mimetype": "text/x-python",
   "name": "python",
   "nbconvert_exporter": "python",
   "pygments_lexer": "ipython3",
   "version": "3.6.3"
  }
 },
 "nbformat": 4,
 "nbformat_minor": 1
}
