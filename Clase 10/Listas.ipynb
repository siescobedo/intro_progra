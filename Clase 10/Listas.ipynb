{
 "cells": [
  {
   "cell_type": "markdown",
   "metadata": {},
   "source": [
    "# Clase 10\n",
    "\n",
    "## Listas\n",
    "\n",
    "Las listas son ***secuencias mutables*** de elementos.\n",
    "El propósito de las listas es manejar colecciones homogéneas de datos (homogénea va a depender de la aplicación).\n",
    "\n",
    "\n",
    "\n",
    "#### Sintaxis\n",
    "\n",
    "```python\n",
    "lista = [ elemento0, elemento1, elemento2, ... ]\n",
    "```\n",
    "\n",
    "#### Ejemplos\n",
    "\n",
    "##### Lista vacía"
   ]
  },
  {
   "cell_type": "code",
   "execution_count": 1,
   "metadata": {},
   "outputs": [
    {
     "name": "stdout",
     "output_type": "stream",
     "text": [
      "[]\n"
     ]
    }
   ],
   "source": [
    "lista = []\n",
    "print(lista)"
   ]
  },
  {
   "cell_type": "markdown",
   "metadata": {},
   "source": [
    "##### Lista de enteros"
   ]
  },
  {
   "cell_type": "code",
   "execution_count": 2,
   "metadata": {},
   "outputs": [
    {
     "name": "stdout",
     "output_type": "stream",
     "text": [
      "[3, 4, 2, 9, 6]\n"
     ]
    }
   ],
   "source": [
    "lista = [3, 4, 2, 9, 6]\n",
    "print(lista)"
   ]
  },
  {
   "cell_type": "markdown",
   "metadata": {},
   "source": [
    "##### Lista de strings"
   ]
  },
  {
   "cell_type": "code",
   "execution_count": 5,
   "metadata": {},
   "outputs": [
    {
     "name": "stdout",
     "output_type": "stream",
     "text": [
      "['a', 'b', 'c', 'd']\n"
     ]
    }
   ],
   "source": [
    "lista = ['a', 'b', 'c', 'd']\n",
    "print(lista)"
   ]
  },
  {
   "cell_type": "markdown",
   "metadata": {},
   "source": [
    "#### Lista mixta (no recomendable, pero posible)"
   ]
  },
  {
   "cell_type": "code",
   "execution_count": 6,
   "metadata": {},
   "outputs": [
    {
     "name": "stdout",
     "output_type": "stream",
     "text": [
      "['a', 3.4, True]\n"
     ]
    }
   ],
   "source": [
    "lista = ['a', 3.4, True]\n",
    "print(lista)"
   ]
  },
  {
   "cell_type": "markdown",
   "metadata": {},
   "source": [
    "#### Lista de listas"
   ]
  },
  {
   "cell_type": "code",
   "execution_count": 9,
   "metadata": {},
   "outputs": [
    {
     "name": "stdout",
     "output_type": "stream",
     "text": [
      "[[1, 2, 3], [4, 5, 6], [7, 8, 9]]\n"
     ]
    }
   ],
   "source": [
    "lista = [[1, 2, 3], [4, 5, 6], [7, 8, 9]]\n",
    "print(lista)"
   ]
  },
  {
   "cell_type": "markdown",
   "metadata": {},
   "source": [
    "### Índice\n",
    "\n",
    "Al igual que los strings, son ***secuencias*** y por lo tanto son indexables"
   ]
  },
  {
   "cell_type": "code",
   "execution_count": 10,
   "metadata": {},
   "outputs": [
    {
     "name": "stdout",
     "output_type": "stream",
     "text": [
      "9\n",
      "9\n"
     ]
    }
   ],
   "source": [
    "lista = [3, 4, 3, 9, 6]\n",
    "print(lista[3])\n",
    "print(lista[-2])"
   ]
  },
  {
   "cell_type": "markdown",
   "metadata": {},
   "source": [
    "### Slice\n",
    "También se puede obtener un *slice*\n",
    "\n",
    "#### Sintaxis\n",
    "\n",
    "```python\n",
    "lista = [elemento0, elemento1, ... ]\n",
    "lista[i:j] # trozo de lista desde i a j (j no incluido)\n",
    "lista[i:j:k] # trozo de lista desde i a j con paso k\n",
    "```"
   ]
  },
  {
   "cell_type": "code",
   "execution_count": 11,
   "metadata": {},
   "outputs": [
    {
     "name": "stdout",
     "output_type": "stream",
     "text": [
      "[4, 2, 7]\n",
      "[7, 9, 6]\n",
      "[3, 4]\n",
      "[4, 7]\n",
      "[4, 7, 6]\n",
      "[3, 7]\n",
      "[3, 2, 9]\n",
      "[6, 9, 7, 2, 4, 3]\n"
     ]
    }
   ],
   "source": [
    "l = [3, 4, 2, 7, 9, 6]\n",
    "print(l[1:4])\n",
    "print(l[3:])\n",
    "print(l[:2])\n",
    "print(l[1:5:2])\n",
    "print(l[1::2])\n",
    "print(l[:5:3])\n",
    "print(l[::2])\n",
    "print(l[::-1])"
   ]
  },
  {
   "cell_type": "markdown",
   "metadata": {},
   "source": [
    "### Mutable\n",
    "A diferencia de los strings, son ***mutables***, por lo tanto pueden modificarse"
   ]
  },
  {
   "cell_type": "code",
   "execution_count": 13,
   "metadata": {},
   "outputs": [
    {
     "name": "stdout",
     "output_type": "stream",
     "text": [
      "34396\n"
     ]
    },
    {
     "ename": "TypeError",
     "evalue": "'str' object does not support item assignment",
     "output_type": "error",
     "traceback": [
      "\u001b[1;31m---------------------------------------------------------------------------\u001b[0m",
      "\u001b[1;31mTypeError\u001b[0m                                 Traceback (most recent call last)",
      "\u001b[1;32m<ipython-input-13-e69cb907c81f>\u001b[0m in \u001b[0;36m<module>\u001b[1;34m()\u001b[0m\n\u001b[0;32m      1\u001b[0m \u001b[0ms\u001b[0m \u001b[1;33m=\u001b[0m \u001b[1;34m'34396'\u001b[0m\u001b[1;33m\u001b[0m\u001b[0m\n\u001b[0;32m      2\u001b[0m \u001b[0mprint\u001b[0m\u001b[1;33m(\u001b[0m\u001b[0ms\u001b[0m\u001b[1;33m)\u001b[0m\u001b[1;33m\u001b[0m\u001b[0m\n\u001b[1;32m----> 3\u001b[1;33m \u001b[0ms\u001b[0m\u001b[1;33m[\u001b[0m\u001b[1;36m0\u001b[0m\u001b[1;33m]\u001b[0m \u001b[1;33m=\u001b[0m \u001b[1;34m'6'\u001b[0m\u001b[1;33m\u001b[0m\u001b[0m\n\u001b[0m\u001b[0;32m      4\u001b[0m \u001b[0mprint\u001b[0m\u001b[1;33m(\u001b[0m\u001b[0ms\u001b[0m\u001b[1;33m)\u001b[0m\u001b[1;33m\u001b[0m\u001b[0m\n",
      "\u001b[1;31mTypeError\u001b[0m: 'str' object does not support item assignment"
     ]
    }
   ],
   "source": [
    "s = '34396'\n",
    "print(s)\n",
    "s[0] = '6'\n",
    "print(s)"
   ]
  },
  {
   "cell_type": "code",
   "execution_count": 14,
   "metadata": {},
   "outputs": [
    {
     "name": "stdout",
     "output_type": "stream",
     "text": [
      "[3, 4, 3, 9, 6]\n",
      "['6', 4, 3, 9, 6]\n"
     ]
    }
   ],
   "source": [
    "lista = [3, 4, 3, 9, 6]\n",
    "print(lista)\n",
    "lista[0] = 6\n",
    "print(lista)"
   ]
  },
  {
   "cell_type": "markdown",
   "metadata": {},
   "source": [
    "### Operadores\n",
    "\n",
    "Algunas operaciones típicas sobre listas son las siguientes\n",
    "\n",
    "Operador | Operación\n",
    "--- | --- | ---\n",
    "```l_1 + l_2``` | Retorna la concatenación de l_1 y l_2\n",
    "```l * n``` | Retorna una lista que es n veces l\n",
    "```i in l``` | Retorna True ssi un elemento de l es igual a i\n",
    "```i not in l``` | Retorna True ssi ningún elemento de l es igual a i"
   ]
  },
  {
   "cell_type": "code",
   "execution_count": 15,
   "metadata": {},
   "outputs": [
    {
     "name": "stdout",
     "output_type": "stream",
     "text": [
      "[1, 2, 3, 4, 5]\n",
      "[4, 5, 4, 5, 4, 5]\n",
      "True\n",
      "True\n"
     ]
    }
   ],
   "source": [
    "l_1 = [1, 2, 3]\n",
    "l_2 = [4, 5]\n",
    "\n",
    "print(l_1 + l_2)\n",
    "print(l_2 * 3)\n",
    "print(2 in l_1)\n",
    "print(2 not in l_2)"
   ]
  },
  {
   "cell_type": "markdown",
   "metadata": {},
   "source": [
    "### Funciones sobre listas\n",
    "\n",
    "Algunas funciones útiles que se pueden aplicar sobre las listas son\n",
    "\n",
    "Función | Resultado\n",
    "--- | --- \n",
    "```len(l)``` | Retorna la cantidad de elementos de l\n",
    "```max(l)``` | Retorna el elemento de máximo valor en l\n",
    "```min(l)``` | Retorna el elemento de mínimo valor en l\n",
    "```sum(l)``` | Retorna la suma de todos los elementos de l"
   ]
  },
  {
   "cell_type": "code",
   "execution_count": 16,
   "metadata": {},
   "outputs": [
    {
     "name": "stdout",
     "output_type": "stream",
     "text": [
      "4\n",
      "16\n",
      "2\n",
      "30\n"
     ]
    }
   ],
   "source": [
    "lista = [4,2,16,8]\n",
    "print(len(lista))\n",
    "print(max(lista))\n",
    "print(min(lista))\n",
    "print(sum(lista))"
   ]
  },
  {
   "cell_type": "code",
   "execution_count": 18,
   "metadata": {},
   "outputs": [
    {
     "name": "stdout",
     "output_type": "stream",
     "text": [
      "3\n",
      "holas\n",
      "chao\n"
     ]
    },
    {
     "ename": "TypeError",
     "evalue": "unsupported operand type(s) for +: 'int' and 'str'",
     "output_type": "error",
     "traceback": [
      "\u001b[1;31m---------------------------------------------------------------------------\u001b[0m",
      "\u001b[1;31mTypeError\u001b[0m                                 Traceback (most recent call last)",
      "\u001b[1;32m<ipython-input-18-877fe1ddadef>\u001b[0m in \u001b[0;36m<module>\u001b[1;34m()\u001b[0m\n\u001b[0;32m      3\u001b[0m \u001b[0mprint\u001b[0m\u001b[1;33m(\u001b[0m\u001b[0mmax\u001b[0m\u001b[1;33m(\u001b[0m\u001b[0mlista\u001b[0m\u001b[1;33m)\u001b[0m\u001b[1;33m)\u001b[0m\u001b[1;33m\u001b[0m\u001b[0m\n\u001b[0;32m      4\u001b[0m \u001b[0mprint\u001b[0m\u001b[1;33m(\u001b[0m\u001b[0mmin\u001b[0m\u001b[1;33m(\u001b[0m\u001b[0mlista\u001b[0m\u001b[1;33m)\u001b[0m\u001b[1;33m)\u001b[0m\u001b[1;33m\u001b[0m\u001b[0m\n\u001b[1;32m----> 5\u001b[1;33m \u001b[0mprint\u001b[0m\u001b[1;33m(\u001b[0m\u001b[0msum\u001b[0m\u001b[1;33m(\u001b[0m\u001b[0mlista\u001b[0m\u001b[1;33m)\u001b[0m\u001b[1;33m)\u001b[0m\u001b[1;33m\u001b[0m\u001b[0m\n\u001b[0m",
      "\u001b[1;31mTypeError\u001b[0m: unsupported operand type(s) for +: 'int' and 'str'"
     ]
    }
   ],
   "source": [
    "lista = ['hola', 'chao', 'holas']\n",
    "print(len(lista))\n",
    "print(max(lista))\n",
    "print(min(lista))\n",
    "print(sum(lista))"
   ]
  },
  {
   "cell_type": "markdown",
   "metadata": {},
   "source": [
    "### Iterable\n",
    "Las listas al ser ***secuencias***, son iterables y por lo tanto podemos utiliar el **for** sobre ellas\n",
    "\n",
    "#### Sintaxis\n",
    "\n",
    "```python\n",
    "for variable in lista:\n",
    "    codigo_for\n",
    "    codigo_for\n",
    "    codigo_for\n",
    "```\n",
    "\n",
    "#### Ejemplo"
   ]
  },
  {
   "cell_type": "code",
   "execution_count": 19,
   "metadata": {},
   "outputs": [
    {
     "name": "stdout",
     "output_type": "stream",
     "text": [
      "No olvidar comprar fruta\n",
      "No olvidar comprar carne\n",
      "No olvidar comprar arroz\n"
     ]
    }
   ],
   "source": [
    "lista_de_compras = ['fruta', 'carne', 'arroz']\n",
    "\n",
    "for producto in lista_de_compras:\n",
    "    print('No olvidar comprar', producto)"
   ]
  },
  {
   "cell_type": "markdown",
   "metadata": {},
   "source": [
    "Formas equivalentes de hacer lo mismo son:"
   ]
  },
  {
   "cell_type": "code",
   "execution_count": 20,
   "metadata": {},
   "outputs": [
    {
     "name": "stdout",
     "output_type": "stream",
     "text": [
      "No olvidar comprar fruta\n",
      "No olvidar comprar carne\n",
      "No olvidar comprar arroz\n"
     ]
    }
   ],
   "source": [
    "lista_de_compras = ['fruta', 'carne', 'arroz']\n",
    "\n",
    "for i in range(len(lista_de_compras)):\n",
    "    producto = lista_de_compras[i]\n",
    "    print('No olvidar comprar', producto)"
   ]
  },
  {
   "cell_type": "code",
   "execution_count": 21,
   "metadata": {},
   "outputs": [
    {
     "name": "stdout",
     "output_type": "stream",
     "text": [
      "No olvidar comprar fruta\n",
      "No olvidar comprar carne\n",
      "No olvidar comprar arroz\n"
     ]
    }
   ],
   "source": [
    "lista_de_compras = ['fruta', 'carne', 'arroz']\n",
    "\n",
    "i = 0\n",
    "while i < len(lista_de_compras):\n",
    "    producto = lista_de_compras[i]\n",
    "    print('No olvidar comprar', producto)\n",
    "    i += 1"
   ]
  },
  {
   "cell_type": "markdown",
   "metadata": {},
   "source": [
    "## Actividades\n",
    "\n",
    "### N dado\n",
    "Crear un programa que le pida al usuario dos números: N y M, simule el lanzamiento de un dado de N caras M veces e imprima cuántas veces salió cada cara\n",
    "\n",
    "***Hint***: Para obtener una lista de N 0's se puede escribir [0] * N"
   ]
  },
  {
   "cell_type": "code",
   "execution_count": 26,
   "metadata": {},
   "outputs": [
    {
     "name": "stdout",
     "output_type": "stream",
     "text": [
      "N20\n",
      "M20000\n",
      "El 1 salió 978 veces\n",
      "El 2 salió 950 veces\n",
      "El 3 salió 1020 veces\n",
      "El 4 salió 991 veces\n",
      "El 5 salió 992 veces\n",
      "El 6 salió 1020 veces\n",
      "El 7 salió 1001 veces\n",
      "El 8 salió 1006 veces\n",
      "El 9 salió 1026 veces\n",
      "El 10 salió 991 veces\n",
      "El 11 salió 1013 veces\n",
      "El 12 salió 956 veces\n",
      "El 13 salió 1015 veces\n",
      "El 14 salió 1020 veces\n",
      "El 15 salió 977 veces\n",
      "El 16 salió 986 veces\n",
      "El 17 salió 1038 veces\n",
      "El 18 salió 1020 veces\n",
      "El 19 salió 1012 veces\n",
      "El 20 salió 988 veces\n"
     ]
    }
   ],
   "source": [
    "#Código dado\n",
    "from random import randint\n",
    "\n",
    "\n",
    "N = int(input('N'))\n",
    "M = int(input('M'))\n",
    "\n",
    "contadores = [0] * N\n",
    "\n",
    "for _ in range(M):\n",
    "    \n",
    "\n",
    "    cara = randint(1, N)\n",
    "    contadores[cara - 1] = contadores[cara - 1] + 1\n",
    "#     contadores[cara - 1] += 1\n",
    "\n",
    "\n",
    "for i in range(N):\n",
    "    \n",
    "    print('El', i + 1, 'salió', contadores[i], 'veces')\n",
    "    \n",
    "\n",
    "\n"
   ]
  },
  {
   "cell_type": "markdown",
   "metadata": {},
   "source": [
    "### N dado función\n",
    "Crear una función que reciba 2 números: N y M, simule el lanzamiento de un dado de N caras M veces y retorne la cantidad de veces que salió cada cara"
   ]
  },
  {
   "cell_type": "code",
   "execution_count": 29,
   "metadata": {},
   "outputs": [
    {
     "name": "stdout",
     "output_type": "stream",
     "text": [
      "N351\n",
      "M1000\n",
      "El 1 salió 0 veces\n",
      "El 2 salió 2 veces\n",
      "El 3 salió 3 veces\n",
      "El 4 salió 1 veces\n",
      "El 5 salió 3 veces\n",
      "El 6 salió 3 veces\n",
      "El 7 salió 6 veces\n",
      "El 8 salió 3 veces\n",
      "El 9 salió 3 veces\n",
      "El 10 salió 5 veces\n",
      "El 11 salió 2 veces\n",
      "El 12 salió 4 veces\n",
      "El 13 salió 1 veces\n",
      "El 14 salió 1 veces\n",
      "El 15 salió 5 veces\n",
      "El 16 salió 6 veces\n",
      "El 17 salió 3 veces\n",
      "El 18 salió 1 veces\n",
      "El 19 salió 3 veces\n",
      "El 20 salió 5 veces\n",
      "El 21 salió 3 veces\n",
      "El 22 salió 4 veces\n",
      "El 23 salió 3 veces\n",
      "El 24 salió 5 veces\n",
      "El 25 salió 1 veces\n",
      "El 26 salió 1 veces\n",
      "El 27 salió 3 veces\n",
      "El 28 salió 3 veces\n",
      "El 29 salió 0 veces\n",
      "El 30 salió 3 veces\n",
      "El 31 salió 3 veces\n",
      "El 32 salió 3 veces\n",
      "El 33 salió 2 veces\n",
      "El 34 salió 3 veces\n",
      "El 35 salió 2 veces\n",
      "El 36 salió 4 veces\n",
      "El 37 salió 3 veces\n",
      "El 38 salió 4 veces\n",
      "El 39 salió 1 veces\n",
      "El 40 salió 4 veces\n",
      "El 41 salió 0 veces\n",
      "El 42 salió 2 veces\n",
      "El 43 salió 3 veces\n",
      "El 44 salió 0 veces\n",
      "El 45 salió 4 veces\n",
      "El 46 salió 2 veces\n",
      "El 47 salió 5 veces\n",
      "El 48 salió 2 veces\n",
      "El 49 salió 3 veces\n",
      "El 50 salió 1 veces\n",
      "El 51 salió 4 veces\n",
      "El 52 salió 1 veces\n",
      "El 53 salió 4 veces\n",
      "El 54 salió 2 veces\n",
      "El 55 salió 4 veces\n",
      "El 56 salió 2 veces\n",
      "El 57 salió 0 veces\n",
      "El 58 salió 2 veces\n",
      "El 59 salió 6 veces\n",
      "El 60 salió 3 veces\n",
      "El 61 salió 3 veces\n",
      "El 62 salió 5 veces\n",
      "El 63 salió 1 veces\n",
      "El 64 salió 0 veces\n",
      "El 65 salió 4 veces\n",
      "El 66 salió 1 veces\n",
      "El 67 salió 6 veces\n",
      "El 68 salió 4 veces\n",
      "El 69 salió 4 veces\n",
      "El 70 salió 3 veces\n",
      "El 71 salió 2 veces\n",
      "El 72 salió 1 veces\n",
      "El 73 salió 4 veces\n",
      "El 74 salió 3 veces\n",
      "El 75 salió 4 veces\n",
      "El 76 salió 3 veces\n",
      "El 77 salió 2 veces\n",
      "El 78 salió 2 veces\n",
      "El 79 salió 1 veces\n",
      "El 80 salió 3 veces\n",
      "El 81 salió 4 veces\n",
      "El 82 salió 1 veces\n",
      "El 83 salió 2 veces\n",
      "El 84 salió 4 veces\n",
      "El 85 salió 0 veces\n",
      "El 86 salió 2 veces\n",
      "El 87 salió 2 veces\n",
      "El 88 salió 4 veces\n",
      "El 89 salió 3 veces\n",
      "El 90 salió 2 veces\n",
      "El 91 salió 1 veces\n",
      "El 92 salió 4 veces\n",
      "El 93 salió 2 veces\n",
      "El 94 salió 2 veces\n",
      "El 95 salió 3 veces\n",
      "El 96 salió 4 veces\n",
      "El 97 salió 3 veces\n",
      "El 98 salió 3 veces\n",
      "El 99 salió 8 veces\n",
      "El 100 salió 0 veces\n",
      "El 101 salió 5 veces\n",
      "El 102 salió 4 veces\n",
      "El 103 salió 3 veces\n",
      "El 104 salió 0 veces\n",
      "El 105 salió 1 veces\n",
      "El 106 salió 2 veces\n",
      "El 107 salió 6 veces\n",
      "El 108 salió 1 veces\n",
      "El 109 salió 4 veces\n",
      "El 110 salió 5 veces\n",
      "El 111 salió 3 veces\n",
      "El 112 salió 3 veces\n",
      "El 113 salió 2 veces\n",
      "El 114 salió 4 veces\n",
      "El 115 salió 2 veces\n",
      "El 116 salió 3 veces\n",
      "El 117 salió 3 veces\n",
      "El 118 salió 3 veces\n",
      "El 119 salió 4 veces\n",
      "El 120 salió 0 veces\n",
      "El 121 salió 3 veces\n",
      "El 122 salió 4 veces\n",
      "El 123 salió 3 veces\n",
      "El 124 salió 4 veces\n",
      "El 125 salió 0 veces\n",
      "El 126 salió 6 veces\n",
      "El 127 salió 5 veces\n",
      "El 128 salió 2 veces\n",
      "El 129 salió 3 veces\n",
      "El 130 salió 0 veces\n",
      "El 131 salió 1 veces\n",
      "El 132 salió 6 veces\n",
      "El 133 salió 0 veces\n",
      "El 134 salió 6 veces\n",
      "El 135 salió 4 veces\n",
      "El 136 salió 3 veces\n",
      "El 137 salió 3 veces\n",
      "El 138 salió 1 veces\n",
      "El 139 salió 5 veces\n",
      "El 140 salió 4 veces\n",
      "El 141 salió 4 veces\n",
      "El 142 salió 2 veces\n",
      "El 143 salió 1 veces\n",
      "El 144 salió 5 veces\n",
      "El 145 salió 4 veces\n",
      "El 146 salió 1 veces\n",
      "El 147 salió 7 veces\n",
      "El 148 salió 1 veces\n",
      "El 149 salió 3 veces\n",
      "El 150 salió 4 veces\n",
      "El 151 salió 3 veces\n",
      "El 152 salió 1 veces\n",
      "El 153 salió 3 veces\n",
      "El 154 salió 3 veces\n",
      "El 155 salió 2 veces\n",
      "El 156 salió 6 veces\n",
      "El 157 salió 4 veces\n",
      "El 158 salió 2 veces\n",
      "El 159 salió 3 veces\n",
      "El 160 salió 3 veces\n",
      "El 161 salió 0 veces\n",
      "El 162 salió 3 veces\n",
      "El 163 salió 1 veces\n",
      "El 164 salió 3 veces\n",
      "El 165 salió 4 veces\n",
      "El 166 salió 4 veces\n",
      "El 167 salió 3 veces\n",
      "El 168 salió 2 veces\n",
      "El 169 salió 4 veces\n",
      "El 170 salió 0 veces\n",
      "El 171 salió 3 veces\n",
      "El 172 salió 2 veces\n",
      "El 173 salió 2 veces\n",
      "El 174 salió 4 veces\n",
      "El 175 salió 5 veces\n",
      "El 176 salió 2 veces\n",
      "El 177 salió 3 veces\n",
      "El 178 salió 5 veces\n",
      "El 179 salió 3 veces\n",
      "El 180 salió 6 veces\n",
      "El 181 salió 0 veces\n",
      "El 182 salió 3 veces\n",
      "El 183 salió 3 veces\n",
      "El 184 salió 1 veces\n",
      "El 185 salió 6 veces\n",
      "El 186 salió 2 veces\n",
      "El 187 salió 1 veces\n",
      "El 188 salió 5 veces\n",
      "El 189 salió 5 veces\n",
      "El 190 salió 4 veces\n",
      "El 191 salió 7 veces\n",
      "El 192 salió 3 veces\n",
      "El 193 salió 2 veces\n",
      "El 194 salió 5 veces\n",
      "El 195 salió 5 veces\n",
      "El 196 salió 1 veces\n",
      "El 197 salió 1 veces\n",
      "El 198 salió 3 veces\n",
      "El 199 salió 1 veces\n",
      "El 200 salió 5 veces\n",
      "El 201 salió 1 veces\n",
      "El 202 salió 3 veces\n",
      "El 203 salió 3 veces\n",
      "El 204 salió 2 veces\n",
      "El 205 salió 1 veces\n",
      "El 206 salió 2 veces\n",
      "El 207 salió 4 veces\n",
      "El 208 salió 0 veces\n",
      "El 209 salió 4 veces\n",
      "El 210 salió 6 veces\n",
      "El 211 salió 2 veces\n",
      "El 212 salió 6 veces\n",
      "El 213 salió 2 veces\n",
      "El 214 salió 7 veces\n",
      "El 215 salió 3 veces\n",
      "El 216 salió 4 veces\n",
      "El 217 salió 1 veces\n",
      "El 218 salió 3 veces\n",
      "El 219 salió 1 veces\n",
      "El 220 salió 1 veces\n",
      "El 221 salió 5 veces\n",
      "El 222 salió 1 veces\n",
      "El 223 salió 1 veces\n",
      "El 224 salió 4 veces\n",
      "El 225 salió 3 veces\n",
      "El 226 salió 5 veces\n",
      "El 227 salió 1 veces\n",
      "El 228 salió 0 veces\n",
      "El 229 salió 4 veces\n",
      "El 230 salió 1 veces\n",
      "El 231 salió 3 veces\n",
      "El 232 salió 2 veces\n",
      "El 233 salió 4 veces\n",
      "El 234 salió 4 veces\n",
      "El 235 salió 0 veces\n",
      "El 236 salió 4 veces\n",
      "El 237 salió 2 veces\n",
      "El 238 salió 0 veces\n",
      "El 239 salió 6 veces\n",
      "El 240 salió 1 veces\n",
      "El 241 salió 2 veces\n",
      "El 242 salió 2 veces\n",
      "El 243 salió 0 veces\n",
      "El 244 salió 2 veces\n",
      "El 245 salió 3 veces\n",
      "El 246 salió 3 veces\n",
      "El 247 salió 2 veces\n",
      "El 248 salió 4 veces\n",
      "El 249 salió 2 veces\n",
      "El 250 salió 1 veces\n",
      "El 251 salió 4 veces\n",
      "El 252 salió 3 veces\n",
      "El 253 salió 1 veces\n",
      "El 254 salió 7 veces\n",
      "El 255 salió 2 veces\n",
      "El 256 salió 2 veces\n",
      "El 257 salió 2 veces\n",
      "El 258 salió 4 veces\n",
      "El 259 salió 2 veces\n",
      "El 260 salió 5 veces\n",
      "El 261 salió 5 veces\n",
      "El 262 salió 2 veces\n",
      "El 263 salió 1 veces\n",
      "El 264 salió 3 veces\n",
      "El 265 salió 3 veces\n",
      "El 266 salió 2 veces\n",
      "El 267 salió 3 veces\n",
      "El 268 salió 1 veces\n",
      "El 269 salió 3 veces\n",
      "El 270 salió 1 veces\n",
      "El 271 salió 0 veces\n",
      "El 272 salió 4 veces\n",
      "El 273 salió 3 veces\n",
      "El 274 salió 3 veces\n",
      "El 275 salió 7 veces\n",
      "El 276 salió 7 veces\n",
      "El 277 salió 0 veces\n",
      "El 278 salió 4 veces\n",
      "El 279 salió 5 veces\n",
      "El 280 salió 2 veces\n",
      "El 281 salió 1 veces\n",
      "El 282 salió 4 veces\n",
      "El 283 salió 3 veces\n",
      "El 284 salió 3 veces\n",
      "El 285 salió 2 veces\n",
      "El 286 salió 1 veces\n",
      "El 287 salió 5 veces\n",
      "El 288 salió 3 veces\n",
      "El 289 salió 1 veces\n",
      "El 290 salió 0 veces\n",
      "El 291 salió 1 veces\n",
      "El 292 salió 1 veces\n",
      "El 293 salió 2 veces\n",
      "El 294 salió 8 veces\n",
      "El 295 salió 3 veces\n",
      "El 296 salió 2 veces\n",
      "El 297 salió 1 veces\n",
      "El 298 salió 7 veces\n",
      "El 299 salió 1 veces\n",
      "El 300 salió 0 veces\n",
      "El 301 salió 4 veces\n",
      "El 302 salió 4 veces\n",
      "El 303 salió 4 veces\n",
      "El 304 salió 1 veces\n",
      "El 305 salió 1 veces\n",
      "El 306 salió 2 veces\n",
      "El 307 salió 4 veces\n",
      "El 308 salió 3 veces\n",
      "El 309 salió 1 veces\n",
      "El 310 salió 5 veces\n",
      "El 311 salió 5 veces\n",
      "El 312 salió 6 veces\n",
      "El 313 salió 4 veces\n",
      "El 314 salió 6 veces\n",
      "El 315 salió 2 veces\n",
      "El 316 salió 6 veces\n",
      "El 317 salió 5 veces\n",
      "El 318 salió 5 veces\n",
      "El 319 salió 2 veces\n",
      "El 320 salió 3 veces\n",
      "El 321 salió 2 veces\n",
      "El 322 salió 2 veces\n",
      "El 323 salió 4 veces\n",
      "El 324 salió 6 veces\n",
      "El 325 salió 2 veces\n",
      "El 326 salió 3 veces\n",
      "El 327 salió 1 veces\n",
      "El 328 salió 2 veces\n",
      "El 329 salió 2 veces\n",
      "El 330 salió 3 veces\n",
      "El 331 salió 1 veces\n",
      "El 332 salió 0 veces\n",
      "El 333 salió 2 veces\n",
      "El 334 salió 4 veces\n",
      "El 335 salió 6 veces\n",
      "El 336 salió 2 veces\n",
      "El 337 salió 3 veces\n",
      "El 338 salió 2 veces\n",
      "El 339 salió 3 veces\n",
      "El 340 salió 4 veces\n",
      "El 341 salió 3 veces\n",
      "El 342 salió 5 veces\n",
      "El 343 salió 3 veces\n",
      "El 344 salió 2 veces\n",
      "El 345 salió 1 veces\n",
      "El 346 salió 1 veces\n",
      "El 347 salió 1 veces\n",
      "El 348 salió 2 veces\n",
      "El 349 salió 2 veces\n",
      "El 350 salió 3 veces\n",
      "El 351 salió 2 veces\n"
     ]
    }
   ],
   "source": [
    "#Código dado\n",
    "#Código dado\n",
    "from random import randint\n",
    "\n",
    "def lanzamiento_dato(N, M):\n",
    "\n",
    "    contadores = [0] * N\n",
    "\n",
    "    for _ in range(M):\n",
    "\n",
    "\n",
    "        cara = randint(0, N - 1)\n",
    "        contadores[cara] = contadores[cara] + 1\n",
    "    #     contadores[cara - 1] += 1\n",
    "\n",
    "    return contadores\n",
    "\n",
    "\n",
    "N = int(input('N'))\n",
    "M = int(input('M'))\n",
    "\n",
    "frecuencia = lanzamiento_dato(N, M)\n",
    "\n",
    "for i in range(N):\n",
    "    \n",
    "    print('El', i + 1, 'salió', frecuencia[i], 'veces')    \n"
   ]
  },
  {
   "cell_type": "markdown",
   "metadata": {},
   "source": [
    "### Gato\n",
    "\n",
    "Escribir un programa que indique el estado de un tablero de gato:\n",
    "- Gana X\n",
    "- Gana O\n",
    "- Sin terminar\n",
    "\n",
    "\n",
    "0,0 | 0,1 | 0,2\n",
    "--- | --- | ---\n",
    "1,0 | 1,1 | 1,2\n",
    "2,0 | 2,1 | 2,2\n",
    "\n",
    "Debe pedir al usuario el valor en cada posición del tablero"
   ]
  },
  {
   "cell_type": "code",
   "execution_count": 6,
   "metadata": {},
   "outputs": [
    {
     "name": "stdout",
     "output_type": "stream",
     "text": [
      "0,0:X\n",
      "0,1:X\n",
      "0,2:X\n",
      "1,0:O\n",
      "1,1:O\n",
      "1,2: \n",
      "2,0:X\n",
      "2,1:O\n",
      "2,2: \n",
      "X X X \n",
      "O O   \n",
      "X O   \n",
      "Gana cruz\n"
     ]
    }
   ],
   "source": [
    "#Código gato\n",
    "\n",
    "#ejemplo de tablero\n",
    "#tablero = [['X','X',' '], ['O','X','O'], ['X','O',' ']]\n",
    "\n",
    "#pedir datos al usuario\n",
    "tablero = []\n",
    "for i in range(3):\n",
    "    fila = []\n",
    "    for j in range(3):\n",
    "        valor = input('{},{}:'.format(i,j))\n",
    "        fila.append(valor)\n",
    "    tablero.append(fila)\n",
    "\n",
    "for i in range(len(tablero)):\n",
    "    fila = \"\"\n",
    "    for j in range(len(tablero[i])):\n",
    "        fila += tablero[i][j] + \" \"\n",
    "        \n",
    "    print(fila)\n",
    "    \n",
    "gana_cruz = False\n",
    "gana_circulo = False\n",
    "invalido = False\n",
    "\n",
    "\n",
    "#revisar horizontal\n",
    "for i in range(len(tablero)):\n",
    "    iguales = True\n",
    "    for j in range(len(tablero[i]) - 1):\n",
    "        if tablero[i][j] != tablero[i][j + 1]:\n",
    "            iguales = False\n",
    "    if iguales:\n",
    "        if tablero[i][0] == 'X':\n",
    "            gana_cruz = True\n",
    "        elif tablero[i][0] == 'O':\n",
    "            gana_circulo = True\n",
    "        \n",
    "#revisar vertical\n",
    "for j in range(len(tablero[0])):\n",
    "    iguales = True\n",
    "    for i in range(len(tablero) - 1):\n",
    "        if tablero[i][j] != tablero[i + 1][j]:\n",
    "            iguales = False\n",
    "    if iguales:\n",
    "        if tablero[0][j] == 'X':\n",
    "            gana_cruz = True\n",
    "        elif tablero[0][j] == 'O':\n",
    "            gana_circulo = True\n",
    "    \n",
    "\n",
    "#revisar diagonal descendente\n",
    "iguales = True\n",
    "for i in range(len(tablero) - 1):\n",
    "    if tablero[i][i] != tablero[i + 1][i + 1]:\n",
    "        iguales = False\n",
    "\n",
    "if iguales:\n",
    "    if tablero[0][0] == 'X':\n",
    "        gana_cruz = True\n",
    "    elif tablero[0][0] == 'O':\n",
    "        gana_circulo = True\n",
    "        \n",
    "        \n",
    "#revisar diagonal ascendente\n",
    "iguales = True\n",
    "for i in range(len(tablero) - 1):\n",
    "    if tablero[len(tablero) - 1 - i][i] != tablero[len(tablero) - 1 - i - 1][i + 1]:\n",
    "        iguales = False\n",
    "        \n",
    "if iguales:\n",
    "    if tablero[0][0] == 'X':\n",
    "        gana_cruz = True\n",
    "    elif tablero[0][0] == 'O':\n",
    "        gana_circulo = True\n",
    "    \n",
    "if gana_cruz and gana_circulo:\n",
    "    print('Tablero inválido')\n",
    "elif gana_cruz:\n",
    "    print('Gana cruz')\n",
    "elif gana_circulo:\n",
    "    print('Gana círculo')\n",
    "else:\n",
    "    print('Nadie ha ganado')"
   ]
  },
  {
   "cell_type": "markdown",
   "metadata": {},
   "source": [
    "### Gato función\n",
    "Escribir una función que reciba un tablero de gato y retorne su estado:\n",
    "- 'X' (si gana X)\n",
    "- 'O' (si gana O)\n",
    "- '' (Si el juego está sin terminar)\n",
    "- '!' (Si el juego es inválido)\n",
    "\n",
    "0,0 | 0,1 | 0,2\n",
    "--- | --- | ---\n",
    "1,0 | 1,1 | 1,2\n",
    "2,0 | 2,1 | 2,2\n"
   ]
  },
  {
   "cell_type": "code",
   "execution_count": 9,
   "metadata": {},
   "outputs": [
    {
     "name": "stdout",
     "output_type": "stream",
     "text": [
      "X X X \n",
      "O O O \n",
      "X O   \n",
      "Tablero inválido\n"
     ]
    }
   ],
   "source": [
    "#Código gato\n",
    "\n",
    "tab = [['X','X','X'], ['O','O','O'], ['X','O',' ']]\n",
    "\n",
    "def obtener_estado(tablero):\n",
    "    for i in range(len(tablero)):\n",
    "        fila = \"\"\n",
    "        for j in range(len(tablero[i])):\n",
    "            fila += tablero[i][j] + \" \"\n",
    "\n",
    "        print(fila)\n",
    "\n",
    "    gana_cruz = False\n",
    "    gana_circulo = False\n",
    "    invalido = False\n",
    "\n",
    "\n",
    "    #revisar horizontal\n",
    "    for i in range(len(tablero)):\n",
    "        iguales = True\n",
    "        for j in range(len(tablero[i]) - 1):\n",
    "            if tablero[i][j] != tablero[i][j + 1]:\n",
    "                iguales = False\n",
    "        if iguales:\n",
    "            if tablero[i][0] == 'X':\n",
    "                gana_cruz = True\n",
    "            elif tablero[i][0] == 'O':\n",
    "                gana_circulo = True\n",
    "\n",
    "    #revisar vertical\n",
    "    for j in range(len(tablero[0])):\n",
    "        iguales = True\n",
    "        for i in range(len(tablero) - 1):\n",
    "            if tablero[i][j] != tablero[i + 1][j]:\n",
    "                iguales = False\n",
    "        if iguales:\n",
    "            if tablero[0][j] == 'X':\n",
    "                gana_cruz = True\n",
    "            elif tablero[0][j] == 'O':\n",
    "                gana_circulo = True\n",
    "\n",
    "\n",
    "    #revisar diagonal descendente\n",
    "    iguales = True\n",
    "    for i in range(len(tablero) - 1):\n",
    "        if tablero[i][i] != tablero[i + 1][i + 1]:\n",
    "            iguales = False\n",
    "\n",
    "    if iguales:\n",
    "        if tablero[0][0] == 'X':\n",
    "            gana_cruz = True\n",
    "        elif tablero[0][0] == 'O':\n",
    "            gana_circulo = True\n",
    "\n",
    "\n",
    "    #revisar diagonal ascendente\n",
    "    iguales = True\n",
    "    for i in range(len(tablero) - 1):\n",
    "        if tablero[len(tablero) - 1 - i][i] != tablero[len(tablero) - 1 - i - 1][i + 1]:\n",
    "            iguales = False\n",
    "\n",
    "    if iguales:\n",
    "        if tablero[0][0] == 'X':\n",
    "            gana_cruz = True\n",
    "        elif tablero[0][0] == 'O':\n",
    "            gana_circulo = True\n",
    "\n",
    "    if gana_cruz and gana_circulo:\n",
    "        return '!'\n",
    "    elif gana_cruz:\n",
    "        return 'X'\n",
    "    elif gana_circulo:\n",
    "        return 'O'\n",
    "    else:\n",
    "        return ''\n",
    "    \n",
    "estado = obtener_estado(tab)\n",
    "if estado == '!':\n",
    "    print('Tablero inválido')\n",
    "elif estado == 'X':\n",
    "    print('Gana X')\n",
    "elif estado == 'O':\n",
    "    print('Gana O')\n",
    "else:\n",
    "    print('Nadie ha ganado')"
   ]
  }
 ],
 "metadata": {
  "anaconda-cloud": {},
  "kernelspec": {
   "display_name": "Python 3",
   "language": "python",
   "name": "python3"
  },
  "language_info": {
   "codemirror_mode": {
    "name": "ipython",
    "version": 3
   },
   "file_extension": ".py",
   "mimetype": "text/x-python",
   "name": "python",
   "nbconvert_exporter": "python",
   "pygments_lexer": "ipython3",
   "version": "3.7.1"
  }
 },
 "nbformat": 4,
 "nbformat_minor": 1
}
