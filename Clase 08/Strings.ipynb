{
 "cells": [
  {
   "cell_type": "markdown",
   "metadata": {},
   "source": [
    "# Clase 8\n",
    "\n",
    "## Strings\n",
    "\n",
    "Los strings son uno de los tipos básicos incluídos en python. \n",
    "\n",
    "Formalmente un string es una ***secuencia inmutable*** de *code points* [Unicode](https://es.wikipedia.org/wiki/Unicode).\n",
    "\n",
    "Menos formalmente un string es una cadena de caracteres.\n",
    "\n",
    "### Definición\n",
    "Habíamos visto 2 formas de definir strings:"
   ]
  },
  {
   "cell_type": "code",
   "execution_count": 1,
   "metadata": {},
   "outputs": [
    {
     "name": "stdout",
     "output_type": "stream",
     "text": [
      "String 1\n",
      "String 2\n"
     ]
    }
   ],
   "source": [
    "#Usando comillas simples\n",
    "s1 = 'String 1'\n",
    "print(s1)\n",
    "\n",
    "#Usando comillas dobles\n",
    "s2 = \"String 2\"\n",
    "print(s2)"
   ]
  },
  {
   "cell_type": "markdown",
   "metadata": {},
   "source": [
    "Existe una tercera forma utilizando 3 comillas simples o 3 comillas dobles. Esta forma nos permite definir strings multilínea"
   ]
  },
  {
   "cell_type": "code",
   "execution_count": 2,
   "metadata": {},
   "outputs": [
    {
     "name": "stdout",
     "output_type": "stream",
     "text": [
      "Hola soy un string con tres comillas simples y\n",
      "ocupo más de una línea.\n",
      "Sorprendente :O\n",
      "Hola soy un string casi igual al anterior, pero con tres comillas dobles.\n",
      "También ocupo más de una línea\n",
      "Sigue siendo sorprendente\n"
     ]
    }
   ],
   "source": [
    "#Triple comilla simple\n",
    "s1 = '''Hola soy un string con tres comillas simples y\n",
    "ocupo más de una línea.\n",
    "Sorprendente :O'''\n",
    "print(s1)\n",
    "\n",
    "#Triple comilla doble\n",
    "s2 = \"\"\"Hola soy un string casi igual al anterior, pero con tres comillas dobles.\n",
    "También ocupo más de una línea\n",
    "Sigue siendo sorprendente\"\"\"\n",
    "print(s2)"
   ]
  },
  {
   "cell_type": "markdown",
   "metadata": {},
   "source": [
    "Otra forma forma de definir un string multilínea es utilizando el caracter especial ```\\n``` (*new line* o salto de línea)"
   ]
  },
  {
   "cell_type": "code",
   "execution_count": 5,
   "metadata": {},
   "outputs": [
    {
     "name": "stdout",
     "output_type": "stream",
     "text": [
      "Hola, yo también puedo\n",
      "tener más de una línea\n"
     ]
    }
   ],
   "source": [
    "s = 'Hola, yo también puedo\\ntener más de una línea'\n",
    "print(s)"
   ]
  },
  {
   "cell_type": "markdown",
   "metadata": {},
   "source": [
    "El \\ se denomina caracter de escape y se combina con otros caracteres para darles un nuevo significado\n",
    "\n",
    "\n",
    "Secuencia | Significado\n",
    "--- | --- | ---\n",
    "\\\" | Comilla doble\n",
    "\\' | Comilla simple\n",
    "\\n | Salto de línea\n",
    "\\t | Tabulador\n",
    "\\\\\\ | Backslash"
   ]
  },
  {
   "cell_type": "code",
   "execution_count": 9,
   "metadata": {},
   "outputs": [
    {
     "name": "stdout",
     "output_type": "stream",
     "text": [
      "hola quiero escribir comillas dobles \" y seguir escribiendo\n"
     ]
    }
   ],
   "source": [
    "a = \"hola quiero escribir comillas dobles \\\" y seguir escribiendo\"\n",
    "print(a)"
   ]
  },
  {
   "cell_type": "code",
   "execution_count": 10,
   "metadata": {},
   "outputs": [
    {
     "name": "stdout",
     "output_type": "stream",
     "text": [
      "Aunque este string esté definido con comillas dobles podemos escribir \"comillas dobles\" sin problemas gracias a que las estamos escapando\n",
      "Análogo al ejemplo anterior, no hay problemas con las 'comillas simples'\n",
      "Ya habíamos visto un string\n",
      "multilínea\n",
      "\tA veces queremos tabular para que las cosas se vean más ordenadas\n",
      "¿Y si queremos escribir un backslash? Fácil \\ usamos doble backslash: el primero para escapar al segundo\n"
     ]
    }
   ],
   "source": [
    "s1 = \"Aunque este string esté definido con comillas dobles podemos escribir \\\"comillas dobles\\\" sin problemas gracias a que las estamos escapando\"\n",
    "print(s1)\n",
    "\n",
    "s2 = 'Análogo al ejemplo anterior, no hay problemas con las \\'comillas simples\\''\n",
    "print(s2)\n",
    "\n",
    "s3 = 'Ya habíamos visto un string\\nmultilínea'\n",
    "print(s3)\n",
    "\n",
    "s4 = '\\tA veces queremos tabular para que las cosas se vean más ordenadas'\n",
    "print(s4)\n",
    "\n",
    "s5 = '¿Y si queremos escribir un backslash? Fácil \\\\ usamos doble backslash: el primero para escapar al segundo'\n",
    "print(s5)"
   ]
  },
  {
   "cell_type": "markdown",
   "metadata": {
    "collapsed": true
   },
   "source": [
    "### Formato\n",
    "\n",
    "El método ```format``` de los strings nos permite armar strings más complejos, además de poder especificar el formato de los números"
   ]
  },
  {
   "cell_type": "code",
   "execution_count": 21,
   "metadata": {},
   "outputs": [
    {
     "name": "stdout",
     "output_type": "stream",
     "text": [
      "podemos escribir el string y dejar espacios libres como este 1234 y este segundo elemento para que se reemplazen\n",
      "podemos escribir el string y dejar espacios libres como este {} y este {} para que se reemplazen\n"
     ]
    }
   ],
   "source": [
    "s = 'podemos escribir el string y dejar espacios libres como este {} y este {} para que se reemplazen'\n",
    "# print(s)\n",
    "print(s.format(1234, 'segundo elemento'))\n",
    "print(s)"
   ]
  },
  {
   "cell_type": "markdown",
   "metadata": {
    "collapsed": true
   },
   "source": [
    "Donde escribimos {} para indicar que ahí habrá un reemplazo, podemos escribir {:x} para especficiar el formato del número que vamos a reemplazar, donde x puede ser ([entre otros valores](https://docs.python.org/3.5/library/string.html#formatstrings))\n",
    "\n",
    "tipo | Significado\n",
    "--- | --- | ---\n",
    "d | entero en base 10\n",
    "b | entero en base 2\n",
    "x | entero en base 16\n",
    "f | punto flotante\n",
    ".nf | punto flotante con n dígitos de precisión\n",
    "E | punto flotante en notación científica"
   ]
  },
  {
   "cell_type": "code",
   "execution_count": 15,
   "metadata": {},
   "outputs": [
    {
     "name": "stdout",
     "output_type": "stream",
     "text": [
      "Acá se imprime un entero en base 10: 11\n",
      "Acá se imprime el entero en binario: 1011\n",
      "Acá se imprime un entero en hexadecimal: b\n",
      "Acá se imprime un float: 3.141593\n",
      "Acá se imprime el float con 2 dígitos de precisión: 3.14\n",
      "Acá se imprime el float con 0 dígitos de precisión: 3\n",
      "Acá se imprime el float en notación científica: 3.14E+00\n"
     ]
    }
   ],
   "source": [
    "from math import pi\n",
    "\n",
    "entero = 11\n",
    "print('Acá se imprime un entero en base 10: {:d}'.format(entero))\n",
    "print('Acá se imprime el entero en binario: {:b}'.format(entero))\n",
    "print('Acá se imprime un entero en hexadecimal: {:x}'.format(entero))\n",
    "\n",
    "print('Acá se imprime un float: {:f}'.format(pi))\n",
    "print('Acá se imprime el float con 2 dígitos de precisión: {:.2f}'.format(pi))\n",
    "print('Acá se imprime el float con 0 dígitos de precisión: {:.0f}'.format(pi))\n",
    "print('Acá se imprime el float en notación científica: {:E}'.format(pi))"
   ]
  },
  {
   "cell_type": "markdown",
   "metadata": {},
   "source": [
    "### Representación interna\n",
    "\n",
    "Habíamos dicho que un string es una ***secuencia inmutable*** de *code points* [Unicode](https://es.wikipedia.org/wiki/Unicode) o una \"cadena de caracteres\". En python todas las secuencias son indexables, es decir, se puede acceder a su i-ésimo elemento (contando desde 0). Para esto se utiliza el operador []\n"
   ]
  },
  {
   "cell_type": "code",
   "execution_count": 16,
   "metadata": {},
   "outputs": [
    {
     "name": "stdout",
     "output_type": "stream",
     "text": [
      "o\n"
     ]
    }
   ],
   "source": [
    "s = 'yo soy tu padre'\n",
    "print(s[1])"
   ]
  },
  {
   "cell_type": "markdown",
   "metadata": {},
   "source": [
    "En el ejemplo anterior guardamos el string ```\"yo soy tu padre\"``` en la variable ```s``` e imprimimos la segunda letra del string accediendo a ```s[1]``` (no olvidar que en computación se parte contando desde el 0, por lo tanto la segunda letra está en la posición número 1).\n",
    "\n",
    "Según nuestra definición informal, el string como cadena de caracteres se ve de la siguiente manera:\n",
    "\n",
    "y | o |   | s | o | y |   | t | u |   | p | a | d | r | e\n",
    "--- | --- | ---\n",
    "0 | 1 | 2 | 3 | 4 | 5 | 6 | 7 | 8 | 9 | 10 | 11 | 12 | 13 | 14\n",
    "\n",
    "\n",
    "En vez de caracteres, lo que realmente se guarda en cada posición es un *code point* Unicode, que asocia un número y un caracter.\n",
    "\n",
    "Las letras y símbolos más comunes se pueden ver en la siguiente tabla\n",
    "\n",
    "![ascii table](http://www.ling.ohio-state.edu/~mcdm/LING5050/material/ASCII-Table.png)\n",
    "\n",
    "**Obs:** Las minúsculas tienen un código mayor que las mayúscula, es por esto que al comparar 2 letras, la minúscula es mayor que su versión en mayúscula.\n",
    "\n",
    "Lo que hay por debajo del string ```\"yo soy tu padre\"``` es\n",
    "\n",
    "y | o |   | s | o | y |   | t | u |   | p | a | d | r | e\n",
    "--- | --- | ---\n",
    "121 | 111 | 32 | 115 | 111 | 121 | 32 | 116 | 117 | 32 | 112 | 97 | 100 | 114 | 101\n",
    "0 | 1 | 2 | 3 | 4 | 5 | 6 | 7 | 8 | 9 | 10 | 11 | 12 | 13 | 14\n",
    "\n",
    "\n",
    "\n",
    "Las funciones ```ord``` y ```chr``` nos permiten pasar de un string que representa un caracter Unicode al entero que representa el *code point* del caracter y viceversa"
   ]
  },
  {
   "cell_type": "code",
   "execution_count": 17,
   "metadata": {},
   "outputs": [
    {
     "name": "stdout",
     "output_type": "stream",
     "text": [
      "el codepoint de la a es: 97\n",
      "el caracter número 121 es la: y\n"
     ]
    }
   ],
   "source": [
    "code_point = ord('a')\n",
    "caracter = chr(121)\n",
    "\n",
    "print('el codepoint de la a es:', code_point)\n",
    "print('el caracter número 121 es la:', caracter)"
   ]
  },
  {
   "cell_type": "markdown",
   "metadata": {},
   "source": [
    "Recordemos que un string es una ***secuencia inmutable***, por lo tanto no es posible modificar su valor una vez creado"
   ]
  },
  {
   "cell_type": "code",
   "execution_count": 20,
   "metadata": {},
   "outputs": [
    {
     "ename": "TypeError",
     "evalue": "'str' object does not support item assignment",
     "output_type": "error",
     "traceback": [
      "\u001b[1;31m---------------------------------------------------------------------------\u001b[0m",
      "\u001b[1;31mTypeError\u001b[0m                                 Traceback (most recent call last)",
      "\u001b[1;32m<ipython-input-20-cf5a42d8a0c2>\u001b[0m in \u001b[0;36m<module>\u001b[1;34m()\u001b[0m\n\u001b[0;32m      1\u001b[0m \u001b[0ms\u001b[0m \u001b[1;33m=\u001b[0m \u001b[1;34m'soy un string y soy inmutable'\u001b[0m\u001b[1;33m\u001b[0m\u001b[0m\n\u001b[0;32m      2\u001b[0m \u001b[1;31m#intentaremos cambiar la primera letra por una mayúscula\u001b[0m\u001b[1;33m\u001b[0m\u001b[1;33m\u001b[0m\u001b[0m\n\u001b[1;32m----> 3\u001b[1;33m \u001b[0ms\u001b[0m\u001b[1;33m[\u001b[0m\u001b[1;36m0\u001b[0m\u001b[1;33m]\u001b[0m \u001b[1;33m=\u001b[0m \u001b[1;34m'S'\u001b[0m\u001b[1;33m\u001b[0m\u001b[0m\n\u001b[0m",
      "\u001b[1;31mTypeError\u001b[0m: 'str' object does not support item assignment"
     ]
    }
   ],
   "source": [
    "s = 'soy un string y soy inmutable'\n",
    "#intentaremos cambiar la primera letra por una mayúscula\n",
    "s[0] = 'S'"
   ]
  },
  {
   "cell_type": "markdown",
   "metadata": {},
   "source": [
    "Para \"modificar\" un string hay que crear uno nuevo"
   ]
  },
  {
   "cell_type": "code",
   "execution_count": 23,
   "metadata": {},
   "outputs": [
    {
     "name": "stdout",
     "output_type": "stream",
     "text": [
      "soy un string y soy inmutable\n",
      "Soy un string y soy inmutable\n"
     ]
    }
   ],
   "source": [
    "s = 'soy un string y soy inmutable'\n",
    "s = 'Soy un string y soy inmutable'\n",
    "print(s)"
   ]
  },
  {
   "cell_type": "markdown",
   "metadata": {},
   "source": [
    "Otra función importante es ```len``` que retorna la cantidad de elementos de una **secuencia** o una **colección**. Como los strings son **secuencias** podemos aplicar len sobre el string para obtener la cantidad de caracteres que este posee."
   ]
  },
  {
   "cell_type": "code",
   "execution_count": 24,
   "metadata": {},
   "outputs": [
    {
     "name": "stdout",
     "output_type": "stream",
     "text": [
      "el largo de s es: 56\n"
     ]
    }
   ],
   "source": [
    "s = 'para obtener el largo de un string usamos la función len'\n",
    "\n",
    "print('el largo de s es:', len(s))"
   ]
  },
  {
   "cell_type": "markdown",
   "metadata": {},
   "source": [
    "Aprovechando el hecho de que el string es indexable y que podemos obtener su largo, podemos recorrerlo usando un while"
   ]
  },
  {
   "cell_type": "code",
   "execution_count": 25,
   "metadata": {},
   "outputs": [
    {
     "name": "stdout",
     "output_type": "stream",
     "text": [
      "ingresa un string: hola soy un string\n",
      "h\n",
      "o\n",
      "l\n",
      "a\n",
      " \n",
      "s\n",
      "o\n",
      "y\n",
      " \n",
      "u\n",
      "n\n",
      " \n",
      "s\n",
      "t\n",
      "r\n",
      "i\n",
      "n\n",
      "g\n"
     ]
    }
   ],
   "source": [
    "s = input('ingresa un string: ')\n",
    "i = 0\n",
    "while i < len(s):\n",
    "    print(s[i])\n",
    "    i += 1"
   ]
  },
  {
   "cell_type": "markdown",
   "metadata": {},
   "source": [
    "Cuando definimos el for, dijimos que podía aplicarse sobre cualquier objeto iterable. Todas las **secuencias** son iterables, y como los strings son **secuencias** podemos aplicar for sobre ellos para recorrerlos letra por letra."
   ]
  },
  {
   "cell_type": "code",
   "execution_count": 26,
   "metadata": {},
   "outputs": [
    {
     "name": "stdout",
     "output_type": "stream",
     "text": [
      "ingresa un string: hola soy otro string\n",
      "h\n",
      "o\n",
      "l\n",
      "a\n",
      " \n",
      "s\n",
      "o\n",
      "y\n",
      " \n",
      "o\n",
      "t\n",
      "r\n",
      "o\n",
      " \n",
      "s\n",
      "t\n",
      "r\n",
      "i\n",
      "n\n",
      "g\n"
     ]
    }
   ],
   "source": [
    "s = input('ingresa un string: ')\n",
    "for letra in s:\n",
    "    print(letra)"
   ]
  },
  {
   "cell_type": "markdown",
   "metadata": {},
   "source": [
    "**Obs** Podemos utilizar un for sobre el string cuando solo queremos recorrerlo y no vamos a usar la información de la posición (índice) de las letras del string"
   ]
  },
  {
   "cell_type": "markdown",
   "metadata": {},
   "source": [
    "Algunas operaciones típicas sobre string son las siguientes\n",
    "\n",
    "Operador | Operación\n",
    "--- | --- | ---\n",
    "```a + b``` | Retorna la concatenación a y b\n",
    "```n * a``` | Retorna un string que es n veces a\n",
    "```a in b``` | Retorna True ssi a es parte de b\n",
    "```a not in b``` | Retorna True ssi a no es parte de b"
   ]
  },
  {
   "cell_type": "code",
   "execution_count": 28,
   "metadata": {},
   "outputs": [
    {
     "name": "stdout",
     "output_type": "stream",
     "text": [
      "holachao\n",
      "holaholahola\n",
      "holaholahola\n",
      "True\n",
      "True\n"
     ]
    }
   ],
   "source": [
    "a = 'hola'\n",
    "b = 'chao'\n",
    "print(a + b)\n",
    "print(3 * a)\n",
    "print(a * 3)\n",
    "print('ol' in a)\n",
    "print('ol' not in b)"
   ]
  },
  {
   "cell_type": "markdown",
   "metadata": {},
   "source": [
    "### Actividades\n",
    "#### Quitar pares\n",
    "\n",
    "Crear una función que reciba un string y retorne un string igual al anterior, pero sin los caracteres de posición par\n",
    "\n",
    "quitar_pares('hola') -> 'oa'"
   ]
  },
  {
   "cell_type": "code",
   "execution_count": 1,
   "metadata": {},
   "outputs": [
    {
     "name": "stdout",
     "output_type": "stream",
     "text": [
      "oa\n"
     ]
    }
   ],
   "source": [
    "#Código quitar pares\n",
    "\n",
    "\n",
    "def quitar_pares(s):\n",
    "    salida = \"\"\n",
    "    \n",
    "    for i in range(len(s)):\n",
    "        if i % 2 == 1:\n",
    "            salida += s[i]\n",
    "            \n",
    "            \n",
    "    return salida\n",
    "\n",
    "print(quitar_pares('hola'))"
   ]
  },
  {
   "cell_type": "markdown",
   "metadata": {},
   "source": [
    "#### Invertir\n",
    "\n",
    "Crear una función que reciba un string y retorne el string invertido\n",
    "\n",
    "invertir('hola') -> 'aloh'"
   ]
  },
  {
   "cell_type": "code",
   "execution_count": 5,
   "metadata": {},
   "outputs": [
    {
     "name": "stdout",
     "output_type": "stream",
     "text": [
      "aloh\n"
     ]
    }
   ],
   "source": [
    "#Código invertir\n",
    "\n",
    "def invertir(s):\n",
    "    invertido = \"\"\n",
    "    \n",
    "    for letra in s:\n",
    "        invertido = letra + invertido\n",
    "        \n",
    "    return invertido\n",
    "\n",
    "print(invertir('hola'))"
   ]
  }
 ],
 "metadata": {
  "anaconda-cloud": {},
  "kernelspec": {
   "display_name": "Python 3",
   "language": "python",
   "name": "python3"
  },
  "language_info": {
   "codemirror_mode": {
    "name": "ipython",
    "version": 3
   },
   "file_extension": ".py",
   "mimetype": "text/x-python",
   "name": "python",
   "nbconvert_exporter": "python",
   "pygments_lexer": "ipython3",
   "version": "3.6.3"
  }
 },
 "nbformat": 4,
 "nbformat_minor": 1
}
