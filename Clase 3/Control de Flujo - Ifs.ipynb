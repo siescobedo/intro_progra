{
 "cells": [
  {
   "cell_type": "markdown",
   "metadata": {},
   "source": [
    "# Clase 3\n",
    "\n",
    "# Recapitulemos\n",
    "\n",
    "## if, elif y else\n",
    "\n",
    "### if\n",
    "Permite ejecutar un trozo de código siempre y cuando se cumpla una condición\n",
    "\n",
    "#### Sintaxis:\n",
    "\n",
    "```python\n",
    "if condicion:\n",
    "    bloque_de_codigo_if\n",
    "\n",
    "bloque_de_codigo_fuera_del_if\n",
    "\n",
    "```"
   ]
  },
  {
   "cell_type": "code",
   "execution_count": 2,
   "metadata": {},
   "outputs": [
    {
     "name": "stdout",
     "output_type": "stream",
     "text": [
      "Ingresa un número del 0 al 9: 10\n",
      "Error, ingresaste un número incorrecto\n",
      "¡Gracias!\n"
     ]
    }
   ],
   "source": [
    "numero = int(input(\"Ingresa un número del 0 al 9: \"))\n",
    "valido = (0 <= numero) and (numero <= 9)\n",
    "if not valido:\n",
    "    print(\"Error, ingresaste un número incorrecto\")\n",
    "print(\"¡Gracias!\")"
   ]
  },
  {
   "cell_type": "markdown",
   "metadata": {},
   "source": [
    "### else\n",
    "Ejecuta un trozo de código si no se cumple la condición de un **if** anterior\n",
    "\n",
    "\n",
    "#### Sintaxis:\n",
    "\n",
    "```python\n",
    "if condicion:\n",
    "    bloque_de_codigo_if\n",
    "else:\n",
    "    bloque_de_codigo_else\n",
    "bloque_de_codigo_fuera_del_if_else\n",
    "```"
   ]
  },
  {
   "cell_type": "code",
   "execution_count": 5,
   "metadata": {},
   "outputs": [
    {
     "name": "stdout",
     "output_type": "stream",
     "text": [
      "Ingresa un número del 0 al 9: -5\n",
      "Error, ingresaste un número incorrecto\n",
      "hola\n"
     ]
    }
   ],
   "source": [
    "numero = int(input(\"Ingresa un número del 0 al 9: \"))\n",
    "valido = (0 <= numero) and (numero <= 9) \n",
    "if valido:\n",
    "    print(\"¡Gracias!\")\n",
    "else:\n",
    "    print(\"Error, ingresaste un número incorrecto\")\n",
    "    \n"
   ]
  },
  {
   "cell_type": "markdown",
   "metadata": {},
   "source": [
    "### elif\n",
    "\n",
    "Ejecuta un trozo de código si se cumple una condición y no se ha cumplido ningún **if** o **elif** anterior (elif viene de else if)\n",
    "\n",
    "\n",
    "#### Sintaxis:\n",
    "\n",
    "```python\n",
    "if condicion_if:\n",
    "    bloque_de_codigo_if\n",
    "elif condicion_elif:\n",
    "    bloque_de_codigo_elif\n",
    "else:\n",
    "    bloque_de_codigo_else\n",
    "bloque_de_codigo_fuera_del_if_else\n",
    "```\n",
    "\n",
    "#### Observaciones\n",
    "\n",
    "1. Debe existir un **if**\n",
    "2. Pueden haber varios **elif**\n",
    "3. Podría no haber **else**"
   ]
  },
  {
   "cell_type": "code",
   "execution_count": null,
   "metadata": {},
   "outputs": [
    {
     "name": "stdout",
     "output_type": "stream",
     "text": [
      "Ingresa un número del 0 al 9: 5\n"
     ]
    }
   ],
   "source": [
    "numero = int(input(\"Ingresa un número del 0 al 9: \"))\n",
    "\n",
    "if numero < 0:\n",
    "    print('Error, el número es inferior a 0')\n",
    "elif numero > 9:\n",
    "    print('Error, el número es mayor a 9')\n",
    "else:\n",
    "    print(\"Gracias =)\")"
   ]
  },
  {
   "cell_type": "markdown",
   "metadata": {},
   "source": [
    "### Diferencia entre if y elif"
   ]
  },
  {
   "cell_type": "code",
   "execution_count": 9,
   "metadata": {},
   "outputs": [
    {
     "name": "stdout",
     "output_type": "stream",
     "text": [
      "a: 6\n",
      "Sólo if:\n",
      "3\n",
      "4\n",
      "elif:\n",
      "3\n"
     ]
    }
   ],
   "source": [
    "a = int(input(\"a: \"))\n",
    "\n",
    "print(\"Sólo if:\")\n",
    "if a < 0:\n",
    "    print(1)\n",
    "if a < 5:\n",
    "    print(2)\n",
    "if a < 10:\n",
    "    print(3)\n",
    "if a < 15:\n",
    "    print(4)\n",
    "else:\n",
    "    print(5)\n",
    "    \n",
    "print(\"elif:\")\n",
    "if a < 0:\n",
    "    print(1)\n",
    "elif a < 5:\n",
    "    print(2)\n",
    "elif a < 10:\n",
    "    print(3)\n",
    "elif a < 15:\n",
    "    print(4)\n",
    "else:\n",
    "    print(5)"
   ]
  },
  {
   "cell_type": "markdown",
   "metadata": {},
   "source": [
    "\n",
    "## Actividad\n",
    "### Calculando el promedio v4\n",
    "\n",
    "Ahora tenemos todas las herramientas para calcular el verdadero promedio final del curso. Escribe un programa que le pida al usuario todas sus notas e imprima su promedio final\n",
    "\n",
    "$$ NF = 0.15 * I1 + 0.15 * I2 + 0.3 * EX + 0.1 * T1 + 0.1 * T2 + 0.1 * T3 + 0.1 * NP$$\n",
    "\n",
    "Sea $$NE = \\frac{0.15 * (I1 + I2) + 0.3 * EX}{0.6}$$\n",
    "\n",
    "y $$NT = \\frac{T1 + T2 + T3}{3}$$\n",
    "\n",
    "Para aprobar el curso se debe cumplir que:\n",
    "\n",
    "* $NE \\geq 4.0 $\n",
    "\n",
    "* $NT \\geq 4.0$\n",
    "\n",
    "En caso contrario, NF es el mínimo entre NF y 3.9\n"
   ]
  },
  {
   "cell_type": "code",
   "execution_count": 1,
   "metadata": {},
   "outputs": [
    {
     "name": "stdout",
     "output_type": "stream",
     "text": [
      "Nota I1: 1\n",
      "Nota I2: 7\n",
      "Nota EX: 5\n",
      "Nota T1: 3\n",
      "Nota T2: 6\n",
      "Nota T3: 2\n",
      "Nota participación: 7\n",
      "Repruebas con 3.9\n"
     ]
    }
   ],
   "source": [
    "#Código promedio\n",
    "\n",
    "I1 = float(input(\"Nota I1: \"))\n",
    "I2 = float(input(\"Nota I2: \"))\n",
    "EX = float(input(\"Nota EX: \"))\n",
    "T1 = float(input(\"Nota T1: \"))\n",
    "T2 = float(input(\"Nota T2: \"))\n",
    "T3 = float(input(\"Nota T3: \"))\n",
    "NP = float(input(\"Nota participación: \"))\n",
    "\n",
    "NF = 0.15 * (I1 + I2) + 0.3 * EX + 0.1 * (T1 + T2 + T3) + 0.1 * NP\n",
    "\n",
    "NE = (I1 + I2 + 2*EX)/4\n",
    "NT = (T1 + T2 + T3)/3\n",
    "\n",
    "if NE < 4 or NT < 4:\n",
    "    if NF > 3.9:\n",
    "        NF = 3.9\n",
    "        \n",
    "    print('Repruebas con', NF)\n",
    "else:\n",
    "    \n",
    "    if NF >=4:\n",
    "        print(\"Apruebas con\", NF)\n",
    "    else:\n",
    "        print(\"Repreubas con\", NF)"
   ]
  },
  {
   "cell_type": "markdown",
   "metadata": {},
   "source": [
    "### Tenis\n",
    "\n",
    "Luego de ver una serie de partios de los Juegos Olímpicos, te dieron ganas de poner en práctica tus nuevos poderes de programación para algo relacionado.\n",
    "Escribe un programa que determina el estado de un set de tenis. El flujo debe ser el siguiente:\n",
    "1. Pedir el nombre de ambos jugadores\n",
    "2. Pedir la cantidad de juegos que ganó el primer jugador\n",
    "3. Pedir la cantidad de juegos que ganó el segundo jugador\n",
    "4. Si el set ha terminado, indicar quién lo ganó\n",
    "5. Si el set no ha terminado, indicar que el set aún no ha terminado\n",
    "6. Mostrar el marcador final\n",
    "\n",
    "[Aquí](https://es.wikipedia.org/wiki/Tenis#Puntuaci.C3.B3n) están las reglas sobre la puntuación del tenis\n",
    "\n",
    "**Dato útil**: para unir 2 strings se puede usar el operador +"
   ]
  },
  {
   "cell_type": "code",
   "execution_count": 1,
   "metadata": {},
   "outputs": [
    {
     "name": "stdout",
     "output_type": "stream",
     "text": [
      "Hola mundo\n"
     ]
    }
   ],
   "source": [
    "a = \"Hola\"\n",
    "b = \"mundo\"\n",
    "c = a + \" \" + b\n",
    "print(c)"
   ]
  },
  {
   "cell_type": "markdown",
   "metadata": {},
   "source": [
    "#### Ejemplos de interacción\n",
    "\n",
    "##### Set terminado normalmente\n",
    "\n",
    "```\n",
    "Ingrese nombre del jugador 1: Federer\n",
    "Ingrese nombre del jugador 2: Murray\n",
    "Empezó el set entre Federer y Murray\n",
    "Ingrese los juegos de Federer: 6\n",
    "Ingrese los juegos de Murray: 2\n",
    "Set terminado. El ganador es Federer\n",
    "Marcador:  6 - 2\n",
    "```\n",
    "\n",
    "\n",
    "##### Set aún no terminado\n",
    "\n",
    "```\n",
    "Ingrese nombre del jugador 1: Federer\n",
    "Ingrese nombre del jugador 2: Nadal\n",
    "Empezó el set entre Federer y Nadal\n",
    "Ingrese los juegos de Federer: 3\n",
    "Ingrese los juegos de Nadal: 5\n",
    "Set no ha terminado.\n",
    "Marcador:  3 - 5\n",
    "```\n",
    "\n",
    "##### Set terminado luego de llegar hasta los 7\n",
    "\n",
    "```\n",
    "Ingrese nombre del jugador 1: Djokovic\n",
    "Ingrese nombre del jugador 2: Nadal\n",
    "Empezó el set entre Djokovic y Nadal\n",
    "Ingrese los juegos de Djokovic: 7\n",
    "Ingrese los juegos de Nadal: 5\n",
    "Set terminado. El ganador es Djokovic\n",
    "Marcador:  7 - 5\n",
    "```\n",
    "\n",
    "##### Set con puntaje imposible\n",
    "\n",
    "```\n",
    "Ingrese nombre del jugador 1: Murray\n",
    "Ingrese nombre del jugador 2: Wawrinka\n",
    "Empezó el set entre Murray y Wawrinka\n",
    "Ingrese los juegos de Murray: 8\n",
    "Ingrese los juegos de Wawrinka: 2\n",
    "Error. Juegos ingresados no corresponden a un set.\n",
    "Marcador:  8 - 2\n",
    "```\n",
    "\n",
    "##### Set con puntaje imposible\n",
    "\n",
    "```\n",
    "Ingrese nombre del jugador 1: Wawrinka\n",
    "Ingrese nombre del jugador 2: Gonzalez\n",
    "Empezó el set entre Wawrinka y Gonzalez\n",
    "Ingrese los juegos de Wawrinka: 4\n",
    "Ingrese los juegos de Gonzalez: 7\n",
    "Error. Juegos ingresados no corresponden a un set.\n",
    "Marcador:  4 - 7\n",
    "```\n",
    "\n",
    "##### Set no terminado (llegará al menos hasta los 15)\n",
    "\n",
    "```\n",
    "Ingrese nombre del jugador 1: Massu\n",
    "Ingrese nombre del jugador 2: Roddick\n",
    "Empezó el set entre Massu y Roddick\n",
    "Ingrese los juegos de Massu: 14\n",
    "Ingrese los juegos de Roddick: 13\n",
    "Set no ha terminado.\n",
    "Marcador set:  14 - 13\n",
    "```\n",
    "\n",
    "##### Set terminado\n",
    "\n",
    "```\n",
    "Ingrese nombre del jugador 1: Massu\n",
    "Ingrese nombre del jugador 2: Roddick\n",
    "Empezó el set entre Massu y Roddick\n",
    "Ingrese los juegos de Massu: 15\n",
    "Ingrese los juegos de Roddick: 13\n",
    "Set terminado. El ganador es Massu\n",
    "Marcador set:  15 - 13\n",
    "```"
   ]
  },
  {
   "cell_type": "code",
   "execution_count": 13,
   "metadata": {},
   "outputs": [
    {
     "name": "stdout",
     "output_type": "stream",
     "text": [
      "Ingrese el nombre del jugador 1: 1\n",
      "Ingrese el nombre del jugador 2: 2\n",
      "Ingrese los juegos de 1: 7\n",
      "Ingrese los juegos de 2: 0\n",
      "Error. Los juegos ingresados no corresponden a un set\n",
      "Marcador set: 7 - 0\n"
     ]
    }
   ],
   "source": [
    "#Código tenis\n",
    "nombre_1 = input('Ingrese el nombre del jugador 1: ')\n",
    "nombre_2 = input('Ingrese el nombre del jugador 2: ')\n",
    "\n",
    "juegos_1 = int(input('Ingrese los juegos de ' + nombre_1 + ': '))\n",
    "juegos_2 = int(input('Ingrese los juegos de ' + nombre_2 + ': '))\n",
    "\n",
    "\n",
    "diferencia = juegos_1 - juegos_2\n",
    "\n",
    "if diferencia < 0:\n",
    "    diferencia = -diferencia\n",
    "    \n",
    "if ((juegos_1 == 6 and juegos_2 <= 4) or (juegos_2 == 6 and juegos_1 <= 4)) or \\\n",
    "    ((juegos_1 > 6 or juegos_2 > 6) and diferencia == 2):\n",
    "    estado = 'terminado'\n",
    "    if  juegos_1 > juegos_2:\n",
    "        ganador = nombre_1\n",
    "    else:\n",
    "        ganador = nombre_2\n",
    "        \n",
    "elif (juegos_1 < 6 and juegos_2 < 6) or diferencia < 2:\n",
    "    estado = 'jugando'\n",
    "else:\n",
    "    estado = 'inválido'\n",
    "    \n",
    "if estado == 'terminado':\n",
    "    print('Set terminado. El ganador es', ganador)\n",
    "elif estado == 'jugando':\n",
    "    print('Set no ha terminado')\n",
    "else:\n",
    "    print('Error. Los juegos ingresados no corresponden a un set')\n",
    "    \n",
    "\n",
    "print('Marcador set:', juegos_1, '-', juegos_2)"
   ]
  },
  {
   "cell_type": "markdown",
   "metadata": {},
   "source": [
    "### Tenis con tie-break\n",
    "\n",
    "El mismo programa anterior, pero agregando lo siguiente:\n",
    "\n",
    "7. Considerar tie-break para el set. Esto implica volver a preguntar los puntos de cada jugador cuando el marcador actual es 6-6.\n",
    "\n",
    "#### Ejemplos de interacción\n",
    "\n",
    "###### Set con tie-break terminado\n",
    "```\n",
    "Ingrese nombre del jugador 1: Murray\n",
    "Ingrese nombre del jugador 2: Federer\n",
    "Empezó el set entre Murray y Federer\n",
    "Ingrese los juegos de Murray: 6\n",
    "Ingrese los juegos de Federer: 6\n",
    "Set debe ir a tiebreak.\n",
    "Ingrese los puntos de tiebreak de Murray: 8\n",
    "Ingrese los puntos de tiebreak de Federer: 10\n",
    "Federer gana el tiebreak y el set\n",
    "Tiebreak:  8 - 10\n",
    "Marcador set:  6 - 7\n",
    "```\n",
    "\n",
    "##### Set con tie-break no terminado\n",
    "```\n",
    "Ingrese nombre del jugador 1: Nadal\n",
    "Ingrese nombre del jugador 2: Jarry\n",
    "Empezó el set entre Nadal y Jarry\n",
    "Ingrese los juegos de Nadal: 6\n",
    "Ingrese los juegos de Jarry: 6\n",
    "Set debe ir a tiebreak.\n",
    "Ingrese los puntos de tiebreak de Nadal: 3\n",
    "Ingrese los puntos de tiebreak de Jarry: 6\n",
    "Tiebreak:  3 - 6\n",
    "Marcador set:  6 - 6\n",
    "```\n",
    "\n",
    "##### Set con tie-break con puntaje imposible\n",
    "```\n",
    "Ingrese nombre del jugador 1: Podlipnik\n",
    "Ingrese nombre del jugador 2: Garin\n",
    "Empezó el set entre Podlipnik y Garin\n",
    "Ingrese los juegos de Podlipnik: 6\n",
    "Ingrese los juegos de Garin: 6\n",
    "Set debe ir a tiebreak.\n",
    "Ingrese los puntos de tiebreak de Podlipnik: 8\n",
    "Ingrese los puntos de tiebreak de Garin: 5\n",
    "Error. Puntos ingresados no corresponden a un tiebreak.\n",
    "Tiebreak:  8 - 5\n",
    "Marcador set:  6 - 6\n",
    "```"
   ]
  },
  {
   "cell_type": "code",
   "execution_count": null,
   "metadata": {
    "collapsed": true
   },
   "outputs": [],
   "source": [
    "#Código tenis con tie-break\n",
    "\n",
    "#Código tenis con tie-break\n",
    "\n",
    "jugador1 = input('Ingrese nombre del jugador 1: ')\n",
    "jugador2 = input('Ingrese nombre del jugador 2: ')\n",
    "print(\"Empezó el set entre\", jugador1, \"y\", jugador2)\n",
    "\n",
    "juegos1 = int(input('Juegos de ' + jugador1 + ': '))\n",
    "juegos2 = int(input('Juegos de ' + jugador2 + ': '))\n",
    "\n",
    "tieBreak = juegos1 == 6 and juegos2 == 6\n",
    "\n",
    "if tieBreak:\n",
    "    \n",
    "    print('Set debe ir a tiebreak')\n",
    "    \n",
    "    tie1 = int(input('Ingrese los puntos de tiebreak de ' + jugador1 + ': '))\n",
    "    tie2 = int(input('Ingrese los puntos de tiebreak de ' + jugador2 + ': '))\n",
    "               \n",
    "    tieTerminado = (tie1 == 7 and tie1 - tie2 >= 2) or (tie2 == 7 and tie2 - tie1 >= 2) \\\n",
    "    or (tie1 >= 7 and tie1 - tie2 == 2) or (tie2 >=7 and tie2 - tie1 == 2) \n",
    "               \n",
    "    tieInvalido = (tie1 >= 7 and tie1 - tie2 > 2) or (tie2 >= 7 and tie2 - tie1 > 2)\n",
    "    \n",
    "    if tieInvalido:\n",
    "        print('Error. Puntos ingresados no corresponden a un tiebreak')\n",
    "    elif tieTerminado:\n",
    "        if tie1 > tie2:\n",
    "            print(jugador1, 'gana el tiebreak y el set')\n",
    "            juegos1 += 1\n",
    "        else:\n",
    "            print(jugador2, 'gana el tiebreak y el set')\n",
    "            juegos2 += 1\n",
    "    \n",
    "else:\n",
    "    setTerminado = (juegos1 == 6 and juegos1 - juegos2 >= 2) or (juegos2 == 6 and juegos2 - juegos1 >= 2) \\\n",
    "                    or (juegos1 >= 7 and juegos1 - juegos2 == 2) or (juegos2 >=7 and juegos2 - juegos1 == 2)\n",
    "\n",
    "    setInvalido = (juegos1 >= 7 and juegos1 - juegos2 > 2) or (juegos2 >= 7 and juegos2 - juegos1 > 2)\n",
    "\n",
    "\n",
    "    if setInvalido:\n",
    "        print('Error. Juegos no corresponden a un set')\n",
    "    elif setTerminado:\n",
    "        if juegos1 > juegos2:\n",
    "            print('Set terminado. El ganador es', jugador1)\n",
    "        else:\n",
    "            print('Set terminado. El ganador es', jugador2)\n",
    "    else:\n",
    "        print('Set no ha terminado.')\n",
    "    \n",
    "print('Marcador set:', juegos1, '-', juegos2)"
   ]
  }
 ],
 "metadata": {
  "anaconda-cloud": {},
  "kernelspec": {
   "display_name": "Python 3",
   "language": "python",
   "name": "python3"
  },
  "language_info": {
   "codemirror_mode": {
    "name": "ipython",
    "version": 3
   },
   "file_extension": ".py",
   "mimetype": "text/x-python",
   "name": "python",
   "nbconvert_exporter": "python",
   "pygments_lexer": "ipython3",
   "version": "3.7.1"
  }
 },
 "nbformat": 4,
 "nbformat_minor": 1
}
