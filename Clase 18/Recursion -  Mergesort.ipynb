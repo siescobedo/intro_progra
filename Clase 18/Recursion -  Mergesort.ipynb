{
 "cells": [
  {
   "cell_type": "markdown",
   "metadata": {},
   "source": [
    "# Mergesort\n",
    "Vimos anteriormente algoritmos que nos permiten ordenar listas. En el caso de selection sort e insertion sort, en el peor caso ambos algoritmos realizaban del orden de $n^2$ operaciones. ¿Se podrá ordenar realizando menos operaciones que eso?\n",
    "\n",
    "La respuesta es sí. Existen algoritmos de ordenamiento que en su peor caso realizan del orden de $n * log(n)$ operaciones. Uno de estos algoritmos es mergesort que consiste en lo siguiente:\n",
    "\n",
    "1. Dividir la lista desordenada en $n$ sublistas, cada una con 1 elemento (una lista de 1 elemento se considera ordenada)\n",
    "2. Mezclar (*merge*) sublistas para producir nuevas sublistas ordenadas hasta que solo quede una sublista. Esta será la lista ordenada\n",
    "\n",
    "![mergesort](mergesort.gif 'Mergesort')\n",
    "\n",
    "Este es un clásico ejemplo de algoritmo recursivo:"
   ]
  },
  {
   "cell_type": "code",
   "execution_count": 3,
   "metadata": {
    "collapsed": false
   },
   "outputs": [
    {
     "name": "stdout",
     "output_type": "stream",
     "text": [
      "[1, 2, 3, 4, 5, 6, 7, 8]\n"
     ]
    }
   ],
   "source": [
    "def mergesort(lista):\n",
    "    largo = len(lista)\n",
    "    if largo <= 1:\n",
    "        return lista\n",
    "    \n",
    "    #aplicamos mergesort en la mitad de la izquierda y de la derecha\n",
    "    mitad = largo//2\n",
    "    izquierda = mergesort(lista[:mitad])\n",
    "    derecha = mergesort(lista[mitad:])\n",
    "    \n",
    "    #retornamos la mezcla de ambas sublistas ordenadas\n",
    "    return merge(izquierda, derecha)\n",
    "\n",
    "def merge(izquierda, derecha):\n",
    "    mezcla = []\n",
    "    \n",
    "    #mientras queden elementos en la lista de la izquierda y de la derecha\n",
    "    while len(izquierda) > 0 and len(derecha) > 0:\n",
    "        if izquierda[0] <= derecha[0]:\n",
    "            #recordar que lista.pop(0) retorna el primer elemento de lista y lo remueve de la lista\n",
    "            mezcla.append(izquierda.pop(0))\n",
    "        else:\n",
    "            [3,3,3,6]\n",
    "            mezcla.append(derecha.pop(0))\n",
    "            \n",
    "    #agregamos los elementos restantes de la lista izquierda y derecha.\n",
    "    #solo 1 de las 2 concatenaciones agregará elemementos a mezcla\n",
    "    mezcla += izquierda\n",
    "    mezcla += derecha\n",
    "    return mezcla\n",
    "\n",
    "a = [6, 5, 3, 1, 8 , 7, 2, 4]\n",
    "print(mergesort(a))"
   ]
  },
  {
   "cell_type": "markdown",
   "metadata": {},
   "source": [
    "## Actividades\n",
    "### Búsqueda binaria recursiva\n",
    "Modificar el siguiente código para que funcione de manera recursiva. Se pueden definir funciones auxiliares\n",
    "```python\n",
    "def busqueda_binaria(lista, elemento):\n",
    "    inicio = 0\n",
    "    fin = len(lista) - 1\n",
    "    while inicio <= fin:\n",
    "        mitad = (inicio + fin)//2\n",
    "        if elemento < lista[mitad]:\n",
    "            fin = mitad - 1\n",
    "        elif elemento > lista[mitad]:\n",
    "            inicio = mitad + 1\n",
    "        else:\n",
    "            return mitad\n",
    "    \n",
    "    return -1\n",
    "```"
   ]
  },
  {
   "cell_type": "code",
   "execution_count": 9,
   "metadata": {
    "collapsed": false
   },
   "outputs": [
    {
     "name": "stdout",
     "output_type": "stream",
     "text": [
      "True\n"
     ]
    }
   ],
   "source": [
    "#Código búsqueda binaria recursiva\n",
    "\n",
    "def busqueda_binaria(lista, elemento):\n",
    "    if len(lista) == 1:\n",
    "        return lista[0] == elemento\n",
    "    \n",
    "    mitad = len(lista)//2\n",
    "    \n",
    "    elemento_central = lista[mitad]\n",
    "    if elemento_central == elemento:\n",
    "        return True\n",
    "    elif elemento_central > elemento:\n",
    "        return busqueda_binaria(lista[:mitad], elemento)\n",
    "    else:\n",
    "        return busqueda_binaria(lista[mitad:], elemento)\n",
    "    \n",
    "\n",
    "lista = [4,5,2,1,5,21,4,6,234,7,2,8,9,8,6,1023123]\n",
    "lista.sort()\n",
    "\n",
    "print(busqueda_binaria(lista,1023123))\n",
    "    "
   ]
  },
  {
   "cell_type": "code",
   "execution_count": 5,
   "metadata": {
    "collapsed": false
   },
   "outputs": [
    {
     "name": "stdout",
     "output_type": "stream",
     "text": [
      "[1, 2, 2, 4, 4, 5, 5, 6, 6, 7, 8, 8, 9, 21, 234, 1023123]\n",
      "11\n"
     ]
    }
   ],
   "source": [
    "#Código búsqueda binaria recursiva\n",
    "\n",
    "def busqueda_binaria(lista, elemento):\n",
    "    return busqueda_binaria_recursiva(lista, elemento, 0, len(lista)-1)\n",
    "\n",
    "def busqueda_binaria_recursiva(lista, elemento, inicio, fin):\n",
    "    if fin < inicio:\n",
    "        return -1\n",
    "    \n",
    "    mitad = (inicio + fin)//2\n",
    "    \n",
    "    elemento_central = lista[mitad]\n",
    "    if elemento_central == elemento:\n",
    "        return mitad\n",
    "    elif elemento_central > elemento:\n",
    "        return busqueda_binaria_recursiva(lista, elemento, inicio, mitad -1)\n",
    "    else:\n",
    "        return busqueda_binaria_recursiva(lista, elemento, mitad + 1, fin)\n",
    "    \n",
    "\n",
    "lista = [4,5,2,1,5,21,4,6,234,7,2,8,9,8,6,1023123]\n",
    "lista.sort()\n",
    "print(lista)\n",
    "\n",
    "print(busqueda_binaria(lista,8))\n",
    "    "
   ]
  },
  {
   "cell_type": "markdown",
   "metadata": {},
   "source": [
    "## Comparación mergesort y selection sort\n",
    "\n",
    "Generar 10 listas con $10^i$ enteros, con i=1..4. Para cada una de las listas de un determinado $i$, copiar la lista y aplicar selection sort sobre la lista original y mergesort sobre la copia. Imprimir el número de operaciones promedio de cada algoritmo para cada valor de $i$.\n",
    "\n",
    "\n",
    "```python\n",
    "def selection_sort(lista):\n",
    "    operaciones = 0\n",
    "    for i in range(len(lista) - 1):\n",
    "        operaciones += 1\n",
    "        \n",
    "        indice_minimo = i\n",
    "        for j in range(i + 1, len(lista)):\n",
    "            operaciones += 1\n",
    "            \n",
    "            if lista[j] < lista[indice_minimo]:\n",
    "                indice_minimo = j\n",
    "                \n",
    "        auxiliar = lista[indice_minimo]\n",
    "        lista[indice_minimo] = lista[i]\n",
    "        lista[i] = auxiliar\n",
    "\n",
    "    return operaciones\n",
    "```\n",
    "\n",
    "PD: Hay que modificar mergesort para que además de retornar la lista ordenada retorne el número de operaciones (o llamados recursivos)"
   ]
  },
  {
   "cell_type": "code",
   "execution_count": 14,
   "metadata": {
    "collapsed": false
   },
   "outputs": [
    {
     "name": "stdout",
     "output_type": "stream",
     "text": [
      "operaciones mergesort 915024\n",
      "operaciones selection sort 5000049999\n"
     ]
    }
   ],
   "source": [
    "#Código comparación\n",
    "def selection_sort(lista):\n",
    "    operaciones = 0\n",
    "    for i in range(len(lista) - 1):\n",
    "        operaciones += 1\n",
    "        \n",
    "        indice_minimo = i\n",
    "        for j in range(i + 1, len(lista)):\n",
    "            operaciones += 1\n",
    "            \n",
    "            if lista[j] < lista[indice_minimo]:\n",
    "                indice_minimo = j\n",
    "                \n",
    "        auxiliar = lista[indice_minimo]\n",
    "        lista[indice_minimo] = lista[i]\n",
    "        lista[i] = auxiliar\n",
    "\n",
    "    return operaciones\n",
    "\n",
    "\n",
    "\n",
    "def mergesort(lista):\n",
    "    largo = len(lista)\n",
    "    if largo <= 1:\n",
    "        return lista, 1\n",
    "    \n",
    "    #aplicamos mergesort en la mitad de la izquierda y de la derecha\n",
    "    mitad = largo//2\n",
    "    izquierda, operaciones_izquierda = mergesort(lista[:mitad])\n",
    "    derecha, operaciones_derecha = mergesort(lista[mitad:])\n",
    "    \n",
    "    operaciones = operaciones_izquierda + operaciones_derecha\n",
    "    #retornamos la mezcla de ambas sublistas ordenadas\n",
    "    mezcla, operaciones_merge = merge(izquierda, derecha)\n",
    "    operaciones += operaciones_merge\n",
    "    return mezcla, operaciones\n",
    "\n",
    "def merge(izquierda, derecha):\n",
    "    mezcla = []\n",
    "    operaciones = 0\n",
    "    #mientras queden elementos en la lista de la izquierda y de la derecha\n",
    "    while len(izquierda) > 0 and len(derecha) > 0:\n",
    "        operaciones += 1\n",
    "        if izquierda[0] <= derecha[0]:\n",
    "            #recordar que lista.pop(0) retorna el primer elemento de lista y lo remueve de la lista\n",
    "            mezcla.append(izquierda.pop(0))\n",
    "        else:\n",
    "            [3,3,3,6]\n",
    "            mezcla.append(derecha.pop(0))\n",
    "            \n",
    "    #agregamos los elementos restantes de la lista izquierda y derecha.\n",
    "    #solo 1 de las 2 concatenaciones agregará elemementos a mezcla\n",
    "    mezcla += izquierda\n",
    "    mezcla += derecha\n",
    "    return mezcla, operaciones\n",
    "\n",
    "a = [1]*100000\n",
    "ordenada, operaciones = mergesort(a)\n",
    "print('operaciones mergesort', operaciones)\n",
    "print('operaciones selection sort', selection_sort(a))\n",
    "# from math import log2\n",
    "# print(len(a)*log2(len(a)))"
   ]
  }
 ],
 "metadata": {
  "kernelspec": {
   "display_name": "Python 3",
   "language": "python",
   "name": "python3"
  },
  "language_info": {
   "codemirror_mode": {
    "name": "ipython",
    "version": 3
   },
   "file_extension": ".py",
   "mimetype": "text/x-python",
   "name": "python",
   "nbconvert_exporter": "python",
   "pygments_lexer": "ipython3",
   "version": "3.6.0"
  }
 },
 "nbformat": 4,
 "nbformat_minor": 0
}
