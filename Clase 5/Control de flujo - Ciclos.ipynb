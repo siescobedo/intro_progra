{
 "cells": [
  {
   "cell_type": "markdown",
   "metadata": {},
   "source": [
    "# Clase 5\n",
    "\n",
    "## Control de flujo: ciclos\n",
    "\n",
    "### break\n",
    "\n",
    "Permite salir de un ciclo\n",
    "\n",
    "#### Ejemplo\n",
    "\n",
    "```python\n",
    "i = 0\n",
    "while True:\n",
    "    i += 1\n",
    "    print('Ciclo', i)\n",
    "\n",
    "```\n",
    "\n",
    "El código anterior es un ciclo infinito, ya que la condición del while es siempre ```True```. Podemos utilizar ```break```, para salir del ciclo cuando se alcance algún valor, por ejemplo, ```i==22```"
   ]
  },
  {
   "cell_type": "code",
   "execution_count": 1,
   "metadata": {},
   "outputs": [
    {
     "name": "stdout",
     "output_type": "stream",
     "text": [
      "Ciclo 1\n",
      "Ciclo 2\n",
      "Ciclo 3\n",
      "Ciclo 4\n",
      "Fuera del ciclo 5\n"
     ]
    }
   ],
   "source": [
    "i = 0\n",
    "while True:\n",
    "    i += 1\n",
    "    if i == 5:\n",
    "        break\n",
    "    print('Ciclo', i )\n",
    "    \n",
    "print('Fuera del ciclo', i)"
   ]
  },
  {
   "cell_type": "markdown",
   "metadata": {},
   "source": [
    "### continue:\n",
    "\n",
    "Regresa a la verificación de la condición, ignorando el resto del ciclo actual"
   ]
  },
  {
   "cell_type": "code",
   "execution_count": 2,
   "metadata": {},
   "outputs": [
    {
     "name": "stdout",
     "output_type": "stream",
     "text": [
      "Ciclo 1\n",
      "Ciclo 2\n",
      "Ciclo 3\n",
      "Ciclo 4\n",
      "Ciclo 5\n",
      "Ciclo 6\n",
      "Ciclo 8\n",
      "Ciclo 9\n",
      "Ciclo 10\n",
      "Ciclo 11\n",
      "Ciclo 12\n",
      "Ciclo 13\n",
      "Ciclo 15\n"
     ]
    }
   ],
   "source": [
    "i = 0\n",
    "while i < 15:\n",
    "    i += 1\n",
    "    if i%7 == 0:\n",
    "        continue\n",
    "    print('Ciclo', i)"
   ]
  },
  {
   "cell_type": "markdown",
   "metadata": {
    "collapsed": true
   },
   "source": [
    "### Observación\n",
    "Es posible mezclar todos los ```break``` y ```continue``` que uno desee"
   ]
  },
  {
   "cell_type": "code",
   "execution_count": 3,
   "metadata": {},
   "outputs": [
    {
     "name": "stdout",
     "output_type": "stream",
     "text": [
      "Ciclo 1\n",
      "Ciclo 2\n",
      "Ciclo 3\n",
      "Ciclo 4\n",
      "Ciclo 6\n",
      "Ciclo 7\n",
      "Ciclo 8\n",
      "Ciclo 9\n",
      "Ciclo 11\n",
      "Ciclo 12\n",
      "Ciclo 13\n",
      "Ciclo 14\n",
      "Fuera del ciclo 15\n"
     ]
    }
   ],
   "source": [
    "i = 0\n",
    "while True:\n",
    "    i += 1\n",
    "    if i == 15:\n",
    "        break\n",
    "    if i%5 == 0:\n",
    "        continue\n",
    "    print('Ciclo', i)\n",
    "\n",
    "print('Fuera del ciclo', i)"
   ]
  },
  {
   "cell_type": "markdown",
   "metadata": {},
   "source": [
    "### for\n",
    "Permite ejecutar un ciclo sobre una secuencia de valores\n",
    "\n",
    "#### sintaxis\n",
    "\n",
    "```python\n",
    "for i in SECUENCIA:\n",
    "    bloque_de_codigo_for\n",
    "    ...\n",
    "    ...\n",
    "    bloque_de_codigo_for\n",
    "\n",
    "codigo_fuera_de_for\n",
    "```\n",
    "\n",
    "SECUENCIA puede ser cualquier elemento iterable (más información en IIC2233 - Programación Avanzada). En nuestro caso podemos usar la función ```range``` que retorna un elemento iterable que representa un rango.\n",
    "\n",
    "#### range(fin)"
   ]
  },
  {
   "cell_type": "code",
   "execution_count": 4,
   "metadata": {},
   "outputs": [
    {
     "name": "stdout",
     "output_type": "stream",
     "text": [
      "0\n",
      "1\n",
      "2\n",
      "3\n",
      "4\n"
     ]
    }
   ],
   "source": [
    "for i in range(5):\n",
    "    print(i)"
   ]
  },
  {
   "cell_type": "markdown",
   "metadata": {},
   "source": [
    "El código anterior es equivalente a"
   ]
  },
  {
   "cell_type": "code",
   "execution_count": null,
   "metadata": {
    "collapsed": true
   },
   "outputs": [],
   "source": [
    "i = 0\n",
    "while i < 5:\n",
    "    print(i)\n",
    "    i += 1"
   ]
  },
  {
   "cell_type": "markdown",
   "metadata": {},
   "source": [
    "#### range(inicio, fin)"
   ]
  },
  {
   "cell_type": "code",
   "execution_count": 5,
   "metadata": {},
   "outputs": [
    {
     "name": "stdout",
     "output_type": "stream",
     "text": [
      "4\n",
      "5\n",
      "6\n",
      "7\n",
      "8\n",
      "9\n"
     ]
    }
   ],
   "source": [
    "for i in range(4, 10):\n",
    "    print(i)"
   ]
  },
  {
   "cell_type": "code",
   "execution_count": 6,
   "metadata": {},
   "outputs": [
    {
     "name": "stdout",
     "output_type": "stream",
     "text": [
      "4\n",
      "5\n",
      "6\n",
      "7\n",
      "8\n",
      "9\n"
     ]
    }
   ],
   "source": [
    "i = 4\n",
    "while i < 10:\n",
    "    print(i)\n",
    "    i += 1"
   ]
  },
  {
   "cell_type": "markdown",
   "metadata": {},
   "source": [
    "#### range(inicio, fin, paso)"
   ]
  },
  {
   "cell_type": "code",
   "execution_count": 9,
   "metadata": {},
   "outputs": [
    {
     "name": "stdout",
     "output_type": "stream",
     "text": [
      "4\n",
      "7\n",
      "10\n",
      "13\n",
      "16\n",
      "19\n"
     ]
    }
   ],
   "source": [
    "i  = 2342423\n",
    "for contador in range(4, 20, 3):\n",
    "    print(contador)"
   ]
  },
  {
   "cell_type": "code",
   "execution_count": 10,
   "metadata": {},
   "outputs": [
    {
     "name": "stdout",
     "output_type": "stream",
     "text": [
      "4\n",
      "7\n",
      "10\n",
      "13\n",
      "16\n",
      "19\n"
     ]
    }
   ],
   "source": [
    "i = 4\n",
    "while i < 20:\n",
    "    print(i)\n",
    "    i += 3"
   ]
  },
  {
   "cell_type": "code",
   "execution_count": 12,
   "metadata": {},
   "outputs": [
    {
     "name": "stdout",
     "output_type": "stream",
     "text": [
      "30\n",
      "25\n",
      "20\n",
      "15\n",
      "10\n"
     ]
    }
   ],
   "source": [
    "for i in range(30, 7, -5):\n",
    "    print(i)"
   ]
  },
  {
   "cell_type": "code",
   "execution_count": 13,
   "metadata": {},
   "outputs": [
    {
     "name": "stdout",
     "output_type": "stream",
     "text": [
      "30\n",
      "25\n",
      "20\n",
      "15\n",
      "10\n"
     ]
    }
   ],
   "source": [
    "i = 30\n",
    "while i > 7:\n",
    "    print(i)\n",
    "    i -= 5"
   ]
  },
  {
   "cell_type": "markdown",
   "metadata": {},
   "source": [
    "Como habrán notado, para cada caso que usaba ```for``` había una formulación usando ```while``` equivalente. ¿Se cumplirá esto siempre? La respuesta es **sí**.\n",
    "No hay **NADA** que escriba con ```for``` que no se pueda hacer con ```while```. ¿Por qué usar for entonces?\n",
    "1. Menos código\n",
    "2. Código más fácil de leer"
   ]
  },
  {
   "cell_type": "markdown",
   "metadata": {},
   "source": [
    "## Actividades"
   ]
  },
  {
   "cell_type": "markdown",
   "metadata": {},
   "source": [
    "### Contando de 1 a n (versión for)\n",
    "Escribir un programa que solicite un número n al usuario e imprima todos los números desde 1 hasta n utilizando for"
   ]
  },
  {
   "cell_type": "code",
   "execution_count": 14,
   "metadata": {},
   "outputs": [
    {
     "name": "stdout",
     "output_type": "stream",
     "text": [
      "n: 10\n",
      "1\n",
      "2\n",
      "3\n",
      "4\n",
      "5\n",
      "6\n",
      "7\n",
      "8\n",
      "9\n",
      "10\n"
     ]
    }
   ],
   "source": [
    "#Código 1 a n\n",
    "\n",
    "n = int(input('n: '))\n",
    "\n",
    "for i in range(1, n + 1):\n",
    "    print(i)\n"
   ]
  },
  {
   "cell_type": "markdown",
   "metadata": {},
   "source": [
    "### Pares de 1 a n (versión for)\n",
    "Escribir un programa que solicite un número n al usuario e imprima todos los números pares entre 1 y n"
   ]
  },
  {
   "cell_type": "code",
   "execution_count": 20,
   "metadata": {},
   "outputs": [
    {
     "name": "stdout",
     "output_type": "stream",
     "text": [
      "n: 10\n",
      "2\n",
      "4\n",
      "6\n",
      "8\n",
      "10\n"
     ]
    }
   ],
   "source": [
    "#Códido pares 1 a n\n",
    "\n",
    "n = int(input('n: '))\n",
    "\n",
    "for i in range(1, n + 1):\n",
    "    if i%2 == 0:\n",
    "        print(i)"
   ]
  },
  {
   "cell_type": "markdown",
   "metadata": {},
   "source": [
    "### Primo (versión for)\n",
    "Escribir un programa que solicite un número n al usuario e indique si es primo o no. El programa debe terminar si el usuario ingresa el número 1.\n",
    "Utilizar for para verificar si n es primo o no."
   ]
  },
  {
   "cell_type": "code",
   "execution_count": null,
   "metadata": {},
   "outputs": [
    {
     "name": "stdout",
     "output_type": "stream",
     "text": [
      "n: 2\n",
      "primo\n",
      "n: 3\n",
      "primo\n",
      "n: 4\n",
      "no primo\n",
      "n: 5\n",
      "primo\n",
      "n: 6\n",
      "no primo\n",
      "n: 7\n",
      "primo\n",
      "n: 8\n",
      "no primo\n",
      "n: 9\n",
      "no primo\n",
      "n: 0\n",
      "primo\n",
      "n: 100\n",
      "no primo\n",
      "n: 100000000\n",
      "no primo\n",
      "n: 100000000000000000000000000\n",
      "no primo\n",
      "n: 10000000000000000000000000000000000000000000000000\n",
      "no primo\n",
      "n: 121\n",
      "no primo\n",
      "n: 12343\n",
      "primo\n",
      "n: 1234543\n",
      "primo\n",
      "n: 12345434343434331\n",
      "no primo\n",
      "n: 12345434343434333\n",
      "no primo\n"
     ]
    }
   ],
   "source": [
    "#Código primos\n",
    "\n",
    "n = int(input('n: '))\n",
    "\n",
    "while n != 1:\n",
    "    primo = True\n",
    "    for i in range(2, n):\n",
    "        if n % i == 0:\n",
    "            primo = False\n",
    "            break\n",
    "    \n",
    "    if primo:\n",
    "        print('primo')\n",
    "    else:\n",
    "        print('no primo')\n",
    "        \n",
    "    n = int(input('n: '))\n",
    " \n",
    "    \n",
    "    \n"
   ]
  }
 ],
 "metadata": {
  "anaconda-cloud": {},
  "kernelspec": {
   "display_name": "Python 3",
   "language": "python",
   "name": "python3"
  },
  "language_info": {
   "codemirror_mode": {
    "name": "ipython",
    "version": 3
   },
   "file_extension": ".py",
   "mimetype": "text/x-python",
   "name": "python",
   "nbconvert_exporter": "python",
   "pygments_lexer": "ipython3",
   "version": "3.6.3"
  }
 },
 "nbformat": 4,
 "nbformat_minor": 1
}
