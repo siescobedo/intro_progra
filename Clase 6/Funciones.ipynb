{
 "cells": [
  {
   "cell_type": "markdown",
   "metadata": {},
   "source": [
    "# Clase 6\n",
    "\n",
    "## Funciones\n",
    "\n",
    "Las funciones permiten encapsular código que resuelve una tarea específica.\n",
    "\n",
    "En las clases anteriores ya hemos hecho uso de distintas funciones que vienen con python:\n",
    "\n",
    "```python\n",
    "input(mensaje)\n",
    "```\n",
    "Imprime ```mensaje``` en consola y retorna ```str``` entregado por el usuario\n",
    "    \n",
    "    \n",
    "```python\n",
    "print(var1, var2, ..., varn)\n",
    "```\n",
    "Imprime ```var1``` hasta ```varn``` separados por un espacio\n",
    "    \n",
    "Las funciones anteriores, forman parte del grupo que está siempre presente. Se denominan *built-in functions*. Pueden ver en la [documentación oficial](https://docs.python.org/3.5/library/functions.html) una lista con todas ellas.\n",
    "\n",
    "Además de las funciones que están siempre presentes, podemos incorporar nuevas funcionalidades mediante la importación de **módulos**. Los módulos proveen diversas funciones agrupadas. 2 módulos muy comunes son ```random```, que nos permite trabajar con números aleatorios y ```math``` que incluye constantes como ```pi``` y ```e``` y funciones como la exponencial, logaritmo y las trignométricas, entre otras.\n",
    "\n",
    "Existen 2 formas para poder usar las funciones de un módulo\n",
    "### Importar módulo completo\n",
    "\n",
    "#### Sintaxis\n",
    "\n",
    "```python\n",
    "import modulo\n",
    "\n",
    "modulo.funcion_1(parametro_1, parametro_2, ..., parametro_n)\n",
    "\n",
    "modulo.funcion_2(parametro_1, parametro_2, ..., parametro_n)\n",
    "```\n",
    "\n",
    "##### Ejemplo"
   ]
  },
  {
   "cell_type": "code",
   "execution_count": 46,
   "metadata": {},
   "outputs": [
    {
     "data": {
      "text/plain": [
       "4"
      ]
     },
     "execution_count": 46,
     "metadata": {},
     "output_type": "execute_result"
    }
   ],
   "source": [
    "import random\n",
    "\n",
    "random.randint(1, 5)"
   ]
  },
  {
   "cell_type": "markdown",
   "metadata": {},
   "source": [
    "En el ejemplo anterior importamos el módulo ```random``` y luego llamamos a la función ```randint(a,b)``` del módulo mediante ```random.randing(a,b)```, que retorna un entero aleatorio entre ```a``` y ```b``` (ambos incluidos)\n",
    "\n",
    "### Importar función(es) específica(s)\n",
    "\n",
    "#### Sintaxis\n",
    "\n",
    "```python\n",
    "from modulo import funcion_1, funcion_2, ..., funcion_n\n",
    "\n",
    "funcion_1(parametro_1, parametros_2, ..., parametro_n)\n",
    "```\n",
    "\n",
    "##### Ejemplo"
   ]
  },
  {
   "cell_type": "code",
   "execution_count": 51,
   "metadata": {},
   "outputs": [
    {
     "data": {
      "text/plain": [
       "4"
      ]
     },
     "execution_count": 51,
     "metadata": {},
     "output_type": "execute_result"
    }
   ],
   "source": [
    "from random import randint\n",
    "\n",
    "randint(1, 5)"
   ]
  },
  {
   "cell_type": "markdown",
   "metadata": {},
   "source": [
    "Notar que en este caso solo hay que escribir ```randint(a,b)``` y no ```random.randint(a,b)```"
   ]
  },
  {
   "cell_type": "markdown",
   "metadata": {},
   "source": [
    "### *Aliasing*\n",
    "\n",
    "Es posible darle el nombre que nosotros queramos al módulo o sus funciones. Esto se denomina *aliasing*\n",
    "\n",
    "#### Sintaxis\n",
    "\n",
    "```python\n",
    "import modulo as alias\n",
    "\n",
    "alias.funcion_1(parametro_1, parametro_2, ..., parametro_n)\n",
    "```\n",
    "\n",
    "```python \n",
    "from modulo import funcion_1 as alias\n",
    "\n",
    "alias(parametro_1, parametro_2, ..., parametro_n)\n",
    "```\n"
   ]
  },
  {
   "cell_type": "code",
   "execution_count": 52,
   "metadata": {},
   "outputs": [
    {
     "data": {
      "text/plain": [
       "1"
      ]
     },
     "execution_count": 52,
     "metadata": {},
     "output_type": "execute_result"
    }
   ],
   "source": [
    "import random as aleatorio\n",
    "\n",
    "aleatorio.randint(1,5)"
   ]
  },
  {
   "cell_type": "code",
   "execution_count": 53,
   "metadata": {},
   "outputs": [
    {
     "data": {
      "text/plain": [
       "5"
      ]
     },
     "execution_count": 53,
     "metadata": {},
     "output_type": "execute_result"
    }
   ],
   "source": [
    "from random import randint as entero_aleatorio\n",
    "\n",
    "entero_aleatorio(1,5)"
   ]
  },
  {
   "cell_type": "markdown",
   "metadata": {},
   "source": [
    "### Más ejemplos: módulo math"
   ]
  },
  {
   "cell_type": "code",
   "execution_count": 54,
   "metadata": {},
   "outputs": [
    {
     "name": "stdout",
     "output_type": "stream",
     "text": [
      "El valor de pi es: 3.141592653589793\n",
      "Seno de pi: 1.2246467991473532e-16\n",
      "Coseno de pi: -1.0\n",
      "Tangente de pi: -1.2246467991473532e-16\n",
      "Pi en grados: 180.0\n",
      "180 grados en radianes son: 3.141592653589793\n",
      "e^2 es: 7.38905609893065\n"
     ]
    }
   ],
   "source": [
    "import math\n",
    "\n",
    "print('El valor de pi es:', math.pi)\n",
    "print('Seno de pi:', math.sin(math.pi))\n",
    "print('Coseno de pi:', math.cos(math.pi))\n",
    "print('Tangente de pi:', math.tan(math.pi))\n",
    "print('Pi en grados:', math.degrees(math.pi))\n",
    "print('180 grados en radianes son:', math.radians(180))\n",
    "print('e^2 es:', math.exp(2))"
   ]
  },
  {
   "cell_type": "markdown",
   "metadata": {
    "collapsed": true
   },
   "source": [
    "### Actividades\n",
    "#### Lanzamiento de un dado, resultados\n",
    "\n",
    "Escribir un programa que solicite al usuario un entero n y lance un dado n veces e imprima el valor de cada lanzamiento"
   ]
  },
  {
   "cell_type": "code",
   "execution_count": 58,
   "metadata": {},
   "outputs": [
    {
     "name": "stdout",
     "output_type": "stream",
     "text": [
      "n: 5\n",
      "5\n",
      "6\n",
      "4\n",
      "2\n",
      "2\n"
     ]
    }
   ],
   "source": [
    "#código dado resultados\n",
    "import random\n",
    "\n",
    "n = int(input('n: '))\n",
    "\n",
    "\n",
    "for i in range(n):\n",
    "    resultado = random.randint(1, 6)\n",
    "    print(resultado)\n"
   ]
  },
  {
   "cell_type": "markdown",
   "metadata": {},
   "source": [
    "#### Lanzamiento de un dado, frecuencia\n",
    "\n",
    "Escribir un programa que solicite al usuario un entero n y lance un dado n veces e imprima cuántas veces salió cada número"
   ]
  },
  {
   "cell_type": "code",
   "execution_count": 59,
   "metadata": {},
   "outputs": [
    {
     "name": "stdout",
     "output_type": "stream",
     "text": [
      "n: 6000\n",
      "El 1 salió: 956 veces\n",
      "El 2 salió: 1040 veces\n",
      "El 3 salió: 1027 veces\n",
      "El 4 salió: 1002 veces\n",
      "El 5 salió: 1003 veces\n",
      "El 6 salió: 972 veces\n"
     ]
    }
   ],
   "source": [
    "#código dado frecuencia\n",
    "import random\n",
    "\n",
    "n = int(input('n: '))\n",
    "\n",
    "t_1 = 0\n",
    "t_2 = 0\n",
    "t_3 = 0\n",
    "t_4 = 0\n",
    "t_5 = 0\n",
    "t_6 = 0\n",
    "\n",
    "for i in range(n):\n",
    "    resultado = random.randint(1, 6)\n",
    "    if resultado == 1:\n",
    "        t_1 += 1\n",
    "    elif resultado == 2:\n",
    "        t_2 += 1\n",
    "    elif resultado == 3:\n",
    "        t_3 += 1\n",
    "    elif resultado == 4:\n",
    "        t_4 += 1\n",
    "    elif resultado == 5:\n",
    "        t_5 +=1 \n",
    "    else:\n",
    "        t_6 += 1\n",
    "        \n",
    "\n",
    "print('El', 1, 'salió:',t_1,'veces')\n",
    "print('El', 2, 'salió:',t_2,'veces')\n",
    "print('El', 3, 'salió:',t_3,'veces')\n",
    "print('El', 4, 'salió:',t_4,'veces')\n",
    "print('El', 5, 'salió:',t_5,'veces')\n",
    "print('El', 6, 'salió:',t_6,'veces')"
   ]
  },
  {
   "cell_type": "markdown",
   "metadata": {},
   "source": [
    "#### Lanzamiento de dos dados\n",
    "\n",
    "Escribir un programa que lance 2 dados hasta que la suma de los resultados sea 10"
   ]
  },
  {
   "cell_type": "code",
   "execution_count": 68,
   "metadata": {},
   "outputs": [
    {
     "name": "stdout",
     "output_type": "stream",
     "text": [
      "6\n",
      "4\n",
      "8\n",
      "3\n",
      "8\n",
      "12\n",
      "6\n",
      "7\n",
      "7\n",
      "9\n",
      "7\n",
      "10\n"
     ]
    }
   ],
   "source": [
    "#código 2 dados\n",
    "import random\n",
    "\n",
    "a = random.randint(1, 6)\n",
    "b = random.randint(1, 6) \n",
    "\n",
    "suma = a + b\n",
    "\n",
    "while suma != 10:\n",
    "    print(suma)\n",
    "    a = random.randint(1, 6)\n",
    "    b = random.randint(1, 6) \n",
    "\n",
    "    suma = a + b\n",
    "\n",
    "print(suma)\n"
   ]
  },
  {
   "cell_type": "markdown",
   "metadata": {},
   "source": [
    "### Funciones definidas por el programador\n",
    "Aparte de las *built-in functions* y las funciones importadas desde módulos, podemos definir nuestras propias funciones para utilizarlas en nuestros programas.\n",
    "\n",
    "#### Sintaxis definición\n",
    "\n",
    "```python\n",
    "def nombre_funcion(parametro_1, parametro_2, ..., parametro_n):\n",
    "    bloque_de_codigo_de_la_funcion\n",
    "    ...\n",
    "    bloque_de_codigo_de_la_funcion\n",
    "    return valor_de_retorno\n",
    "```\n",
    "\n",
    "#### Sintaxis llamada\n",
    "```python\n",
    "salida = nombre_funcion(entrada_1, entrada_2, ..., entrada_n)\n",
    "```"
   ]
  },
  {
   "cell_type": "markdown",
   "metadata": {},
   "source": [
    "Las funciones pueden recibir 0 o más parámetros y retornar 0 o más valores (lo habitual es retornar 1 valor). Cuando se alcanza el primer ```return```, la función termina\n",
    "\n",
    "#### Ejemplo"
   ]
  },
  {
   "cell_type": "code",
   "execution_count": 1,
   "metadata": {},
   "outputs": [
    {
     "name": "stdout",
     "output_type": "stream",
     "text": [
      "hola Juan la suma de los dígitos de 12345 es 15\n"
     ]
    }
   ],
   "source": [
    "#Esta función recibe un parámetro, n, y retorna la suma de sus dígitos\n",
    "def sumar_digitos(n):\n",
    "    suma = 0\n",
    "    while n != 0:\n",
    "        suma += n%10\n",
    "        n //= 10\n",
    "    return suma\n",
    "\n",
    "#Esta función recibe un parámetro, n, e imprime un mensaje indicando el valor de la suma de los dígitos de n (no retorna nada)\n",
    "def mostrar_mensaje(primer_parametro, nombre):\n",
    "    print('hola', nombre, 'la suma de los dígitos de', primer_parametro, 'es', sumar_digitos(primer_parametro))\n",
    "    \n",
    "\n",
    "numero = 12345\n",
    "mostrar_mensaje(numero, 'Juan')\n"
   ]
  },
  {
   "cell_type": "markdown",
   "metadata": {},
   "source": [
    "Definir nuestras propias funciones es muy valioso, ya que nos permite evitar repetir código.\n",
    "Es fácil notar su aporte comparando estas 2 formas de calcular el coeficiente binomial\n",
    "$C(n,k) = \\frac{n!}{k!(n-k)!}$\n",
    "\n",
    "Recordar que $x! = 1 * 2 * ... * (x-1) * x = \\prod_{i=1}^{x}i$"
   ]
  },
  {
   "cell_type": "code",
   "execution_count": 3,
   "metadata": {},
   "outputs": [
    {
     "name": "stdout",
     "output_type": "stream",
     "text": [
      "n:4\n",
      "k:1\n",
      "C( 4 , 1 ) = 4.0\n"
     ]
    }
   ],
   "source": [
    "#Forma sin funciones\n",
    "\n",
    "n = int(input('n:'))\n",
    "k = int(input('k:'))\n",
    "\n",
    "#Factorial de n\n",
    "f_n = 1\n",
    "for i in range(1, n + 1):\n",
    "    f_n *= i\n",
    "\n",
    "#Factorial de k\n",
    "f_k = 1\n",
    "for i in range(1, k + 1):\n",
    "    f_k *= i\n",
    "\n",
    "#Factorial de n - k\n",
    "f_n_k = 1\n",
    "for i in range(1, n - k + 1):\n",
    "    f_n_k *= i\n",
    "    \n",
    "c = f_n / (f_k * f_n_k)\n",
    "\n",
    "print('C(', n, ',', k, ') =', c)"
   ]
  },
  {
   "cell_type": "code",
   "execution_count": 4,
   "metadata": {},
   "outputs": [
    {
     "name": "stdout",
     "output_type": "stream",
     "text": [
      "n:4\n",
      "k:1\n",
      "C( 4 , 1 ) = 4.0\n"
     ]
    }
   ],
   "source": [
    "#Forma con funciones\n",
    "\n",
    "def factorial(n):\n",
    "    f = 1\n",
    "    for i in range(1, n + 1):\n",
    "        f *= i\n",
    "    \n",
    "    return f\n",
    "\n",
    "def coeficiente_binomial(n, k):\n",
    "    return factorial(n) / (factorial(k) * factorial(n - k))\n",
    "\n",
    "n = int(input('n:'))\n",
    "k = int(input('k:'))\n",
    "\n",
    "print('C(', n, ',', k, ') =', coeficiente_binomial(n, k))"
   ]
  },
  {
   "cell_type": "markdown",
   "metadata": {},
   "source": [
    "### Actividad\n",
    "\n",
    "#### Máximo\n",
    "Escribir una función que recibe 2 números y retorna el máximo entre ellos"
   ]
  },
  {
   "cell_type": "code",
   "execution_count": 1,
   "metadata": {},
   "outputs": [
    {
     "name": "stdout",
     "output_type": "stream",
     "text": [
      "8\n",
      "8\n"
     ]
    }
   ],
   "source": [
    "#código máximo\n",
    "def maximo(a, b):\n",
    "    if a > b:\n",
    "        return(a)\n",
    "    else:\n",
    "        return(b)\n",
    "    \n",
    "print(maximo(5, 8))\n",
    "print(maximo(8, 5))"
   ]
  },
  {
   "cell_type": "markdown",
   "metadata": {},
   "source": [
    "#### Primo\n",
    "Escribir una funcion que recibe un número y retorna True si es primo y False en caso contrario"
   ]
  },
  {
   "cell_type": "code",
   "execution_count": 24,
   "metadata": {},
   "outputs": [
    {
     "name": "stdout",
     "output_type": "stream",
     "text": [
      "primo\n",
      "primo\n",
      "no primo\n",
      "primo\n",
      "no primo\n",
      "primo\n",
      "no primo\n",
      "no primo\n"
     ]
    }
   ],
   "source": [
    "#código primo\n",
    "\n",
    "def es_primo(n):\n",
    "    for i in range(2,n):\n",
    "        if n % i == 0:\n",
    "            return False\n",
    "        \n",
    "    return True\n",
    "            \n",
    "        \n",
    "for i in range(2, 10):\n",
    "    if es_primo(i):\n",
    "        print('primo')\n",
    "    else:\n",
    "        print('no primo')\n"
   ]
  }
 ],
 "metadata": {
  "anaconda-cloud": {},
  "kernelspec": {
   "display_name": "Python 3",
   "language": "python",
   "name": "python3"
  },
  "language_info": {
   "codemirror_mode": {
    "name": "ipython",
    "version": 3
   },
   "file_extension": ".py",
   "mimetype": "text/x-python",
   "name": "python",
   "nbconvert_exporter": "python",
   "pygments_lexer": "ipython3",
   "version": "3.6.3"
  }
 },
 "nbformat": 4,
 "nbformat_minor": 1
}
