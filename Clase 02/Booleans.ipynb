{
 "cells": [
  {
   "cell_type": "markdown",
   "metadata": {},
   "source": [
    "# Clase 2\n",
    "\n",
    "## Actividad clase 1\n",
    "\n",
    "### Calculando el promedio v2\n",
    "\n",
    "$$ NF = 0.15 * I1 + 0.15 * I2 + 0.3 * EX + 0.1 * T1 + 0.1 * T2 + 0.1 * T3 + 0.1 * NP$$\n",
    "\n",
    "Calcular el promedio pidiéndole al usuario sus notas"
   ]
  },
  {
   "cell_type": "code",
   "execution_count": null,
   "metadata": {
    "collapsed": true
   },
   "outputs": [],
   "source": [
    "I1 = float(input(\"Nota I1: \"))\n",
    "I2 = float(input(\"Nota I2: \"))\n",
    "EX = float(input(\"Nota EX: \"))\n",
    "T1 = float(input(\"Nota T1: \"))\n",
    "T2 = float(input(\"Nota T2: \"))\n",
    "T3 = float(input(\"Nota T3: \"))\n",
    "NP = float(input(\"Nota participación: \"))\n",
    "NF = 0.15 * (I1 + I2) + 0.3 * EX + 0.1 * (T1 + T2 + T3) + 0.1 * NP\n",
    "\n",
    "print(\"Tu nota final es\", NF)"
   ]
  },
  {
   "cell_type": "markdown",
   "metadata": {},
   "source": [
    "Si se fijan en el ejemplo anterior le entregamos 2 parámetros a la función `print`. Es posible entregar un número arbitrario de parámetros y cada uno aparecerá separado del resto por un espacio.\n",
    "\n",
    "Por ejemplo:"
   ]
  },
  {
   "cell_type": "code",
   "execution_count": 1,
   "metadata": {},
   "outputs": [
    {
     "name": "stdout",
     "output_type": "stream",
     "text": [
      "Este es el primer parámetro, 20 ,este es el tercero y este el cuarto 5 6.0\n"
     ]
    }
   ],
   "source": [
    "a = 20\n",
    "\n",
    "print(\"Este es el primer parámetro,\", a, \",este es el tercero\", \"y este el cuarto\", 5, 6.0)"
   ]
  },
  {
   "cell_type": "markdown",
   "metadata": {},
   "source": [
    "## Actividad express\n",
    "\n",
    "Evaluar el polinomio $x^4 + \\frac{1}{2} x^3 + 2x^2 - x$ para un x entregado por el usuario"
   ]
  },
  {
   "cell_type": "code",
   "execution_count": 3,
   "metadata": {},
   "outputs": [
    {
     "name": "stdout",
     "output_type": "stream",
     "text": [
      "x: 10\n",
      "10690.0\n"
     ]
    }
   ],
   "source": [
    "#Código polinomio\n",
    "\n",
    "x = float(input('x: '))\n",
    "\n",
    "print(x ** 4 + 0.5 * x ** 3 + 2*x**2 - x)"
   ]
  },
  {
   "cell_type": "markdown",
   "metadata": {},
   "source": [
    "Obtener la unidad de una variable x entregada por el ususario (si x = 1234, obtener 4)"
   ]
  },
  {
   "cell_type": "code",
   "execution_count": 5,
   "metadata": {},
   "outputs": [
    {
     "name": "stdout",
     "output_type": "stream",
     "text": [
      "x: 1230\n",
      "0\n"
     ]
    }
   ],
   "source": [
    "#Código unidad\n",
    "\n",
    "x = int(input('x: '))\n",
    "\n",
    "print(x%10)"
   ]
  },
  {
   "cell_type": "markdown",
   "metadata": {},
   "source": [
    "Obtener la centena de una variable x entregada por el usuario (si x = 1234, obtener 2)"
   ]
  },
  {
   "cell_type": "code",
   "execution_count": 6,
   "metadata": {},
   "outputs": [
    {
     "name": "stdout",
     "output_type": "stream",
     "text": [
      "x: 1234\n",
      "2\n"
     ]
    }
   ],
   "source": [
    "#Código centena\n",
    "x = int(input('x: '))\n",
    "\n",
    "tres_digitos = x % 1000\n",
    "centena = tres_digitos // 100\n",
    "print(centena)"
   ]
  },
  {
   "cell_type": "markdown",
   "metadata": {},
   "source": [
    "Si me demoro *m* minutos en recorrer un kilómetro, ¿a qué velocidad me estoy moviendo en km/h?"
   ]
  },
  {
   "cell_type": "code",
   "execution_count": 10,
   "metadata": {},
   "outputs": [
    {
     "name": "stdout",
     "output_type": "stream",
     "text": [
      "m: 60\n",
      "vas a 1.0  km/h\n"
     ]
    }
   ],
   "source": [
    "#Código conversor\n",
    "\n",
    "m = float(input('m: '))\n",
    "\n",
    "km_h = (1/m) * 60\n",
    "\n",
    "print('vas a', km_h,' km/h')"
   ]
  },
  {
   "cell_type": "markdown",
   "metadata": {},
   "source": [
    "## Control de Flujo Condicional\n",
    "\n",
    "### Instrucciones condicionales\n",
    "Las instrucciones condicionales permiten ejecutar una o más instrucciones solamente si es cumple una condición\n",
    "\n",
    "### Condición\n",
    "Valor del tipo **bool**\n",
    "Dos valores posibles: `True` o `False`\n",
    "\n",
    "### Operadores de comparación\n",
    "\n",
    "Operador | Descripción\n",
    "--- | ---\n",
    "a == b | Retorna True ssi a es igual a b\n",
    "a != b | Retorna True ssi a es distinto de b\n",
    "a < b | Retorna True ssi a es menor que b\n",
    "a <= b | Retorna True ssi a es menor o igual a b\n",
    "a > b | Retorna True ssi a es mayor que b\n",
    "a >= b | Retorna True ssi a es mayor o igual a b\n",
    "\n",
    "#### Ejemplo con números"
   ]
  },
  {
   "cell_type": "code",
   "execution_count": 11,
   "metadata": {},
   "outputs": [
    {
     "data": {
      "text/plain": [
       "True"
      ]
     },
     "execution_count": 11,
     "metadata": {},
     "output_type": "execute_result"
    }
   ],
   "source": [
    "5 == 5"
   ]
  },
  {
   "cell_type": "code",
   "execution_count": 12,
   "metadata": {},
   "outputs": [
    {
     "data": {
      "text/plain": [
       "False"
      ]
     },
     "execution_count": 12,
     "metadata": {},
     "output_type": "execute_result"
    }
   ],
   "source": [
    "5 == 4"
   ]
  },
  {
   "cell_type": "code",
   "execution_count": 13,
   "metadata": {},
   "outputs": [
    {
     "data": {
      "text/plain": [
       "False"
      ]
     },
     "execution_count": 13,
     "metadata": {},
     "output_type": "execute_result"
    }
   ],
   "source": [
    "5 != 5"
   ]
  },
  {
   "cell_type": "code",
   "execution_count": 14,
   "metadata": {},
   "outputs": [
    {
     "data": {
      "text/plain": [
       "True"
      ]
     },
     "execution_count": 14,
     "metadata": {},
     "output_type": "execute_result"
    }
   ],
   "source": [
    "5 != 4"
   ]
  },
  {
   "cell_type": "code",
   "execution_count": 15,
   "metadata": {},
   "outputs": [
    {
     "data": {
      "text/plain": [
       "False"
      ]
     },
     "execution_count": 15,
     "metadata": {},
     "output_type": "execute_result"
    }
   ],
   "source": [
    "5 < 5"
   ]
  },
  {
   "cell_type": "code",
   "execution_count": 16,
   "metadata": {},
   "outputs": [
    {
     "data": {
      "text/plain": [
       "True"
      ]
     },
     "execution_count": 16,
     "metadata": {},
     "output_type": "execute_result"
    }
   ],
   "source": [
    "5 <= 5"
   ]
  },
  {
   "cell_type": "code",
   "execution_count": 17,
   "metadata": {},
   "outputs": [
    {
     "data": {
      "text/plain": [
       "False"
      ]
     },
     "execution_count": 17,
     "metadata": {},
     "output_type": "execute_result"
    }
   ],
   "source": [
    "5 > 5"
   ]
  },
  {
   "cell_type": "code",
   "execution_count": 18,
   "metadata": {},
   "outputs": [
    {
     "data": {
      "text/plain": [
       "True"
      ]
     },
     "execution_count": 18,
     "metadata": {},
     "output_type": "execute_result"
    }
   ],
   "source": [
    "5 > 4"
   ]
  },
  {
   "cell_type": "markdown",
   "metadata": {},
   "source": [
    "### Ejemplo con texto"
   ]
  },
  {
   "cell_type": "code",
   "execution_count": 19,
   "metadata": {
    "collapsed": true
   },
   "outputs": [],
   "source": [
    "a = 'hola'"
   ]
  },
  {
   "cell_type": "code",
   "execution_count": 20,
   "metadata": {},
   "outputs": [
    {
     "data": {
      "text/plain": [
       "True"
      ]
     },
     "execution_count": 20,
     "metadata": {},
     "output_type": "execute_result"
    }
   ],
   "source": [
    "a == 'hola'"
   ]
  },
  {
   "cell_type": "code",
   "execution_count": 21,
   "metadata": {},
   "outputs": [
    {
     "data": {
      "text/plain": [
       "False"
      ]
     },
     "execution_count": 21,
     "metadata": {},
     "output_type": "execute_result"
    }
   ],
   "source": [
    "a == 'oli'"
   ]
  },
  {
   "cell_type": "code",
   "execution_count": 22,
   "metadata": {},
   "outputs": [
    {
     "data": {
      "text/plain": [
       "True"
      ]
     },
     "execution_count": 22,
     "metadata": {},
     "output_type": "execute_result"
    }
   ],
   "source": [
    "a != 'oli'"
   ]
  },
  {
   "cell_type": "code",
   "execution_count": 23,
   "metadata": {},
   "outputs": [
    {
     "data": {
      "text/plain": [
       "True"
      ]
     },
     "execution_count": 23,
     "metadata": {},
     "output_type": "execute_result"
    }
   ],
   "source": [
    "a < \"oli\""
   ]
  },
  {
   "cell_type": "code",
   "execution_count": 24,
   "metadata": {},
   "outputs": [
    {
     "data": {
      "text/plain": [
       "False"
      ]
     },
     "execution_count": 24,
     "metadata": {},
     "output_type": "execute_result"
    }
   ],
   "source": [
    "a > 'oli'"
   ]
  },
  {
   "cell_type": "code",
   "execution_count": 25,
   "metadata": {},
   "outputs": [
    {
     "data": {
      "text/plain": [
       "True"
      ]
     },
     "execution_count": 25,
     "metadata": {},
     "output_type": "execute_result"
    }
   ],
   "source": [
    "a > 'a'"
   ]
  },
  {
   "cell_type": "code",
   "execution_count": 27,
   "metadata": {},
   "outputs": [
    {
     "data": {
      "text/plain": [
       "True"
      ]
     },
     "execution_count": 27,
     "metadata": {},
     "output_type": "execute_result"
    }
   ],
   "source": [
    "'A' < 'a'"
   ]
  },
  {
   "cell_type": "code",
   "execution_count": 28,
   "metadata": {},
   "outputs": [
    {
     "data": {
      "text/plain": [
       "True"
      ]
     },
     "execution_count": 28,
     "metadata": {},
     "output_type": "execute_result"
    }
   ],
   "source": [
    "'9' < 'A'"
   ]
  },
  {
   "cell_type": "code",
   "execution_count": 29,
   "metadata": {},
   "outputs": [
    {
     "data": {
      "text/plain": [
       "False"
      ]
     },
     "execution_count": 29,
     "metadata": {},
     "output_type": "execute_result"
    }
   ],
   "source": [
    "'ñ' < 'o'"
   ]
  },
  {
   "cell_type": "code",
   "execution_count": 30,
   "metadata": {},
   "outputs": [
    {
     "data": {
      "text/plain": [
       "True"
      ]
     },
     "execution_count": 30,
     "metadata": {},
     "output_type": "execute_result"
    }
   ],
   "source": [
    "'á' > 'b'"
   ]
  },
  {
   "cell_type": "markdown",
   "metadata": {},
   "source": [
    "Es importante tener en cuenta las siguientes cosas:\n",
    "  * Las comparaciones entre strings son según orden lexicográfico\n",
    "  * Las mayúsculas son menores que las minúsculas\n",
    "  * Si hay ñ o tildes \"no funciona\""
   ]
  },
  {
   "cell_type": "markdown",
   "metadata": {},
   "source": [
    "### Operadores lógicos\n",
    "\n",
    "Operador | Descripción\n",
    "--- | ---\n",
    "` not a` | Retorna True ssi a es False\n",
    "`a or b` | Retorna True ssi a o b son True\n",
    "`a and b` | Retorna True ssi a y b son True\n"
   ]
  },
  {
   "cell_type": "markdown",
   "metadata": {},
   "source": [
    "### not"
   ]
  },
  {
   "cell_type": "code",
   "execution_count": 31,
   "metadata": {},
   "outputs": [
    {
     "data": {
      "text/plain": [
       "True"
      ]
     },
     "execution_count": 31,
     "metadata": {},
     "output_type": "execute_result"
    }
   ],
   "source": [
    "not False"
   ]
  },
  {
   "cell_type": "code",
   "execution_count": 32,
   "metadata": {},
   "outputs": [
    {
     "data": {
      "text/plain": [
       "False"
      ]
     },
     "execution_count": 32,
     "metadata": {},
     "output_type": "execute_result"
    }
   ],
   "source": [
    "not True"
   ]
  },
  {
   "cell_type": "markdown",
   "metadata": {},
   "source": [
    "### or"
   ]
  },
  {
   "cell_type": "code",
   "execution_count": 33,
   "metadata": {},
   "outputs": [
    {
     "data": {
      "text/plain": [
       "False"
      ]
     },
     "execution_count": 33,
     "metadata": {},
     "output_type": "execute_result"
    }
   ],
   "source": [
    "False or False"
   ]
  },
  {
   "cell_type": "code",
   "execution_count": 34,
   "metadata": {},
   "outputs": [
    {
     "data": {
      "text/plain": [
       "True"
      ]
     },
     "execution_count": 34,
     "metadata": {},
     "output_type": "execute_result"
    }
   ],
   "source": [
    "False or True"
   ]
  },
  {
   "cell_type": "code",
   "execution_count": 35,
   "metadata": {},
   "outputs": [
    {
     "data": {
      "text/plain": [
       "True"
      ]
     },
     "execution_count": 35,
     "metadata": {},
     "output_type": "execute_result"
    }
   ],
   "source": [
    "True or False"
   ]
  },
  {
   "cell_type": "code",
   "execution_count": 36,
   "metadata": {},
   "outputs": [
    {
     "data": {
      "text/plain": [
       "True"
      ]
     },
     "execution_count": 36,
     "metadata": {},
     "output_type": "execute_result"
    }
   ],
   "source": [
    "True or True"
   ]
  },
  {
   "cell_type": "markdown",
   "metadata": {},
   "source": [
    "### and"
   ]
  },
  {
   "cell_type": "code",
   "execution_count": 37,
   "metadata": {},
   "outputs": [
    {
     "data": {
      "text/plain": [
       "False"
      ]
     },
     "execution_count": 37,
     "metadata": {},
     "output_type": "execute_result"
    }
   ],
   "source": [
    "False and False"
   ]
  },
  {
   "cell_type": "code",
   "execution_count": 38,
   "metadata": {},
   "outputs": [
    {
     "data": {
      "text/plain": [
       "False"
      ]
     },
     "execution_count": 38,
     "metadata": {},
     "output_type": "execute_result"
    }
   ],
   "source": [
    "False and True"
   ]
  },
  {
   "cell_type": "code",
   "execution_count": 39,
   "metadata": {},
   "outputs": [
    {
     "data": {
      "text/plain": [
       "False"
      ]
     },
     "execution_count": 39,
     "metadata": {},
     "output_type": "execute_result"
    }
   ],
   "source": [
    "True and False"
   ]
  },
  {
   "cell_type": "code",
   "execution_count": 40,
   "metadata": {},
   "outputs": [
    {
     "data": {
      "text/plain": [
       "True"
      ]
     },
     "execution_count": 40,
     "metadata": {},
     "output_type": "execute_result"
    }
   ],
   "source": [
    "True and True"
   ]
  },
  {
   "cell_type": "markdown",
   "metadata": {},
   "source": [
    "## if, elif y else"
   ]
  },
  {
   "cell_type": "code",
   "execution_count": 43,
   "metadata": {},
   "outputs": [
    {
     "name": "stdout",
     "output_type": "stream",
     "text": [
      "Ingresa un número del 0 al 9: -8\n",
      "False\n"
     ]
    }
   ],
   "source": [
    "numero = int(input(\"Ingresa un número del 0 al 9: \"))\n",
    "valido = (0 <= numero) and (numero <= 9)\n",
    "print(valido)"
   ]
  },
  {
   "cell_type": "markdown",
   "metadata": {},
   "source": [
    "**if**: Permite ejecutar un trozo de código siempre y cuando se cumpla una condición\n",
    "\n",
    "**Sintaxis**:\n",
    "\n",
    "```python\n",
    "if condicion:\n",
    "    bloque_de_codigo_if\n",
    "\n",
    "bloque_de_codigo_fuera_del_if\n",
    "\n",
    "```"
   ]
  },
  {
   "cell_type": "code",
   "execution_count": 45,
   "metadata": {},
   "outputs": [
    {
     "name": "stdout",
     "output_type": "stream",
     "text": [
      "Ingresa un número del 0 al 9: 1000\n",
      "Error, ingresaste un número incorrecto\n",
      "¡Gracias!\n"
     ]
    }
   ],
   "source": [
    "numero = int(input(\"Ingresa un número del 0 al 9: \"))\n",
    "valido = (0 <= numero) and (numero <= 9)\n",
    "if not valido:\n",
    "    print(\"Error, ingresaste un número incorrecto\")\n",
    "print(\"¡Gracias!\")"
   ]
  },
  {
   "cell_type": "markdown",
   "metadata": {},
   "source": [
    "**Obs:** no hace falta guardar la condición en una variable"
   ]
  },
  {
   "cell_type": "code",
   "execution_count": 49,
   "metadata": {},
   "outputs": [
    {
     "name": "stdout",
     "output_type": "stream",
     "text": [
      "Ingresa un número del 0 al 9: 100\n",
      "Error, ingresaste un número incorrecto\n",
      "¡Gracias!\n"
     ]
    }
   ],
   "source": [
    "numero = int(input(\"Ingresa un número del 0 al 9: \"))\n",
    "if not ((0 <= numero) and (numero <= 9)):\n",
    "    print(\"Error, ingresaste un número incorrecto\")\n",
    "print(\"¡Gracias!\")"
   ]
  },
  {
   "cell_type": "markdown",
   "metadata": {},
   "source": [
    "Pensándolo más detenidamente, no nos gustaría darle las gracias a alguien que ingresó mal el número. Afortunadamente existe una instrucción que nos permite lograr esto.\n",
    "\n",
    "**else**: Ejecuta un trozo de código si no se cumple la condición de un **if** anterior\n",
    "\n",
    "\n",
    "**Sintaxis**\n",
    "\n",
    "```python\n",
    "\n",
    "if condicion:\n",
    "    bloque_de_codigo_if\n",
    "else:\n",
    "    bloque_de_codigo_else\n",
    "bloque_de_codigo_fuera_del_if_else\n",
    "```"
   ]
  },
  {
   "cell_type": "code",
   "execution_count": 51,
   "metadata": {},
   "outputs": [
    {
     "name": "stdout",
     "output_type": "stream",
     "text": [
      "Ingresa un número del 0 al 9: 10\n",
      "Error, ingresaste un número incorrecto\n"
     ]
    }
   ],
   "source": [
    "numero = int(input(\"Ingresa un número del 0 al 9: \"))\n",
    "if ((numero >= 0) and (numero <= 9)):\n",
    "    print(\"¡Gracias!\")\n",
    "else:\n",
    "    print(\"Error, ingresaste un número incorrecto\")"
   ]
  },
  {
   "cell_type": "markdown",
   "metadata": {},
   "source": [
    "## Actividad\n",
    "### Calculando el promedio v3\n",
    "\n",
    "Ahora que tenemos las herramientas para tomar decisiones, calcula el promedio final del curso, pero si el promedio de las evaluaciones escritas o el promedio de las tareas es inferior a 4 imprime un mensaje que indique que de todas maneras reprobó el ramo\n",
    "\n",
    "$$ NF = 0.15 * I1 + 0.15 * I2 + 0.3 * EX + 0.1 * T1 + 0.1 * T2 + 0.1 * T3 + 0.1 * NP$$\n",
    "\n"
   ]
  },
  {
   "cell_type": "code",
   "execution_count": 2,
   "metadata": {},
   "outputs": [
    {
     "name": "stdout",
     "output_type": "stream",
     "text": [
      "Nota I1: 3\n",
      "Nota I2: 3\n",
      "Nota EX: 3\n",
      "Nota T1: 7\n",
      "Nota T2: 7\n",
      "Nota T3: 7\n",
      "Nota participación: 7\n",
      "Tu nota final es 4.6\n",
      "Lamentablemente repruebas igual =(\n"
     ]
    }
   ],
   "source": [
    "#Código promedio\n",
    "\n",
    "I1 = float(input(\"Nota I1: \"))\n",
    "I2 = float(input(\"Nota I2: \"))\n",
    "EX = float(input(\"Nota EX: \"))\n",
    "T1 = float(input(\"Nota T1: \"))\n",
    "T2 = float(input(\"Nota T2: \"))\n",
    "T3 = float(input(\"Nota T3: \"))\n",
    "NP = float(input(\"Nota participación: \"))\n",
    "NF = 0.15 * (I1 + I2) + 0.3 * EX + 0.1 * (T1 + T2 + T3) + 0.1 * NP\n",
    "\n",
    "PEscritas = (I1 + I2 + 2*EX)/4\n",
    "PTareas = (T1 + T2 + T3)/3\n",
    "\n",
    "\n",
    "\n",
    "print(\"Tu nota final es\", NF)\n",
    "\n",
    "\n",
    "if PEscritas < 4 or PTareas < 4:\n",
    "    print('Lamentablemente repruebas igual =(')"
   ]
  }
 ],
 "metadata": {
  "anaconda-cloud": {},
  "kernelspec": {
   "display_name": "Python 3",
   "language": "python",
   "name": "python3"
  },
  "language_info": {
   "codemirror_mode": {
    "name": "ipython",
    "version": 3
   },
   "file_extension": ".py",
   "mimetype": "text/x-python",
   "name": "python",
   "nbconvert_exporter": "python",
   "pygments_lexer": "ipython3",
   "version": "3.7.1"
  }
 },
 "nbformat": 4,
 "nbformat_minor": 1
}
