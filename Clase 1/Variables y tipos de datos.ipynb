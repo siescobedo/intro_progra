{
 "cells": [
  {
   "cell_type": "markdown",
   "metadata": {
    "nbpresent": {
     "id": "25193827-4259-450c-bd75-d605ab0caedd"
    }
   },
   "source": [
    "# Clase 3\n",
    "\n",
    "## Tipos de datos\n",
    "\n",
    "En python y en todos los lenguajes de programación existen distintos tipos de datos con los que se puede trabajar. Algunos de los tipos más importantes y útiles son:\n",
    "\n",
    "- Números\n",
    "  - int:\n",
    "    Representan números enteros (Integer)\n",
    "  - float:\n",
    "    Representan números decimales (Floating Point)\n",
    "- Texto\n",
    "  - str:\n",
    "    Representan texto (Strings)\n",
    "- Booleanos\n",
    "  - bool:\n",
    "    Representan valores de verdad. Verdadero o falso (Boolean)"
   ]
  },
  {
   "cell_type": "code",
   "execution_count": 5,
   "metadata": {
    "nbpresent": {
     "id": "a6aa2774-b993-496f-8d4c-45230a8091bb"
    }
   },
   "outputs": [
    {
     "data": {
      "text/plain": [
       "3"
      ]
     },
     "execution_count": 5,
     "metadata": {},
     "output_type": "execute_result"
    }
   ],
   "source": [
    "3 #esto es un int"
   ]
  },
  {
   "cell_type": "code",
   "execution_count": 6,
   "metadata": {
    "nbpresent": {
     "id": "9ab7eb4a-ea10-42de-a202-82a61e268281"
    }
   },
   "outputs": [
    {
     "data": {
      "text/plain": [
       "3.0"
      ]
     },
     "execution_count": 6,
     "metadata": {},
     "output_type": "execute_result"
    }
   ],
   "source": [
    "3.0 #esto es un float"
   ]
  },
  {
   "cell_type": "code",
   "execution_count": 7,
   "metadata": {
    "nbpresent": {
     "id": "ce6fb198-27dd-4b21-ba88-8b37064aa3e7"
    }
   },
   "outputs": [
    {
     "data": {
      "text/plain": [
       "'Hola mundo con comillas dobles'"
      ]
     },
     "execution_count": 7,
     "metadata": {},
     "output_type": "execute_result"
    }
   ],
   "source": [
    "\"Hola mundo con comillas dobles\" #esto es un string"
   ]
  },
  {
   "cell_type": "code",
   "execution_count": 8,
   "metadata": {
    "nbpresent": {
     "id": "e1a51b5e-e1a1-43b2-96dc-c260ea8a6f2a"
    }
   },
   "outputs": [
    {
     "data": {
      "text/plain": [
       "'Hola mundo con comillas simples'"
      ]
     },
     "execution_count": 8,
     "metadata": {},
     "output_type": "execute_result"
    }
   ],
   "source": [
    "'Hola mundo con comillas simples' #esto también"
   ]
  },
  {
   "cell_type": "code",
   "execution_count": 9,
   "metadata": {},
   "outputs": [
    {
     "data": {
      "text/plain": [
       "\"Algo 'entre comillas'\""
      ]
     },
     "execution_count": 9,
     "metadata": {},
     "output_type": "execute_result"
    }
   ],
   "source": [
    "\"Algo 'entre comillas'\""
   ]
  },
  {
   "cell_type": "code",
   "execution_count": 11,
   "metadata": {
    "nbpresent": {
     "id": "6e87a8a7-7ea2-4076-8d2e-99be1a2a8d54"
    }
   },
   "outputs": [
    {
     "data": {
      "text/plain": [
       "True"
      ]
     },
     "execution_count": 11,
     "metadata": {},
     "output_type": "execute_result"
    }
   ],
   "source": [
    "True #esto es un boolean"
   ]
  },
  {
   "cell_type": "code",
   "execution_count": 12,
   "metadata": {
    "nbpresent": {
     "id": "3a178902-dd72-4bde-9742-9c8facbd86f6"
    }
   },
   "outputs": [
    {
     "data": {
      "text/plain": [
       "False"
      ]
     },
     "execution_count": 12,
     "metadata": {},
     "output_type": "execute_result"
    }
   ],
   "source": [
    "False #esto es otro boolean"
   ]
  },
  {
   "cell_type": "markdown",
   "metadata": {
    "nbpresent": {
     "id": "3319f0eb-4e7d-4cf5-8f61-c4061dfbeff1"
    }
   },
   "source": [
    "Como habrán notado, en las celdas anteriores al lado de los datos habían mensajes que partían con un signo #. Estos mensajes se denominan comentarios y no son ejecutados por el intérprete"
   ]
  },
  {
   "cell_type": "code",
   "execution_count": 13,
   "metadata": {
    "collapsed": true,
    "nbpresent": {
     "id": "60ce0af8-2ca1-4ddc-910a-b957407c8716"
    }
   },
   "outputs": [],
   "source": [
    "# Con el signo gato se puede comentar una línea individual\n",
    "# Hay que poner # al inicio de cada comentario"
   ]
  },
  {
   "cell_type": "code",
   "execution_count": 14,
   "metadata": {
    "nbpresent": {
     "id": "a05c701d-0135-4e74-86f1-df91e5e4dfee"
    }
   },
   "outputs": [
    {
     "ename": "SyntaxError",
     "evalue": "invalid syntax (<ipython-input-14-fc90247aa181>, line 1)",
     "output_type": "error",
     "traceback": [
      "\u001b[1;36m  File \u001b[1;32m\"<ipython-input-14-fc90247aa181>\"\u001b[1;36m, line \u001b[1;32m1\u001b[0m\n\u001b[1;33m    Si escriben cualquier cosa se generará un error\u001b[0m\n\u001b[1;37m              ^\u001b[0m\n\u001b[1;31mSyntaxError\u001b[0m\u001b[1;31m:\u001b[0m invalid syntax\n"
     ]
    }
   ],
   "source": [
    "Si escriben cualquier cosa se generará un error"
   ]
  },
  {
   "cell_type": "markdown",
   "metadata": {},
   "source": [
    "Pueden verificar de qué tipo es un dato utilizando la función `type`"
   ]
  },
  {
   "cell_type": "code",
   "execution_count": 15,
   "metadata": {},
   "outputs": [
    {
     "data": {
      "text/plain": [
       "int"
      ]
     },
     "execution_count": 15,
     "metadata": {},
     "output_type": "execute_result"
    }
   ],
   "source": [
    "type(4)"
   ]
  },
  {
   "cell_type": "code",
   "execution_count": 16,
   "metadata": {},
   "outputs": [
    {
     "data": {
      "text/plain": [
       "float"
      ]
     },
     "execution_count": 16,
     "metadata": {},
     "output_type": "execute_result"
    }
   ],
   "source": [
    "type(4.0)"
   ]
  },
  {
   "cell_type": "code",
   "execution_count": 17,
   "metadata": {},
   "outputs": [
    {
     "data": {
      "text/plain": [
       "str"
      ]
     },
     "execution_count": 17,
     "metadata": {},
     "output_type": "execute_result"
    }
   ],
   "source": [
    "type('string simple')"
   ]
  },
  {
   "cell_type": "code",
   "execution_count": 18,
   "metadata": {},
   "outputs": [
    {
     "data": {
      "text/plain": [
       "str"
      ]
     },
     "execution_count": 18,
     "metadata": {},
     "output_type": "execute_result"
    }
   ],
   "source": [
    "type(\"string doble\")"
   ]
  },
  {
   "cell_type": "code",
   "execution_count": 19,
   "metadata": {},
   "outputs": [
    {
     "data": {
      "text/plain": [
       "bool"
      ]
     },
     "execution_count": 19,
     "metadata": {},
     "output_type": "execute_result"
    }
   ],
   "source": [
    "type(True)"
   ]
  },
  {
   "cell_type": "code",
   "execution_count": 20,
   "metadata": {},
   "outputs": [
    {
     "data": {
      "text/plain": [
       "bool"
      ]
     },
     "execution_count": 20,
     "metadata": {},
     "output_type": "execute_result"
    }
   ],
   "source": [
    "type(False)"
   ]
  },
  {
   "cell_type": "markdown",
   "metadata": {},
   "source": [
    "# Operadores\n",
    "En todos los lenguajes también existen operadores, que permiten operar sobre los datos"
   ]
  },
  {
   "cell_type": "markdown",
   "metadata": {},
   "source": [
    "## Operadores sobre números"
   ]
  },
  {
   "cell_type": "markdown",
   "metadata": {},
   "source": [
    "### Suma"
   ]
  },
  {
   "cell_type": "code",
   "execution_count": 21,
   "metadata": {},
   "outputs": [
    {
     "data": {
      "text/plain": [
       "6"
      ]
     },
     "execution_count": 21,
     "metadata": {},
     "output_type": "execute_result"
    }
   ],
   "source": [
    "4 + 2"
   ]
  },
  {
   "cell_type": "markdown",
   "metadata": {},
   "source": [
    "### Resta"
   ]
  },
  {
   "cell_type": "code",
   "execution_count": 22,
   "metadata": {},
   "outputs": [
    {
     "data": {
      "text/plain": [
       "2"
      ]
     },
     "execution_count": 22,
     "metadata": {},
     "output_type": "execute_result"
    }
   ],
   "source": [
    "4 - 2"
   ]
  },
  {
   "cell_type": "markdown",
   "metadata": {},
   "source": [
    "### Negación (?)"
   ]
  },
  {
   "cell_type": "code",
   "execution_count": 23,
   "metadata": {},
   "outputs": [
    {
     "data": {
      "text/plain": [
       "-7"
      ]
     },
     "execution_count": 23,
     "metadata": {},
     "output_type": "execute_result"
    }
   ],
   "source": [
    "-7"
   ]
  },
  {
   "cell_type": "markdown",
   "metadata": {},
   "source": [
    "### Multiplicación"
   ]
  },
  {
   "cell_type": "code",
   "execution_count": 24,
   "metadata": {},
   "outputs": [
    {
     "data": {
      "text/plain": [
       "12"
      ]
     },
     "execution_count": 24,
     "metadata": {},
     "output_type": "execute_result"
    }
   ],
   "source": [
    "3 * 4"
   ]
  },
  {
   "cell_type": "markdown",
   "metadata": {},
   "source": [
    "### Exponenciación"
   ]
  },
  {
   "cell_type": "code",
   "execution_count": 25,
   "metadata": {},
   "outputs": [
    {
     "data": {
      "text/plain": [
       "8"
      ]
     },
     "execution_count": 25,
     "metadata": {},
     "output_type": "execute_result"
    }
   ],
   "source": [
    "2 ** 3"
   ]
  },
  {
   "cell_type": "markdown",
   "metadata": {},
   "source": [
    "### División"
   ]
  },
  {
   "cell_type": "code",
   "execution_count": 26,
   "metadata": {},
   "outputs": [
    {
     "data": {
      "text/plain": [
       "2.5"
      ]
     },
     "execution_count": 26,
     "metadata": {},
     "output_type": "execute_result"
    }
   ],
   "source": [
    "5 / 2"
   ]
  },
  {
   "cell_type": "markdown",
   "metadata": {},
   "source": [
    "### División entera"
   ]
  },
  {
   "cell_type": "code",
   "execution_count": 27,
   "metadata": {},
   "outputs": [
    {
     "data": {
      "text/plain": [
       "2"
      ]
     },
     "execution_count": 27,
     "metadata": {},
     "output_type": "execute_result"
    }
   ],
   "source": [
    "5 // 2"
   ]
  },
  {
   "cell_type": "markdown",
   "metadata": {},
   "source": [
    "### Módulo"
   ]
  },
  {
   "cell_type": "code",
   "execution_count": 28,
   "metadata": {},
   "outputs": [
    {
     "data": {
      "text/plain": [
       "4"
      ]
     },
     "execution_count": 28,
     "metadata": {},
     "output_type": "execute_result"
    }
   ],
   "source": [
    "11 % 7"
   ]
  },
  {
   "cell_type": "markdown",
   "metadata": {},
   "source": [
    "### Tabla resumen\n",
    "\n",
    "Operador | Descripción | Aridad | Predecendia\n",
    "--- | --- | --- | ---\n",
    "** | Exponente | Binario | 1\n",
    "+ | Identidad | Unario | 2\n",
    "- | Negación | Unario | 2\n",
    "* | Multiplicación | Binario | 3\n",
    "/ | División | Binario | 3\n",
    "// | División entera | Binario | 3\n",
    "% | Módulo | Binario | 3\n",
    "+ | Suma | Binario | 4\n",
    "- | Resta | Binario | 4\n",
    "\n",
    "\n",
    "Lo mejor es usar paréntesis para irse a la segura"
   ]
  },
  {
   "cell_type": "code",
   "execution_count": 29,
   "metadata": {},
   "outputs": [
    {
     "data": {
      "text/plain": [
       "10"
      ]
     },
     "execution_count": 29,
     "metadata": {},
     "output_type": "execute_result"
    }
   ],
   "source": [
    "3 - 2 + 9"
   ]
  },
  {
   "cell_type": "code",
   "execution_count": 30,
   "metadata": {},
   "outputs": [
    {
     "data": {
      "text/plain": [
       "-8"
      ]
     },
     "execution_count": 30,
     "metadata": {},
     "output_type": "execute_result"
    }
   ],
   "source": [
    "3 - (2 + 9)"
   ]
  },
  {
   "cell_type": "code",
   "execution_count": 31,
   "metadata": {},
   "outputs": [
    {
     "data": {
      "text/plain": [
       "7"
      ]
     },
     "execution_count": 31,
     "metadata": {},
     "output_type": "execute_result"
    }
   ],
   "source": [
    "1 + 3 * 2"
   ]
  },
  {
   "cell_type": "code",
   "execution_count": 32,
   "metadata": {},
   "outputs": [
    {
     "data": {
      "text/plain": [
       "8"
      ]
     },
     "execution_count": 32,
     "metadata": {},
     "output_type": "execute_result"
    }
   ],
   "source": [
    "(1 + 3) * 2"
   ]
  },
  {
   "cell_type": "code",
   "execution_count": 33,
   "metadata": {},
   "outputs": [
    {
     "data": {
      "text/plain": [
       "-4"
      ]
     },
     "execution_count": 33,
     "metadata": {},
     "output_type": "execute_result"
    }
   ],
   "source": [
    "-2 ** 2"
   ]
  },
  {
   "cell_type": "code",
   "execution_count": 34,
   "metadata": {},
   "outputs": [
    {
     "data": {
      "text/plain": [
       "4"
      ]
     },
     "execution_count": 34,
     "metadata": {},
     "output_type": "execute_result"
    }
   ],
   "source": [
    "(-2) ** 2"
   ]
  },
  {
   "cell_type": "code",
   "execution_count": 35,
   "metadata": {},
   "outputs": [
    {
     "data": {
      "text/plain": [
       "512"
      ]
     },
     "execution_count": 35,
     "metadata": {},
     "output_type": "execute_result"
    }
   ],
   "source": [
    "2 ** 3 ** 2"
   ]
  },
  {
   "cell_type": "code",
   "execution_count": 36,
   "metadata": {},
   "outputs": [
    {
     "data": {
      "text/plain": [
       "64"
      ]
     },
     "execution_count": 36,
     "metadata": {},
     "output_type": "execute_result"
    }
   ],
   "source": [
    "(2 ** 3) ** 2"
   ]
  },
  {
   "cell_type": "markdown",
   "metadata": {},
   "source": [
    "## Variables\n",
    "Un componente fundamental de todo lenguaje de programación son las variables. Estas nos permiten almacenar valores para poder trabajar con ellos más adelante.\n",
    "\n",
    "Más formalmente, una variable es un nombre simbólico utilizado para acceder a un valor almacenado en la memoria del programa\n",
    "\n",
    "Se habla de **asignación** al acto de dar valor a una variable\n",
    "\n",
    "Pare realizar una **asignación** se escribe el nombre de la variable seguido de un signo = y el valor que se desea asignar"
   ]
  },
  {
   "cell_type": "code",
   "execution_count": 38,
   "metadata": {},
   "outputs": [
    {
     "name": "stdout",
     "output_type": "stream",
     "text": [
      "El valor del área es: 28.273500000000002\n"
     ]
    }
   ],
   "source": [
    "r = 3\n",
    "pi = 3.1415\n",
    "area = pi * r ** 2\n",
    "print(\"El valor del área es:\", area)"
   ]
  },
  {
   "cell_type": "markdown",
   "metadata": {},
   "source": [
    "Como pueden notar en el ejemplo anterior, el valor que se asigna a una variable puede ser directamente un dato o el resultado de una operación entre variables.\n",
    "\n",
    "La función `print` permite imprimir en pantalla el valor de una variable (entre otras cosas)\n",
    "\n",
    "\n",
    "Veamos otro ejemplo:"
   ]
  },
  {
   "cell_type": "code",
   "execution_count": 39,
   "metadata": {},
   "outputs": [
    {
     "name": "stdout",
     "output_type": "stream",
     "text": [
      "4\n"
     ]
    }
   ],
   "source": [
    "ans = 5         #Asignamos el valor inicial a la variable ans\n",
    "ans = ans * 2   #Duplicamos su valor\n",
    "ans = ans ** 2  #Lo elevamos al cuadrado\n",
    "ans = ans % 6   #Le aplicamos módulo 6\n",
    "print(ans)      #Imprimos el resultado"
   ]
  },
  {
   "cell_type": "markdown",
   "metadata": {},
   "source": [
    "Como es frecuente querer modificar el valor de una variable utilizando su valor actual (como en el caso anterior), python provee una sintaxis especial para estos casos que nos permite ahorrar unos pocos caracteres:"
   ]
  },
  {
   "cell_type": "code",
   "execution_count": 40,
   "metadata": {},
   "outputs": [
    {
     "name": "stdout",
     "output_type": "stream",
     "text": [
      "4\n"
     ]
    }
   ],
   "source": [
    "ans = 5    #Asignamos el valor inicial a la variable ans\n",
    "ans *= 2   #Duplicamos su valor\n",
    "ans **= 2  #Lo elevamos al cuadrado\n",
    "ans %= 6   #Le aplicamos múdulo 6\n",
    "print(ans) #Imprimos el resultado"
   ]
  },
  {
   "cell_type": "markdown",
   "metadata": {},
   "source": [
    "Los nombres de las variables deben cumplir las siguientes reglas:\n",
    "1. Comenzar con '_' o una letra (sin ñ ni tildes)\n",
    "2. El resto pueden ser {a-z,A-Z,0-9,_} (sin ñ ni tildes)\n",
    "3. No puede ser una palabra reservada:\n",
    "  * ```python\n",
    "  and, assert, break, class, continue, def, del, elif, else, except, exec, finally, for,\n",
    "from, global, if, import, in, is, lambda, not, or, pass, print, raise, return, try,\n",
    "while, yield\n",
    "```\n",
    "\n",
    "**Ejemplo**: variable, variable_, _variable, Variable, VaRiable, etc..."
   ]
  },
  {
   "cell_type": "markdown",
   "metadata": {},
   "source": [
    "Por detrás, lo que hacen las variables es apuntar a una dirección en la memoria RAM donde se almacena el valor contenido en la variable.\n",
    "\n",
    "La función `id` nos permite ver la dirección a la que apunta una variable:"
   ]
  },
  {
   "cell_type": "code",
   "execution_count": 41,
   "metadata": {},
   "outputs": [
    {
     "name": "stdout",
     "output_type": "stream",
     "text": [
      "1622171840\n"
     ]
    }
   ],
   "source": [
    "a = 2\n",
    "print(id(a))"
   ]
  },
  {
   "cell_type": "markdown",
   "metadata": {},
   "source": [
    "La función `hex` transforma de decimal a hexadecimal, que es como se visualizan las direcciones de memoria normalmente"
   ]
  },
  {
   "cell_type": "code",
   "execution_count": 42,
   "metadata": {},
   "outputs": [
    {
     "data": {
      "text/plain": [
       "'0x60b060c0'"
      ]
     },
     "execution_count": 42,
     "metadata": {},
     "output_type": "execute_result"
    }
   ],
   "source": [
    "hex(id(a))"
   ]
  },
  {
   "cell_type": "markdown",
   "metadata": {},
   "source": [
    "Las variables son del tipo de datos que almacenan:"
   ]
  },
  {
   "cell_type": "code",
   "execution_count": 43,
   "metadata": {},
   "outputs": [
    {
     "data": {
      "text/plain": [
       "int"
      ]
     },
     "execution_count": 43,
     "metadata": {},
     "output_type": "execute_result"
    }
   ],
   "source": [
    "x = 3\n",
    "type(x)"
   ]
  },
  {
   "cell_type": "code",
   "execution_count": 44,
   "metadata": {},
   "outputs": [
    {
     "data": {
      "text/plain": [
       "float"
      ]
     },
     "execution_count": 44,
     "metadata": {},
     "output_type": "execute_result"
    }
   ],
   "source": [
    "x = 3.0\n",
    "type(x)"
   ]
  },
  {
   "cell_type": "code",
   "execution_count": 45,
   "metadata": {},
   "outputs": [
    {
     "data": {
      "text/plain": [
       "str"
      ]
     },
     "execution_count": 45,
     "metadata": {},
     "output_type": "execute_result"
    }
   ],
   "source": [
    "x = \"3\"\n",
    "type(x)"
   ]
  },
  {
   "cell_type": "code",
   "execution_count": 46,
   "metadata": {},
   "outputs": [
    {
     "data": {
      "text/plain": [
       "bool"
      ]
     },
     "execution_count": 46,
     "metadata": {},
     "output_type": "execute_result"
    }
   ],
   "source": [
    "x = True\n",
    "type(x)"
   ]
  },
  {
   "cell_type": "markdown",
   "metadata": {},
   "source": [
    "Es posible transformar de un tipo dato a otro. A esto se le denomina **casting** o **castear** informalmente en español. Para castear una variable 'x' se usan las funciones: int(x), float(x), str(x) o bool(x)"
   ]
  },
  {
   "cell_type": "code",
   "execution_count": 47,
   "metadata": {},
   "outputs": [
    {
     "name": "stdout",
     "output_type": "stream",
     "text": [
      "3\n"
     ]
    },
    {
     "data": {
      "text/plain": [
       "int"
      ]
     },
     "execution_count": 47,
     "metadata": {},
     "output_type": "execute_result"
    }
   ],
   "source": [
    "x = 3\n",
    "print(x)\n",
    "type(x)"
   ]
  },
  {
   "cell_type": "code",
   "execution_count": 48,
   "metadata": {},
   "outputs": [
    {
     "name": "stdout",
     "output_type": "stream",
     "text": [
      "3.0\n"
     ]
    },
    {
     "data": {
      "text/plain": [
       "float"
      ]
     },
     "execution_count": 48,
     "metadata": {},
     "output_type": "execute_result"
    }
   ],
   "source": [
    "x = float(x)\n",
    "print(x)\n",
    "type(x)"
   ]
  },
  {
   "cell_type": "code",
   "execution_count": 49,
   "metadata": {},
   "outputs": [
    {
     "name": "stdout",
     "output_type": "stream",
     "text": [
      "3.0\n"
     ]
    },
    {
     "data": {
      "text/plain": [
       "str"
      ]
     },
     "execution_count": 49,
     "metadata": {},
     "output_type": "execute_result"
    }
   ],
   "source": [
    "x = str(x)\n",
    "print(x)\n",
    "type(x)"
   ]
  },
  {
   "cell_type": "code",
   "execution_count": 54,
   "metadata": {},
   "outputs": [
    {
     "name": "stdout",
     "output_type": "stream",
     "text": [
      "False\n"
     ]
    },
    {
     "data": {
      "text/plain": [
       "bool"
      ]
     },
     "execution_count": 54,
     "metadata": {},
     "output_type": "execute_result"
    }
   ],
   "source": [
    "x = bool('')\n",
    "print(x)\n",
    "type(x)"
   ]
  },
  {
   "cell_type": "markdown",
   "metadata": {},
   "source": [
    "## Actividades\n",
    "### Calculando el promedio v1\n",
    "Escribe un programa que permita calcular el promedio final del curso. Por el momento no consideres las reglas que piden que el promedio de tareas y el promedio de evaluaciones escritas sea mayor a 4\n",
    "\n",
    "$$ NF = 0.15 * I1 + 0.15 * I2 + 0.3 * EX + 0.1 * T1 + 0.1 * T2 + 0.1 * T3 + 0.1 * NP$$"
   ]
  },
  {
   "cell_type": "code",
   "execution_count": 2,
   "metadata": {},
   "outputs": [
    {
     "name": "stdout",
     "output_type": "stream",
     "text": [
      "5.32\n"
     ]
    }
   ],
   "source": [
    "#Código del promedio\n",
    "\n",
    "I1 = 4.5\n",
    "I2 = 2.3\n",
    "EX = 7\n",
    "T1 = 7\n",
    "T2 = 6\n",
    "T3 = 4\n",
    "NP = 5\n",
    "\n",
    "NF = 0.15 * I1 + 0.15 * I2 + 0.3 * EX + 0.1 * T1 + 0.1 * T2 + 0.1 * T3 + 0.1 * NP\n",
    "\n",
    "print(NF)"
   ]
  },
  {
   "cell_type": "markdown",
   "metadata": {},
   "source": [
    "### Calculando el promedio v2\n",
    "La función `input` nos permite pedirle un string al usuario.\n",
    "\n",
    "Por ejemplo"
   ]
  },
  {
   "cell_type": "code",
   "execution_count": 3,
   "metadata": {},
   "outputs": [
    {
     "name": "stdout",
     "output_type": "stream",
     "text": [
      "¿Cuál es tu nombre? Miguel\n",
      "Miguel\n"
     ]
    }
   ],
   "source": [
    "nombre = input('¿Cuál es tu nombre? ')\n",
    "print(nombre)"
   ]
  },
  {
   "cell_type": "markdown",
   "metadata": {},
   "source": [
    "Pide al usuario sus notas y calcula su promedio final.\n",
    "\n",
    "**Ojo:** la función `input` solo recibe strings\n",
    "\n",
    "**Hint:** Recuerden que existe el **casting**"
   ]
  },
  {
   "cell_type": "code",
   "execution_count": 7,
   "metadata": {},
   "outputs": [
    {
     "name": "stdout",
     "output_type": "stream",
     "text": [
      "I1: siete\n"
     ]
    },
    {
     "ename": "ValueError",
     "evalue": "could not convert string to float: 'siete'",
     "output_type": "error",
     "traceback": [
      "\u001b[1;31m---------------------------------------------------------------------------\u001b[0m",
      "\u001b[1;31mValueError\u001b[0m                                Traceback (most recent call last)",
      "\u001b[1;32m<ipython-input-7-4fa9d9864137>\u001b[0m in \u001b[0;36m<module>\u001b[1;34m()\u001b[0m\n\u001b[0;32m      1\u001b[0m \u001b[1;31m### Código del promedio\u001b[0m\u001b[1;33m\u001b[0m\u001b[1;33m\u001b[0m\u001b[0m\n\u001b[0;32m      2\u001b[0m \u001b[1;33m\u001b[0m\u001b[0m\n\u001b[1;32m----> 3\u001b[1;33m \u001b[0mI1\u001b[0m \u001b[1;33m=\u001b[0m \u001b[0mfloat\u001b[0m\u001b[1;33m(\u001b[0m\u001b[0minput\u001b[0m\u001b[1;33m(\u001b[0m\u001b[1;34m'I1: '\u001b[0m\u001b[1;33m)\u001b[0m\u001b[1;33m)\u001b[0m\u001b[1;33m\u001b[0m\u001b[0m\n\u001b[0m\u001b[0;32m      4\u001b[0m \u001b[0mI2\u001b[0m \u001b[1;33m=\u001b[0m \u001b[0mfloat\u001b[0m\u001b[1;33m(\u001b[0m\u001b[0minput\u001b[0m\u001b[1;33m(\u001b[0m\u001b[1;34m'I2: '\u001b[0m\u001b[1;33m)\u001b[0m\u001b[1;33m)\u001b[0m\u001b[1;33m\u001b[0m\u001b[0m\n\u001b[0;32m      5\u001b[0m \u001b[0mEX\u001b[0m \u001b[1;33m=\u001b[0m \u001b[0mfloat\u001b[0m\u001b[1;33m(\u001b[0m\u001b[0minput\u001b[0m\u001b[1;33m(\u001b[0m\u001b[1;34m'EX: '\u001b[0m\u001b[1;33m)\u001b[0m\u001b[1;33m)\u001b[0m\u001b[1;33m\u001b[0m\u001b[0m\n",
      "\u001b[1;31mValueError\u001b[0m: could not convert string to float: 'siete'"
     ]
    }
   ],
   "source": [
    "### Código del promedio\n",
    "\n",
    "I1 = float(input('I1: '))\n",
    "I2 = float(input('I2: '))\n",
    "EX = float(input('EX: '))\n",
    "T1 = float(input('T1: '))\n",
    "T2 = float(input('T2: '))\n",
    "T3 = float(input('T3: '))\n",
    "NP = float(input('NP: '))\n",
    "\n",
    "NF = 0.15 * I1 + 0.15 * I2 + 0.3 * EX + 0.1 * T1 + 0.1 * T2 + 0.1 * T3 + 0.1 * NP\n",
    "\n",
    "print(NF)"
   ]
  },
  {
   "cell_type": "markdown",
   "metadata": {},
   "source": [
    "### Registrarse en Hackerrank\n",
    "\n",
    "Vayan a [Hackerrank](https://www.hackerrank.com/) y creen una cuenta. El nombre de usuario debe seguir la siguiente convención:\n",
    "\n",
    "iicGAAS_XXXXXXXX\n",
    "\n",
    "G = sección (e.g., 1)\n",
    "\n",
    "AA = Año (e.g 18)\n",
    "\n",
    "S = Semestre (e.g., 1)\n",
    "\n",
    "XXX = el usuario de @uc (si es mas largo de 8, se trunca). \n",
    "\n",
    "#### Ejemplos:\n",
    "\n",
    "iic1181_mofadic\n",
    "\n",
    "iic1181_gnmonsal"
   ]
  }
 ],
 "metadata": {
  "anaconda-cloud": {},
  "kernelspec": {
   "display_name": "Python 3",
   "language": "python",
   "name": "python3"
  },
  "language_info": {
   "codemirror_mode": {
    "name": "ipython",
    "version": 3
   },
   "file_extension": ".py",
   "mimetype": "text/x-python",
   "name": "python",
   "nbconvert_exporter": "python",
   "pygments_lexer": "ipython3",
   "version": "3.6.3"
  },
  "nbpresent": {
   "slides": {
    "0f6e88ad-f624-4caa-ab7e-192bcd3d45db": {
     "id": "0f6e88ad-f624-4caa-ab7e-192bcd3d45db",
     "prev": null,
     "regions": {
      "7ca8e2fd-4a10-48fe-ab5f-3d7d9671023b": {
       "attrs": {
        "height": 0.8,
        "width": 0.8,
        "x": 0.1,
        "y": 0.1
       },
       "content": {
        "cell": "25193827-4259-450c-bd75-d605ab0caedd",
        "part": "whole"
       },
       "id": "7ca8e2fd-4a10-48fe-ab5f-3d7d9671023b"
      }
     }
    },
    "13949aa3-85cc-4325-8156-a4a90b70d9fd": {
     "id": "13949aa3-85cc-4325-8156-a4a90b70d9fd",
     "prev": "bf1a2ab4-6c93-4d8f-8358-38b1bb296ff4",
     "regions": {
      "7692ef14-b663-47fe-8271-08cc73a9e9b8": {
       "attrs": {
        "height": 0.8,
        "width": 0.8,
        "x": 0.1,
        "y": 0.1
       },
       "content": {
        "cell": "60ce0af8-2ca1-4ddc-910a-b957407c8716",
        "part": "whole"
       },
       "id": "7692ef14-b663-47fe-8271-08cc73a9e9b8"
      }
     }
    },
    "1472c8df-f230-4b27-b618-c15412cdad79": {
     "id": "1472c8df-f230-4b27-b618-c15412cdad79",
     "prev": "54edad45-4147-4069-ac30-adf3517c7a67",
     "regions": {
      "99d44f91-2087-40b2-81f8-e41d6d36234d": {
       "attrs": {
        "height": 0.8,
        "width": 0.8,
        "x": 0.1,
        "y": 0.1
       },
       "content": {
        "cell": "ce6fb198-27dd-4b21-ba88-8b37064aa3e7",
        "part": "whole"
       },
       "id": "99d44f91-2087-40b2-81f8-e41d6d36234d"
      }
     }
    },
    "222da746-1e13-4ee5-9927-7609ea2457c6": {
     "id": "222da746-1e13-4ee5-9927-7609ea2457c6",
     "prev": "0f6e88ad-f624-4caa-ab7e-192bcd3d45db",
     "regions": {
      "83b8943a-9c6f-41d6-a10a-d5a90b6ac9db": {
       "attrs": {
        "height": 0.8,
        "width": 0.8,
        "x": 0.1,
        "y": 0.1
       },
       "content": {
        "cell": "a6aa2774-b993-496f-8d4c-45230a8091bb",
        "part": "whole"
       },
       "id": "83b8943a-9c6f-41d6-a10a-d5a90b6ac9db"
      }
     }
    },
    "54edad45-4147-4069-ac30-adf3517c7a67": {
     "id": "54edad45-4147-4069-ac30-adf3517c7a67",
     "prev": "222da746-1e13-4ee5-9927-7609ea2457c6",
     "regions": {
      "aacf2764-0507-4cd8-95bb-94f319adf03a": {
       "attrs": {
        "height": 0.8,
        "width": 0.8,
        "x": 0.1,
        "y": 0.1
       },
       "content": {
        "cell": "9ab7eb4a-ea10-42de-a202-82a61e268281",
        "part": "whole"
       },
       "id": "aacf2764-0507-4cd8-95bb-94f319adf03a"
      }
     }
    },
    "898bfe80-b6a7-4d55-ad16-a084dac235bf": {
     "id": "898bfe80-b6a7-4d55-ad16-a084dac235bf",
     "prev": "13949aa3-85cc-4325-8156-a4a90b70d9fd",
     "regions": {
      "9a110904-0177-4298-a27e-efb0e1f2b6cd": {
       "attrs": {
        "height": 0.8,
        "width": 0.8,
        "x": 0.1,
        "y": 0.1
       },
       "content": {
        "cell": "a05c701d-0135-4e74-86f1-df91e5e4dfee",
        "part": "whole"
       },
       "id": "9a110904-0177-4298-a27e-efb0e1f2b6cd"
      }
     }
    },
    "a7abb3a5-0cc4-4cbd-946b-2583d1dd0484": {
     "id": "a7abb3a5-0cc4-4cbd-946b-2583d1dd0484",
     "prev": "1472c8df-f230-4b27-b618-c15412cdad79",
     "regions": {
      "2811763d-34d1-46af-a235-fc861e135b1e": {
       "attrs": {
        "height": 0.8,
        "width": 0.8,
        "x": 0.1,
        "y": 0.1
       },
       "content": {
        "cell": "e1a51b5e-e1a1-43b2-96dc-c260ea8a6f2a",
        "part": "whole"
       },
       "id": "2811763d-34d1-46af-a235-fc861e135b1e"
      }
     }
    },
    "bf1a2ab4-6c93-4d8f-8358-38b1bb296ff4": {
     "id": "bf1a2ab4-6c93-4d8f-8358-38b1bb296ff4",
     "prev": "f38248a9-99c0-4808-87ba-5fa1350e17d4",
     "regions": {
      "2873cfbc-c8c2-4514-8295-5b4322edad3e": {
       "attrs": {
        "height": 0.8,
        "width": 0.8,
        "x": 0.1,
        "y": 0.1
       },
       "content": {
        "cell": "3319f0eb-4e7d-4cf5-8f61-c4061dfbeff1",
        "part": "whole"
       },
       "id": "2873cfbc-c8c2-4514-8295-5b4322edad3e"
      }
     }
    },
    "dc1e6929-5a28-4723-a9f9-829a20a48f33": {
     "id": "dc1e6929-5a28-4723-a9f9-829a20a48f33",
     "prev": "a7abb3a5-0cc4-4cbd-946b-2583d1dd0484",
     "regions": {
      "1b195a6d-e2a2-4c47-bc39-72a95a819d8d": {
       "attrs": {
        "height": 0.8,
        "width": 0.8,
        "x": 0.1,
        "y": 0.1
       },
       "content": {
        "cell": "6e87a8a7-7ea2-4076-8d2e-99be1a2a8d54",
        "part": "whole"
       },
       "id": "1b195a6d-e2a2-4c47-bc39-72a95a819d8d"
      }
     }
    },
    "f38248a9-99c0-4808-87ba-5fa1350e17d4": {
     "id": "f38248a9-99c0-4808-87ba-5fa1350e17d4",
     "prev": "dc1e6929-5a28-4723-a9f9-829a20a48f33",
     "regions": {
      "32c298cb-fc3c-4b87-aeac-e63576dab8d3": {
       "attrs": {
        "height": 0.8,
        "width": 0.8,
        "x": 0.1,
        "y": 0.1
       },
       "content": {
        "cell": "3a178902-dd72-4bde-9742-9c8facbd86f6",
        "part": "whole"
       },
       "id": "32c298cb-fc3c-4b87-aeac-e63576dab8d3"
      }
     }
    }
   },
   "themes": {
    "default": "eb9f0d88-2c44-471f-ba89-7e3b7951c444",
    "theme": {}
   }
  }
 },
 "nbformat": 4,
 "nbformat_minor": 1
}
